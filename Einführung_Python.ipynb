{
  "cells": [
    {
      "cell_type": "markdown",
      "metadata": {
        "id": "view-in-github",
        "colab_type": "text"
      },
      "source": [
        "<a href=\"https://colab.research.google.com/github/SproutCoder/q4.0/blob/main/Einf%C3%BChrung_Python.ipynb\" target=\"_parent\"><img src=\"https://colab.research.google.com/assets/colab-badge.svg\" alt=\"Open In Colab\"/></a>"
      ]
    },
    {
      "cell_type": "markdown",
      "metadata": {
        "id": "x98Z_Xv4HNF7"
      },
      "source": [
        "# **Einführung Python** 🐍\n",
        "\n",
        "Im folgenden Notebook lernt Ihr die ersten wichtigsten Programmier Konzepte kennen.\n",
        "\n",
        "Generelle Infos zu Python:\n",
        "\n",
        "* freie, höhere Programmiersprache:\n",
        "\n",
        "* mit dem Ziel guter Programmlesbarkeit entworfen\n",
        "\n",
        "* innerhalb der KI-Welt tonangebende Coding-Sprache\n",
        "\n",
        "* funktionsfähig auf allen Betriebssystemen\n",
        "\n",
        "* perfekt für Anfänger geeignet\n",
        "\n",
        "Vorteile: einfache Strukturen, mit am weitesten Verbreitet, man benötigt nur einen Computer (und Internet), Vielfältige Einsatzbereiche, kann Aufgaben automatisieren\n",
        "\n",
        "***Viel Spaß beim Programmieren!!***"
      ]
    },
    {
      "cell_type": "markdown",
      "metadata": {
        "id": "Y2i8bz-Jbl7S"
      },
      "source": [
        "# Zu beginn schauen wir uns die Print-Funktion an!\n",
        "\n",
        "Die Funktion\n",
        "\n",
        "    print()\n",
        "    \n",
        "gibt die angegebene Nachricht auf dem Bildschirm oder einem anderen Standardausgabegerät aus. Print bedeutet nicht mehr als drucken und ist somit eine Funktion, um etwas auf dem Bildschirm auszugeben.\n",
        "\n",
        "Die Nachricht kann eine Zeichenfolge oder ein beliebiges anderes Objekt sein. Das Objekt wird in eine Zeichenfolge konvertiert, bevor es auf den Bildschirm ausgegeben wird.\n",
        "\n"
      ]
    },
    {
      "cell_type": "markdown",
      "metadata": {
        "id": "RXn48Od8iPFr"
      },
      "source": [
        "# Strings\n",
        "\n",
        "Strings sind Zeichenketten, also Texte.\n",
        "Man kann einfache (') oder doppelte (\") Anführungszeichen benutzen, um einen String zu erzeugen. Wichtig ist, dass am Anfang und Ende eines Strings die gleiche Art von Anführungszeichen benutzt werden.\n",
        "\n"
      ]
    },
    {
      "cell_type": "code",
      "execution_count": null,
      "metadata": {
        "colab": {
          "base_uri": "https://localhost:8080/"
        },
        "id": "5EtV_wWMEXgG",
        "outputId": "07c7aa73-28c4-41ad-c8e1-6481d296b62c"
      },
      "outputs": [
        {
          "output_type": "stream",
          "name": "stdout",
          "text": [
            "Q40\n"
          ]
        }
      ],
      "source": [
        "#Lasse dir hier einen beliebigen Text ausgeben, dafür musst du Print und Strings verbinden:\n",
        "\n",
        "print('Q40')\n"
      ]
    },
    {
      "cell_type": "code",
      "execution_count": null,
      "metadata": {
        "id": "0tt7ui7D1nxs",
        "colab": {
          "base_uri": "https://localhost:8080/"
        },
        "outputId": "3d22975d-ce88-4f1e-d24e-fdbf2542d2f2"
      },
      "outputs": [
        {
          "output_type": "stream",
          "name": "stdout",
          "text": [
            "alexa\n"
          ]
        }
      ],
      "source": [
        "#Hier ist Platz für deinen Code\n",
        "\n",
        "print(\"alexa\")"
      ]
    },
    {
      "cell_type": "markdown",
      "metadata": {
        "id": "GH18uUY3cdGX"
      },
      "source": [
        "# Variablen\n",
        "\n",
        "Variablen sind wie Schubladen zum Speichern von Datenwerten.\n",
        "\n",
        "Eine Variable erstellt man, in dem man ihr einen Wert zuweist.\n",
        "\n",
        "    variable = XYZ\n",
        "\n",
        "Wenn wir die Variable ausgeben wollen, können wir das mit der Print Funktion tun:\n",
        "\n",
        "    print(variable)\n",
        "\n",
        "\n",
        "Uns wird dann XYZ angezeigt.\n",
        "\n",
        "Versucht es einmal selber:\n",
        "\n",
        "Legt eine Variable für\n",
        "\n",
        "- laenge\n",
        "- breite\n",
        "\n",
        "an. Bei den Variablen soll es sich um Zahlenwerte handeln.\n",
        "Anschließend sollen die Variablen Multipliziert werden. Da reicht es aus\n",
        "\n",
        "    laenge * breite\n",
        "\n",
        "in die dritte Zeile des Codes zu schreiben."
      ]
    },
    {
      "cell_type": "code",
      "execution_count": null,
      "metadata": {
        "id": "ucfLGU7nGGEa"
      },
      "outputs": [],
      "source": [
        "#Aufgabe zur Variable:\n",
        "\n",
        "\n"
      ]
    },
    {
      "cell_type": "markdown",
      "source": [
        "## Beispiel Lösung\n",
        "\n"
      ],
      "metadata": {
        "id": "DsEoF7Ae38n5"
      }
    },
    {
      "cell_type": "code",
      "execution_count": null,
      "metadata": {
        "colab": {
          "base_uri": "https://localhost:8080/"
        },
        "id": "12hbuefFf35k",
        "outputId": "e60f1c87-9796-40cc-85c4-4ad50693a740"
      },
      "outputs": [
        {
          "output_type": "execute_result",
          "data": {
            "text/plain": [
              "75"
            ]
          },
          "metadata": {},
          "execution_count": 2
        }
      ],
      "source": [
        "laenge = 15\n",
        "breite= 5\n",
        "laenge * breite"
      ]
    },
    {
      "cell_type": "markdown",
      "metadata": {
        "id": "OqoRQjB4hIvD"
      },
      "source": [
        "**Variable + Print**\n",
        "\n",
        "Eine weitere Möglichkeit wäre es eine dritte Variable anzulegen die wir flaeche nennen. Dieser können wir die Multiplikation (laenge * breite) zufügen.\n",
        "Mit der Print Funktion können wir uns die flaeche ausgeben lassen\n",
        "\n",
        "    print(flaeche)\n"
      ]
    },
    {
      "cell_type": "code",
      "execution_count": null,
      "metadata": {
        "id": "juA9sIihiAV7"
      },
      "outputs": [],
      "source": [
        "#Aufgabe Variable + Print"
      ]
    },
    {
      "cell_type": "markdown",
      "source": [
        "### Beispiel Lösung"
      ],
      "metadata": {
        "id": "eOsEyVIt5tOu"
      }
    },
    {
      "cell_type": "code",
      "execution_count": null,
      "metadata": {
        "colab": {
          "base_uri": "https://localhost:8080/"
        },
        "id": "Pssgt9xQGSW9",
        "outputId": "1f2b4f82-31af-49c8-b0ca-e5ce111b398e"
      },
      "outputs": [
        {
          "name": "stdout",
          "output_type": "stream",
          "text": [
            "75\n"
          ]
        }
      ],
      "source": [
        "laenge = 15\n",
        "breite = 5\n",
        "flaeche = laenge * breite\n",
        "print(flaeche)"
      ]
    },
    {
      "cell_type": "markdown",
      "metadata": {
        "id": "TSnoBVtwjQ4U"
      },
      "source": [
        "# Strings plus Variable\n",
        "\n",
        "Lege nun eine Variable für deinen Namen an:\n",
        "\n",
        "    vorname = \"_____\"\n",
        "    nachname = \"_______\"\n",
        "\n",
        "Wenn du vorname + nachname in die dritte Zeile des Codes einfügst, kannst du deinen ganzen Namen ausgeben lassen.\n"
      ]
    },
    {
      "cell_type": "code",
      "execution_count": null,
      "metadata": {
        "id": "NoWPJ-EBj2Az"
      },
      "outputs": [],
      "source": [
        "#Stringgs+Variable"
      ]
    },
    {
      "cell_type": "markdown",
      "source": [
        "### Beispiel Lösung"
      ],
      "metadata": {
        "id": "CWifcC0w5351"
      }
    },
    {
      "cell_type": "code",
      "execution_count": null,
      "metadata": {
        "colab": {
          "base_uri": "https://localhost:8080/",
          "height": 35
        },
        "id": "R-begGwbGw8o",
        "outputId": "527a4034-5b69-4cd0-87be-299b4ed898ea"
      },
      "outputs": [
        {
          "data": {
            "application/vnd.google.colaboratory.intrinsic+json": {
              "type": "string"
            },
            "text/plain": [
              "'RobertaNepo'"
            ]
          },
          "execution_count": 5,
          "metadata": {},
          "output_type": "execute_result"
        }
      ],
      "source": [
        "#Beispiel Lösung\n",
        "vorname = \"Roberta\"\n",
        "nachname = \"Nepo\"\n",
        "vorname + nachname"
      ]
    },
    {
      "cell_type": "markdown",
      "metadata": {
        "id": "bjkO4PZckOzh"
      },
      "source": [
        "# Schleifen (Die For-Schleife)\n",
        "\n",
        "Eine Python For Schleife ist eine Kontrollstruktur, mit der man eine Gruppe von Anweisungen in einem Block der For Schleife mit einer bestimmten Anzahl von Wiederholungen bzw. Listen-Argumenten ausführen kann. Dabei unterscheidet sich die Python For Schleife im Vergleich zu anderen Programmiersprachen enorm. In Python dient die For Schleife zur mehrfachen Wiederholung gleicher oder ähnlicher Anweisungen über eine Folge von Objekten. Eine Python For Schleife durchläuft also eine vorgegebene Liste, wobei auf einzelne Werte dieser Liste direkt zugegriffen werden kann. Somit ist die For Schleife in Python mit Listen eng verknüpft. [*](https://www.sivakids.de/python-for-schleife/)\n",
        "\n",
        "**Folgend ein Beispiel einer For-Schleife mit einer Liste.**\n",
        "*Zuerst ist es jedoch wichtig zu erwähnen, das Listen mit eckigen Klammern [ ] erstellt werden.*\n",
        "\n",
        "Zuerst wird wieder eine Variable angelegt\n",
        "\n",
        "    Kursteilnehmer = [\"Teilnehmer1\", \"Teilnehmer2\", \"Teilnehmer3\"]\n",
        "\n",
        "Nun die for-Schleife =\n",
        "\n",
        "    for teilnehmer in Gruppenteilnehmer:\n",
        "      print(teilnehmer)\n",
        "\n"
      ]
    },
    {
      "cell_type": "code",
      "execution_count": null,
      "metadata": {
        "colab": {
          "base_uri": "https://localhost:8080/"
        },
        "id": "XmE3HZ8Yx3z4",
        "outputId": "a111332c-50d6-46a3-abe7-d25f5b9da7e8"
      },
      "outputs": [
        {
          "output_type": "stream",
          "name": "stdout",
          "text": [
            "Teilnehmer1\n",
            "Teilnehmer2\n",
            "Teilnehmer3\n"
          ]
        }
      ],
      "source": [
        "#Demonstration zum anlegen einer Teilnehmerliste mit for-Schleife:\n",
        "kursteilnehmer = [\"Teilnehmer1\",\"Teilnehmer2\",\"Teilnehmer3\"]\n",
        "for teilnehmer in kursteilnehmer:\n",
        "  print(teilnehmer)\n"
      ]
    },
    {
      "cell_type": "code",
      "execution_count": null,
      "metadata": {
        "id": "Mmat6fNOyl-a"
      },
      "outputs": [],
      "source": [
        "#Programmiere deine eigene For-Schleife, nenne die Variable Farbpalette (Rot, Grün, Blau) und benutze für for Farbe:"
      ]
    },
    {
      "cell_type": "markdown",
      "metadata": {
        "id": "EQiW5yCwylTh"
      },
      "source": [
        "# Schleifen (Die while-Schleife)\n",
        "\n",
        "Die while- Schleife wiederholt Anweisungen bzw. Codepakete. Dabei wird die Wiederholung so lange ausgeführt, bis eine Bedingung erreicht ist.\n",
        "\n",
        "Schaue dir das Beispiel unten einmal an:\n",
        "\n",
        "Dort wird von eins bis 100 gezählt und jeweils der aktuelle Stand ausgegeben. Die Variable = V ist zu Beginn auf einen Startwert gesetzt,  der Wert ist = 0. Dann wird im Schleifenkopf, hinter dem while, die Abbruchbedingung formuliert: V <= 100. Die while-Schleife wiederholt sich also so lange, wie V kleiner oder gleich 100 ist.\n"
      ]
    },
    {
      "cell_type": "code",
      "execution_count": null,
      "metadata": {
        "colab": {
          "base_uri": "https://localhost:8080/"
        },
        "id": "eRMlqKHc03ZM",
        "outputId": "29dc143e-4c3e-46d2-d3c7-99682a1411a9"
      },
      "outputs": [
        {
          "name": "stdout",
          "output_type": "stream",
          "text": [
            "0\n",
            "1\n",
            "2\n",
            "3\n",
            "4\n",
            "5\n",
            "6\n",
            "7\n",
            "8\n",
            "9\n",
            "10\n",
            "11\n",
            "12\n",
            "13\n",
            "14\n",
            "15\n",
            "16\n",
            "17\n",
            "18\n",
            "19\n",
            "20\n",
            "21\n",
            "22\n",
            "23\n",
            "24\n",
            "25\n",
            "26\n",
            "27\n",
            "28\n",
            "29\n",
            "30\n",
            "31\n",
            "32\n",
            "33\n",
            "34\n",
            "35\n",
            "36\n",
            "37\n",
            "38\n",
            "39\n",
            "40\n",
            "41\n",
            "42\n",
            "43\n",
            "44\n",
            "45\n",
            "46\n",
            "47\n",
            "48\n",
            "49\n",
            "50\n",
            "51\n",
            "52\n",
            "53\n",
            "54\n",
            "55\n",
            "56\n",
            "57\n",
            "58\n",
            "59\n",
            "60\n",
            "61\n",
            "62\n",
            "63\n",
            "64\n",
            "65\n",
            "66\n",
            "67\n",
            "68\n",
            "69\n",
            "70\n",
            "71\n",
            "72\n",
            "73\n",
            "74\n",
            "75\n",
            "76\n",
            "77\n",
            "78\n",
            "79\n",
            "80\n",
            "81\n",
            "82\n",
            "83\n",
            "84\n",
            "85\n",
            "86\n",
            "87\n",
            "88\n",
            "89\n",
            "90\n",
            "91\n",
            "92\n",
            "93\n",
            "94\n",
            "95\n",
            "96\n",
            "97\n",
            "98\n",
            "99\n",
            "100\n",
            "100 erreicht\n"
          ]
        }
      ],
      "source": [
        "V = 0\n",
        "while V <= 100:\n",
        "  print(V)\n",
        "  V = V + 1\n",
        "print(\"100 erreicht\")"
      ]
    },
    {
      "cell_type": "code",
      "execution_count": null,
      "metadata": {
        "id": "hSGz7NjB2GJv"
      },
      "outputs": [],
      "source": [
        "#Hier kannst du das ganze mal selber versuchen, wie wäre es das Programm bis 20 zählen zu lassen?"
      ]
    },
    {
      "cell_type": "markdown",
      "metadata": {
        "id": "2AinkFKO2FIi"
      },
      "source": [
        "# if-Bedingung (Wenn-Dann)\n",
        "\n",
        "Die if-Bedingung in Python ist eine der elementarsten Aktionen, die man durchführen kann. Hiermit lassen sich nämlich Entscheidungen treffen, die in der Ausführung dann zum Durchlaufen eines alternativen Programmzweigs führen. Man kann das Prinzip auch so zusammenfassen: “Wenn dies, dann mach das”. [*](https://www.sivakids.de/python-if-bedingung/)\n",
        "\n",
        "Hier eine Tabelle der Vergleichsoperatoren:\n",
        "![grafik.png](data:image/png;base64,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)\n",
        "\n",
        "\n",
        "Schauen wir uns nun ein Beispiel an:\n",
        "    \n",
        "    wert = 9\n",
        "    if wert < 5:\n",
        "      print('Wert ist kleiner als 5')\n",
        "    elif wert == 5:\n",
        "      print('Wert ist exakt 5')\n",
        "    else:\n",
        "      print('Wert ist größer als 5')\n",
        "\n",
        "Unsere Variable zeigt den Wert 9. Also ist 9 gegeben. Wenn (if) der Wert kleiner als 5 ist, möchten wir das unser Programm diese Feststellung ausgibt. Ist der Wert gleich 5 soll unser Programm das auch ausgeben. Dazu brauchen wir eine Abfrage innerhalb der Abfrage. Und dazu kennt Python den Befehl elif. Das bedeutet elsif als auf deutsch: sonst. Trifft unsere Bedingung unter elif auch nicht zu, dann kommt die Alternative unter else zum Tragen. Bei allem über 5 soll uns das Programm ausgeben das der Wert größer ist.\n",
        "\n",
        "**Wichtig ist: dass nach der if-Abfrage das weitere, was zu der if-Abfrage gehört, eingerückt wird! In dem Fall unsere Ausgabe- print('_')**"
      ]
    },
    {
      "cell_type": "code",
      "execution_count": null,
      "metadata": {
        "colab": {
          "base_uri": "https://localhost:8080/"
        },
        "id": "rNE4bZ7H9rvT",
        "outputId": "fe9e6b6d-3fdc-4327-906d-0b9334e420f4"
      },
      "outputs": [
        {
          "output_type": "stream",
          "name": "stdout",
          "text": [
            "Wert ist exakt 5\n"
          ]
        }
      ],
      "source": [
        "#Beispiel\n",
        "wert = 5\n",
        "if wert < 5:\n",
        "    print('Wert ist kleiner als 5')\n",
        "elif wert == 5:\n",
        "    print('Wert ist exakt 5')\n",
        "else:\n",
        "    print('Wert ist größer als 5')"
      ]
    },
    {
      "cell_type": "code",
      "execution_count": null,
      "metadata": {
        "id": "wvSeUSYE_a4g"
      },
      "outputs": [],
      "source": [
        "#Ändere doch nun einmal die Werte und Probiere den Befehl aus:"
      ]
    }
  ],
  "metadata": {
    "colab": {
      "provenance": [],
      "include_colab_link": true
    },
    "kernelspec": {
      "display_name": "Python 3",
      "name": "python3"
    },
    "language_info": {
      "name": "python"
    }
  },
  "nbformat": 4,
  "nbformat_minor": 0
}