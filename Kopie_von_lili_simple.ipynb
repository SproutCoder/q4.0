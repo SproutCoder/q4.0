{
  "nbformat": 4,
  "nbformat_minor": 0,
  "metadata": {
    "colab": {
      "provenance": [],
      "authorship_tag": "ABX9TyMxs8DYBLYCql/GKAvX/Zgk",
      "include_colab_link": true
    },
    "kernelspec": {
      "name": "python3",
      "display_name": "Python 3"
    },
    "language_info": {
      "name": "python"
    }
  },
  "cells": [
    {
      "cell_type": "markdown",
      "metadata": {
        "id": "view-in-github",
        "colab_type": "text"
      },
      "source": [
        "<a href=\"https://colab.research.google.com/github/SproutCoder/q4.0/blob/main/Kopie_von_lili_simple.ipynb\" target=\"_parent\"><img src=\"https://colab.research.google.com/assets/colab-badge.svg\" alt=\"Open In Colab\"/></a>"
      ]
    },
    {
      "cell_type": "markdown",
      "source": [
        "# 😊 Chatbot LILI (EN) - basic version\n",
        "\n",
        "In diesem Jupyter-Notebook programmieren wir einen Chatbot, der wie ELIZA Aussagesätze in Fragesätze umwandelt. Das Programm beschränkt sich auf einfache Aussagestätze. Damit die Umwandlung funktioniert muss der Satz mit \"Ich\" beginnen. Darauf muss ein Verb folgen.\n",
        "Daraus wird eine Fragesatz gemacht, in dem der Satzanfang zu \"Why\" geändert wird. Darauf folgt ein Verb. Der Rest des Satzes wird übernommen. Der Punkt am Ende des Satzes wird jedoch durch ein Fragezecihen ersetzt.\n",
        "\n",
        "Diese einfach Version funktioniert nur mit Englischen Sätzen, weil da weniger beachtet werden muss. Zum Beispiel antwort LILI auf die Aussgae \"I like trains.\" \"Why do you like trains?\".\n",
        "\n",
        "Wenn man eine deutsche Version programmiert, dann muss man darauf achten, dass das Verb richtig konjugiert wird, also bei der Frage die zweite Person statt der ersten verwendet wird. Zum Beispiel wird aus \"Ich *mag* Züge?\" \"Warum *magst* Du Züge?\"."
      ],
      "metadata": {
        "id": "noTpCTj4K5k3"
      }
    },
    {
      "cell_type": "markdown",
      "source": [
        "## 💻 Übung"
      ],
      "metadata": {
        "id": "m9e6At0DQWIu"
      }
    },
    {
      "cell_type": "markdown",
      "source": [
        "Im folgenden steht eine Schritt-für-Schritt-Anleitung, wie wir einen solchen Chatbot selbst programmieren können. Die Schritte sind teilweise herausfordernd, wenn du nicht weiterkommst, scheue dich nicht, in die Lösungen zu schauen."
      ],
      "metadata": {
        "id": "bQfy1c18Ys7F"
      }
    },
    {
      "cell_type": "markdown",
      "source": [
        "1. Definiere  eine Funktion namens `lili()`, die keine Eingabeparameter benötigt.\n",
        "2. Verwende eine `while`-Schleife, die immer `True` ist,  um den Benutzer wiederholt nach einer Aussage zu fragen und eine Antwort zu erzeugen, bis der Benutzer die Konversation beendet.\n",
        "3. Verwende innerhalb der Schleife die Funktion `input()`, um den Benutzer zur Eingabe einer Aussage aufzufordern.\n",
        "4. Prüfe, ob der Benutzer die Konversation beenden möchte, indem die Anweisung mit der Zeichenkette `\"bye\"` (Groß- und Kleinschreibung wird nicht berücksichtigt) mit der Methode `lower()` verglichen wird.\n",
        "  * *Wenn* die Anweisung übereinstimmt,\n",
        "    * *dann* gib eine Abschiedsnachricht aus (mit `print()`)und\n",
        "    * verlassen die Schleife mit der `break`-Anweisung.\n",
        "5. Prüfe, ob die Anweisung das richtige Format hat, indem Du eine `if`-Anweisung verwendst, um zwei Bedingungen zu testen:\n",
        "  * (a) die Anweisung beginnt mit `\"I \"` und\n",
        "  * (b) die Anweisung enthält ein *Leerzeichen*.\n",
        "  * *Wenn* eine der beiden Bedingungen *falsch* ist,\n",
        "    * gib mit der Funktion `print()` eine Fehlermeldung aus und\n",
        "    * verwende die `continue`-Anweisung, um zur nächsten Iteration der Schleife zu springen.\n",
        "6. Extrahiere das Verb und das Objekt aus der Anweisung, indem\n",
        "  * die Zeichenkette `statement` mit der Methode` split()` in eine Liste von Wörtern zerlegen\n",
        "  * dann auf das zweite Element der Liste (das Verb) zugreifen und\n",
        "  * die übrigen Elemente der Liste mit der Methode `join()` zu einer einzigen Zeichenkette (dem Objekt) zusammenfügen.\n",
        "7. Konstruiere eine Antwort mit dem Verb und dem Objekt im richtigen Format, indem eine Zeichenkette mit `\"Why do you \"` und den Variablen für das Verb und das Objekt aneinanderhängen.\n",
        "8. Gib die Antwort mit der Funktion` print()` aus."
      ],
      "metadata": {
        "id": "iDPJMG4EQXwy"
      }
    },
    {
      "cell_type": "code",
      "source": [
        "# 1. Definiere die Funktion\n",
        "def lili():\n",
        "# 2. Verwende while-Schleife\n",
        "    while True:\n",
        "        # 3. Aufforderung an den Benutzer, eine Aussage zu machen\n",
        "        statement = #DEIN CODE HIER\n",
        "\n",
        "        # 4. Prüfe, ob der Benutzer die Unterhaltung beenden will\n",
        "        if statement.lower() == # DEIN CODE HIER | überprüfe, ob 'bye' gesagt wurde\n",
        "            #DEIN CODE HIER | gib eine Abschiedsnachricht aus\n",
        "            #DEIN CODE HIER | verlasse die Schleife mit der break-Anweisung\n",
        "\n",
        "        # 5. Prüfe, ob die Aussage das richtige Format hat\n",
        "        if not statement.startswith(\"I \") or \" \" not in statement:\n",
        "            # DEIN CODE HIER | gib eine Fehlermeldung aus\n",
        "             #DEIN CODE HIER | verwende die continue-Anweisung um an den Anfang der Schleife zu springen\n",
        "\n",
        "        # 6. Extrahiere Verb und Objekt vom Aussagesatz\n",
        "        words = # DEIN CODE HIER | statement mit der Methode split() in eine Liste von Wörtern zerlegen\n",
        "        verb = # DEIN CODE HIER | auf das zweite Element von der Liste words zugreifen- Hinweis: Listen beginnen bei Index 0 und nicht 1\n",
        "        obj = \" \".join(words[2:]) #die übrigen Elemente der Liste mit der Methode `join()` zu einer einzigen Zeichenkette (dem Objekt) zusammenfügen.\n",
        "\n",
        "        # 7. Konstruiere eine Antwort mit dem Verb und dem Objekt im richtigen Format\n",
        "        response = \"Lili: Why do you \" + verb + #DEIN CODE HIER | ergänze was fehlt für die vollständige Antwort\n",
        "\n",
        "        # 8. Gib die Antwort aus\n",
        "        #DEIN CODE HIER | Antwort ausgeben lassen"
      ],
      "metadata": {
        "id": "SKnXGbX4QXTu"
      },
      "execution_count": null,
      "outputs": []
    },
    {
      "cell_type": "code",
      "source": [
        "# wenn lili() fertig programmiert wurde, dann führe die Funktion aus und starte eine Unterhaltung:\n",
        "lili()"
      ],
      "metadata": {
        "id": "5CBp9Ce6XEmV"
      },
      "execution_count": null,
      "outputs": []
    },
    {
      "cell_type": "markdown",
      "source": [
        "## ✔️ Lösungen"
      ],
      "metadata": {
        "id": "qwfzAqm_QUBN"
      }
    },
    {
      "cell_type": "markdown",
      "source": [
        "#### Lösung 3. Abschnitt"
      ],
      "metadata": {
        "id": "hkrc7QAHVnG2"
      }
    },
    {
      "cell_type": "code",
      "source": [
        "# 3. Aufforderung an den Benutzer, eine Aussage zu machen\n",
        "        statement = input(\"You: \")"
      ],
      "metadata": {
        "id": "36j25U-7VuMH"
      },
      "execution_count": null,
      "outputs": []
    },
    {
      "cell_type": "markdown",
      "source": [
        "#### Lösung - 4. Abschnitt"
      ],
      "metadata": {
        "id": "8qt_i8k2WFtH"
      }
    },
    {
      "cell_type": "code",
      "source": [
        "# 4. Prüfe, ob der Benutzer die Unterhaltung beenden will\n",
        "if statement.lower() == \"bye\":\n",
        "  print(\"Lili: Goodbye!\")\n",
        "  break"
      ],
      "metadata": {
        "id": "n85bMPmBWJcn"
      },
      "execution_count": null,
      "outputs": []
    },
    {
      "cell_type": "markdown",
      "source": [
        "#### Lösung - 5. Abschnitt"
      ],
      "metadata": {
        "id": "hnVz5cq9WTtA"
      }
    },
    {
      "cell_type": "code",
      "source": [
        "# 5. Prüfe, ob die Aussage das richtige Format hat\n",
        "if not statement.startswith(\"I \") or \" \" not in statement:\n",
        "    print(\"Lili: I'm sorry, I don't understand. Can you please rephrase that?\")\n",
        "    continue"
      ],
      "metadata": {
        "id": "lkqv-5OtWWXi"
      },
      "execution_count": null,
      "outputs": []
    },
    {
      "cell_type": "markdown",
      "source": [
        "#### Lösung - 6. Abschnitt"
      ],
      "metadata": {
        "id": "pVfm6LcxWfzH"
      }
    },
    {
      "cell_type": "code",
      "source": [
        "# 6. Extrahiere Verb und Objekt vom Aussagesatz\n",
        "words = statement.split()\n",
        "verb = words[1]\n",
        "obj = \" \".join(words[2:])"
      ],
      "metadata": {
        "id": "dq34hwaGWWRg"
      },
      "execution_count": null,
      "outputs": []
    },
    {
      "cell_type": "markdown",
      "source": [
        "#### Lösung - 7. Abschnitt"
      ],
      "metadata": {
        "id": "7nEc447KWl6i"
      }
    },
    {
      "cell_type": "code",
      "source": [
        "# 7. Konstruiere eine Antwort mit dem Verb und dem Objekt im richtigen Format\n",
        "response = \"Lili: Why do you \" + verb + \" \" + obj + \"?\""
      ],
      "metadata": {
        "id": "MgFl3ftcWq4o"
      },
      "execution_count": null,
      "outputs": []
    },
    {
      "cell_type": "markdown",
      "source": [
        "#### Lösung - 8. Abschnitt"
      ],
      "metadata": {
        "id": "I195f4W1W2Nn"
      }
    },
    {
      "cell_type": "code",
      "source": [
        "# 8. Gib die Antwort aus\n",
        "print(response)"
      ],
      "metadata": {
        "id": "Dp9z5IoaW0Yc"
      },
      "execution_count": null,
      "outputs": []
    },
    {
      "cell_type": "markdown",
      "source": [
        "#### Lösung - vollständiges Programm"
      ],
      "metadata": {
        "id": "l2Ch7a3TVu3s"
      }
    },
    {
      "cell_type": "code",
      "source": [
        "def lili():\n",
        "    while True:\n",
        "        # Prompt the user for a statement\n",
        "        statement = input(\"You: \")\n",
        "\n",
        "        # Check if the user wants to end the conversation\n",
        "        if statement.lower() == \"bye\":\n",
        "            print(\"Lili: Goodbye!\")\n",
        "            break\n",
        "\n",
        "        # Check that the statement is in the correct format\n",
        "        if not statement.startswith(\"I \") or \" \" not in statement:\n",
        "            print(\"Lili: I'm sorry, I don't understand. Can you please rephrase that?\")\n",
        "            continue\n",
        "\n",
        "        # Extract the verb and object from the statement\n",
        "        words = statement.split()\n",
        "        verb = words[1]\n",
        "        obj = \" \".join(words[2:])\n",
        "\n",
        "        # Construct a response using the verb and object in the correct format\n",
        "        response = \"Lili: Why do you \" + verb + \" \" + obj + \"?\"\n",
        "\n",
        "        # Print the response\n",
        "        print(response)"
      ],
      "metadata": {
        "id": "Hy8zh4aVOxqY"
      },
      "execution_count": null,
      "outputs": []
    },
    {
      "cell_type": "code",
      "source": [
        "lili()"
      ],
      "metadata": {
        "id": "jKTVDLH0Ox89"
      },
      "execution_count": null,
      "outputs": []
    },
    {
      "cell_type": "markdown",
      "source": [
        "## 🏆 Glückwunsch"
      ],
      "metadata": {
        "id": "UH-8W2BBY4hs"
      }
    },
    {
      "cell_type": "markdown",
      "source": [
        "Herzlichen Glückwunsch! 🎉 Du hast das Jupyter-Notebook erfolgreich abgeschlossen! Jetzt bist Du in der Lage, einen einfachen Chatbot zu programmieren, der Aussagesätze in Fragesätze umwandeln kann. Es ist großartig, dass Du dich in die Welt des Programmierens eingearbeitet hast und ich bin sicher, dass du mit diesen Kenntnissen noch viele weitere spannende Projekte umsetzen wirst!"
      ],
      "metadata": {
        "id": "2EGXTDk4ZHhf"
      }
    }
  ]
}