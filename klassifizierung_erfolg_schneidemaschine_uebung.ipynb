{
  "cells": [
    {
      "cell_type": "markdown",
      "metadata": {
        "id": "view-in-github",
        "colab_type": "text"
      },
      "source": [
        "<a href=\"https://colab.research.google.com/github/SproutCoder/q4.0/blob/main/klassifizierung_erfolg_schneidemaschine_uebung.ipynb\" target=\"_parent\"><img src=\"https://colab.research.google.com/assets/colab-badge.svg\" alt=\"Open In Colab\"/></a>"
      ]
    },
    {
      "cell_type": "markdown",
      "metadata": {
        "id": "oiGB3sDJ0Trx"
      },
      "source": [
        "# 🌲 Entscheidungsbaum: Condition-based Maintenance einer Schneidemaschine\n",
        "\n",
        "Dieses Projekt wurde entwickelt, um vorherzusagen, ob eine Schneidemaschine während des Schneidevorgangs wahrscheinlich kaputt geht. Diese Informationen kann genutzt werden, um Condition-based Maintenance an der Maschine durchzuführen, wie z. B. den Austausch abgenutzter oder beschädigter Klingen, bevor es zu einem Ausfall kommt, wodurch die Gesamteffizienz der Anlage verbessert und Ausfallzeiten reduziert werden.\n",
        "\n",
        "Allgemein wird bei der Condition-based Maintenance der Zustand der Ausrüstung mit Hilfe von Sensoren und anderen Datenquellen in Echtzeit überwacht, um frühe Anzeichen von Verschleiß oder potenziellen Problemen zu erkennen.\n",
        "\n",
        "Für dieses Projekt muss kein Datensatz vorab heruntergeladen werden."
      ]
    },
    {
      "cell_type": "markdown",
      "source": [
        "zuletzt geprüft: 20.010.2023 CK"
      ],
      "metadata": {
        "id": "CHgXgX0D34KJ"
      }
    },
    {
      "cell_type": "markdown",
      "metadata": {
        "id": "fJ_Mprut0Tr_"
      },
      "source": [
        "### Prozessschritte Modellentwicklung\n",
        "1. Daten einlesen\n",
        "2. Daten erkunden\n",
        "3. Daten vorbereiten\n",
        "4. Modelle bilden\n",
        "5. Modelle validieren\n",
        "6. Modell testen"
      ]
    },
    {
      "cell_type": "markdown",
      "metadata": {
        "id": "OOJSaNfk0TsE"
      },
      "source": [
        "## 0. Bibliotheken importieren"
      ]
    },
    {
      "cell_type": "markdown",
      "source": [
        "Bibliotheken stellen vorgefertigten Code bereit, mit dem Ihr bestimmte Aufgaben einfacher und schneller erledigen könnt. Für Machine Learning Projekte gibt es viele Bibliotheken in Python, wie NumPy, Pandas, Scikit-learn, TensorFlow und Keras. Diese Bibliotheken bieten viele nützliche Funktionen und Werkzeuge für das maschinelle Lernen, wie z. B. die Aufbereitung von Daten, die Visualisierung von Daten, und die Auswertung von Modellen.\n",
        "\n",
        "Das Verwendend dieser Bibliotheken kann Euch viel Zeit und Mühe sparen, da Ihr nicht alles von Grund auf neu schreiben müsst. Ihr könnte die Bibliothek einfach importieren und ihre vorgefertigten Funktionen verwenden, um das benötigte zu erledigen.\n",
        "\n",
        "Wir importieren jetzt Bibliotheken, die weiteren Verlauf verwendet werden:"
      ],
      "metadata": {
        "id": "OzirVozpgPkH"
      }
    },
    {
      "cell_type": "code",
      "execution_count": null,
      "metadata": {
        "id": "hvGoVEA00TsK"
      },
      "outputs": [],
      "source": [
        "# Importiere benötigte Bibliotheken\n",
        "import numpy as np\n",
        "import pandas as pd\n",
        "\n",
        "%matplotlib inline\n",
        "# um Matplotlib-Plots direkt in der Colab-Benutzeroberfläche anzuzeigen.\n",
        "import matplotlib.pyplot as plt"
      ]
    },
    {
      "cell_type": "markdown",
      "metadata": {
        "id": "HKSHJtPB0Tsp"
      },
      "source": [
        "## 1. Daten einlesen\n",
        "\n",
        "Wenn wir einem Computer beibringen wollen, wie er ein Problem lösen soll, müssen wir ihm zunächst einige Beispiele geben, anhand derer er lernen kann. Der Computer schaut sich diese Beispieldaten an und versucht, Muster oder Regeln zu finden, die ihm helfen, ähnliche Probleme in der Zukunft zu lösen.\n",
        "\n",
        "Bevor wir dem Computer etwas beibringen können, müssen wir also die benötigten Daten in das Programm laden."
      ]
    },
    {
      "cell_type": "markdown",
      "source": [
        "Normalerweise lädt man einen vorhandenen Datensatz in das Computerprogramm -z.B. mittels Pandas. Für einen einfacheren Einstieg erfinden wir für dieser Übung einen überschaubaren Datensatz, den wir in der folgenden Zelle erstellen:"
      ],
      "metadata": {
        "id": "EOot4OTI5wB7"
      }
    },
    {
      "cell_type": "code",
      "execution_count": null,
      "metadata": {
        "id": "bEdlgTMV0Tsr",
        "outputId": "318ec02c-5b61-4726-9774-6d7c25e57bda",
        "colab": {
          "base_uri": "https://localhost:8080/"
        }
      },
      "outputs": [
        {
          "output_type": "stream",
          "name": "stdout",
          "text": [
            "Die Daten wurden erfolgreich erstellt.\n"
          ]
        }
      ],
      "source": [
        "# Trainingsdaten\n",
        "raw_data = {'schnittlaenge': [3, 4, 7, 1, 8, 4, 6, 2, 4, 5],\n",
        "            'neue_klinge': ['ja', 'nein', 'nein', 'nein', 'ja', 'ja', 'nein', 'nein', 'ja', 'ja'],\n",
        "            'neue_klinge_encoded': [1, 0, 0, 0, 1, 1, 0, 0, 1, 1], # Daten händisch encoded, notwendig für die Anwendung des Modells\n",
        "            'haerte_material': ['hart', 'hart', 'mittel', 'weich', 'mittel', 'mittel', 'weich', 'hart', 'mittel', 'weich'],\n",
        "            'haerte_material_encoded': [3, 3, 2, 1, 2, 2, 1, 3, 2, 1], # encoding ginge auch automatisch mit:  from sklearn import preprocessing  preprocessing.LabelEncoder()\n",
        "            'erfolg_schnitt': ['ja', 'nein', 'nein', 'ja', 'nein', 'ja', 'ja', 'nein', 'ja', 'ja'], #Zielvariable bzw. Zielmerkmal\n",
        "            'erfolg_schnitt_encoded': [1, 0, 0, 1, 0, 1, 1, 0, 1, 1]}\n",
        "\n",
        "df = pd.DataFrame(data = raw_data)\n",
        "\n",
        "#erstelle 3 Testdaten für Schritt 5 (Modell validieren)\n",
        "X_test1 = pd.DataFrame(data = np.array([[2, 2, 1]]), columns = ['schnittlaenge', 'neue_klinge_encoded', 'haerte_material_encoded'])\n",
        "X_test2 = pd.DataFrame(data = np.array([[4, 1, 3]]), columns = ['schnittlaenge', 'neue_klinge_encoded', 'haerte_material_encoded'])\n",
        "X_test3 = pd.DataFrame(data = np.array([[5, 2, 2]]), columns = ['schnittlaenge', 'neue_klinge_encoded', 'haerte_material_encoded'])\n",
        "y_test1 = pd.DataFrame({'erfolg_schnitt_encoded': [1]})\n",
        "y_test2 = pd.DataFrame({'erfolg_schnitt_encoded': [1]})\n",
        "y_test3 = pd.DataFrame({'erfolg_schnitt_encoded': [1]})\n",
        "\n",
        "print('Die Daten wurden erfolgreich erstellt.')"
      ]
    },
    {
      "cell_type": "markdown",
      "source": [
        "**Beschreibung der obigen Code-Zelle:**\n",
        "* Diese Zelle ertellt eine Tabelle (\"DataFrame\") namens 'df' mit einigen Beispieldaten - wir haben DataFrames während der Einführung zu Pandas im Rahmen von Termin 3 kennengelernt.\n",
        "\n",
        "  * Die Beispieldaten enthalten Informationen über die Länge eines Schnitts, ob eine neue Klinge verwendet wurde, die Härte des geschnittenen Materials und ob der Schnitt erfolgreich war oder nicht (was die *Zielvariable* ist).\n",
        "\n",
        "  * Die Beispieldaten werden manuell kodiert, d. h. kategoriale Variablen (z.B. Härte des Materials) werden in Zahlenwerte umgewandelt, damit das Machine Learning Modell sie verstehen kann. Dies könnte man auch automatisch mit der Klasse LabelEncoder aus der scikit-learn-Bibliothek machen.\n",
        "\n",
        "* Der Code erstellt außerdem sechs zusätzliche DataFrames (X_test1, X_test2, X_test3, y_test1, y_test2 und y_test3), die später zum Testen des maschinellen Lernmodells verwendet werden.\n",
        "\n",
        "* Der Code verwendet die Bibliotheken *NumPy* `np` und *Pandas* `pd`, die nützliche Funktionen und Klassen für die Arbeit mit numerischen Daten und DataFrames bereitstellen.\n",
        "\n",
        "* Die Druckanweisung `print()` am Ende zeigt an, dass die Daten erfolgreich erstellt wurden."
      ],
      "metadata": {
        "id": "hKt3-YRFj9we"
      }
    },
    {
      "cell_type": "markdown",
      "source": [
        "**Frage**: Was war nochmal eine *Zielvariable/Zielmerkmal*?\n",
        "\n",
        "**Antwort**: Beim überwachten maschinellen Lernen wollen wir typischerweise etwas prognostizieren oder klassifizieren. Dabei unterscheidet man zwischen den für diese Aufgabe verwendeten Eingabe- und Ausgabedaten. Die Eingabedaten sind die Informationen, die wir für die Vorhersage verwenden, und die Ausgabedaten sind das, was wir vorherzusagen versuchen. Die Ausgabedaten werden auch als Zielvariable bezeichnet.\n",
        "\n",
        "Stellt Euch beispielsweise vor, Ihr wollt ein Modell erstellen, das vorhersagt, ob jemand auf der Grundlage seines Einkommens und seines Alters ein Auto kaufen wird. In diesem Fall wären Einkommen und Alter die Eingabedaten, und ob die Person ein Auto kauft oder nicht, wären die Ausgabedaten oder die Zielvariable. Das Ziel unseres Modells wäre es, anhand der Eingabedaten (Einkommen und Alter) die Zielvariable vorherzusagen (ob die Person ein Auto kauft oder nicht)."
      ],
      "metadata": {
        "id": "d1mz655UlC2I"
      }
    },
    {
      "cell_type": "markdown",
      "metadata": {
        "id": "HOJvODQM0Tss"
      },
      "source": [
        "## 2. Daten erkunden\n",
        "Das Erkunden und Kennenlernen der Daten ist beim maschinellen Lernen wichtig, weil es Euch hilft, die Muster, Trends und Beziehungen zu verstehen, die in den Daten existieren. Dieses Verständnis kann Euch helfen, bessere Entscheidungen darüber zu treffen, welcher Algorithmus für das maschinelle Lernen verwendet werden soll, wie die Daten vorzuverarbeiten sind und wie die Parameter des Algorithmus abzustimmen sind.\n",
        "\n",
        "Wenn Ihr z. B. vorhersagen wollt, ob eine Schülerin einen Test besteht oder nicht, und zwar auf der Grundlage ihrer früheren Noten, könnte die Untersuchung der Daten ergeben, dass es eine starke Korrelation zwischen der Anwesenheit einer Schülerin und ihrer Noten gibt. Diese Information könnte Euch helfen, die Genauigkeit Eures Modells zu verbessern, indem Ihr die Anwesenheitsdaten als Merkmal einbezieht. Wenn keine Korrelation zu erkennen ist,  kann zur Vereinfachung des Moedlls das Merkmal ausgelassen werden. Für unseren Entscheidungsbaum werden wir alle Merkmale verwenden, da es überschaubar viele sind."
      ]
    },
    {
      "cell_type": "markdown",
      "source": [
        "### 2.1 Tabelle anzeigen lassen"
      ],
      "metadata": {
        "id": "E82frx3sygAO"
      }
    },
    {
      "cell_type": "markdown",
      "source": [
        "Um einmal einen Überblick über die Daten zu bekommen können wir in der Zelle den Namen unserer Tabelle `df` eingeben und diese ausführen."
      ],
      "metadata": {
        "id": "G6PYnMMeyDZ2"
      }
    },
    {
      "cell_type": "code",
      "source": [
        "# Anzeigen des DataFrames namens 'df':\n",
        "df"
      ],
      "metadata": {
        "id": "kJG36gptyU3y",
        "colab": {
          "base_uri": "https://localhost:8080/",
          "height": 363
        },
        "outputId": "a03ae772-d71e-4f33-f330-a00fa4d3a5a9"
      },
      "execution_count": null,
      "outputs": [
        {
          "output_type": "execute_result",
          "data": {
            "text/plain": [
              "   schnittlaenge neue_klinge  neue_klinge_encoded haerte_material  \\\n",
              "0              3          ja                    1            hart   \n",
              "1              4        nein                    0            hart   \n",
              "2              7        nein                    0          mittel   \n",
              "3              1        nein                    0           weich   \n",
              "4              8          ja                    1          mittel   \n",
              "5              4          ja                    1          mittel   \n",
              "6              6        nein                    0           weich   \n",
              "7              2        nein                    0            hart   \n",
              "8              4          ja                    1          mittel   \n",
              "9              5          ja                    1           weich   \n",
              "\n",
              "   haerte_material_encoded erfolg_schnitt  erfolg_schnitt_encoded  \n",
              "0                        3             ja                       1  \n",
              "1                        3           nein                       0  \n",
              "2                        2           nein                       0  \n",
              "3                        1             ja                       1  \n",
              "4                        2           nein                       0  \n",
              "5                        2             ja                       1  \n",
              "6                        1             ja                       1  \n",
              "7                        3           nein                       0  \n",
              "8                        2             ja                       1  \n",
              "9                        1             ja                       1  "
            ],
            "text/html": [
              "\n",
              "  <div id=\"df-631a3e41-7eee-427e-aeb3-8dc896e32395\">\n",
              "    <div class=\"colab-df-container\">\n",
              "      <div>\n",
              "<style scoped>\n",
              "    .dataframe tbody tr th:only-of-type {\n",
              "        vertical-align: middle;\n",
              "    }\n",
              "\n",
              "    .dataframe tbody tr th {\n",
              "        vertical-align: top;\n",
              "    }\n",
              "\n",
              "    .dataframe thead th {\n",
              "        text-align: right;\n",
              "    }\n",
              "</style>\n",
              "<table border=\"1\" class=\"dataframe\">\n",
              "  <thead>\n",
              "    <tr style=\"text-align: right;\">\n",
              "      <th></th>\n",
              "      <th>schnittlaenge</th>\n",
              "      <th>neue_klinge</th>\n",
              "      <th>neue_klinge_encoded</th>\n",
              "      <th>haerte_material</th>\n",
              "      <th>haerte_material_encoded</th>\n",
              "      <th>erfolg_schnitt</th>\n",
              "      <th>erfolg_schnitt_encoded</th>\n",
              "    </tr>\n",
              "  </thead>\n",
              "  <tbody>\n",
              "    <tr>\n",
              "      <th>0</th>\n",
              "      <td>3</td>\n",
              "      <td>ja</td>\n",
              "      <td>1</td>\n",
              "      <td>hart</td>\n",
              "      <td>3</td>\n",
              "      <td>ja</td>\n",
              "      <td>1</td>\n",
              "    </tr>\n",
              "    <tr>\n",
              "      <th>1</th>\n",
              "      <td>4</td>\n",
              "      <td>nein</td>\n",
              "      <td>0</td>\n",
              "      <td>hart</td>\n",
              "      <td>3</td>\n",
              "      <td>nein</td>\n",
              "      <td>0</td>\n",
              "    </tr>\n",
              "    <tr>\n",
              "      <th>2</th>\n",
              "      <td>7</td>\n",
              "      <td>nein</td>\n",
              "      <td>0</td>\n",
              "      <td>mittel</td>\n",
              "      <td>2</td>\n",
              "      <td>nein</td>\n",
              "      <td>0</td>\n",
              "    </tr>\n",
              "    <tr>\n",
              "      <th>3</th>\n",
              "      <td>1</td>\n",
              "      <td>nein</td>\n",
              "      <td>0</td>\n",
              "      <td>weich</td>\n",
              "      <td>1</td>\n",
              "      <td>ja</td>\n",
              "      <td>1</td>\n",
              "    </tr>\n",
              "    <tr>\n",
              "      <th>4</th>\n",
              "      <td>8</td>\n",
              "      <td>ja</td>\n",
              "      <td>1</td>\n",
              "      <td>mittel</td>\n",
              "      <td>2</td>\n",
              "      <td>nein</td>\n",
              "      <td>0</td>\n",
              "    </tr>\n",
              "    <tr>\n",
              "      <th>5</th>\n",
              "      <td>4</td>\n",
              "      <td>ja</td>\n",
              "      <td>1</td>\n",
              "      <td>mittel</td>\n",
              "      <td>2</td>\n",
              "      <td>ja</td>\n",
              "      <td>1</td>\n",
              "    </tr>\n",
              "    <tr>\n",
              "      <th>6</th>\n",
              "      <td>6</td>\n",
              "      <td>nein</td>\n",
              "      <td>0</td>\n",
              "      <td>weich</td>\n",
              "      <td>1</td>\n",
              "      <td>ja</td>\n",
              "      <td>1</td>\n",
              "    </tr>\n",
              "    <tr>\n",
              "      <th>7</th>\n",
              "      <td>2</td>\n",
              "      <td>nein</td>\n",
              "      <td>0</td>\n",
              "      <td>hart</td>\n",
              "      <td>3</td>\n",
              "      <td>nein</td>\n",
              "      <td>0</td>\n",
              "    </tr>\n",
              "    <tr>\n",
              "      <th>8</th>\n",
              "      <td>4</td>\n",
              "      <td>ja</td>\n",
              "      <td>1</td>\n",
              "      <td>mittel</td>\n",
              "      <td>2</td>\n",
              "      <td>ja</td>\n",
              "      <td>1</td>\n",
              "    </tr>\n",
              "    <tr>\n",
              "      <th>9</th>\n",
              "      <td>5</td>\n",
              "      <td>ja</td>\n",
              "      <td>1</td>\n",
              "      <td>weich</td>\n",
              "      <td>1</td>\n",
              "      <td>ja</td>\n",
              "      <td>1</td>\n",
              "    </tr>\n",
              "  </tbody>\n",
              "</table>\n",
              "</div>\n",
              "      <button class=\"colab-df-convert\" onclick=\"convertToInteractive('df-631a3e41-7eee-427e-aeb3-8dc896e32395')\"\n",
              "              title=\"Convert this dataframe to an interactive table.\"\n",
              "              style=\"display:none;\">\n",
              "        \n",
              "  <svg xmlns=\"http://www.w3.org/2000/svg\" height=\"24px\"viewBox=\"0 0 24 24\"\n",
              "       width=\"24px\">\n",
              "    <path d=\"M0 0h24v24H0V0z\" fill=\"none\"/>\n",
              "    <path d=\"M18.56 5.44l.94 2.06.94-2.06 2.06-.94-2.06-.94-.94-2.06-.94 2.06-2.06.94zm-11 1L8.5 8.5l.94-2.06 2.06-.94-2.06-.94L8.5 2.5l-.94 2.06-2.06.94zm10 10l.94 2.06.94-2.06 2.06-.94-2.06-.94-.94-2.06-.94 2.06-2.06.94z\"/><path d=\"M17.41 7.96l-1.37-1.37c-.4-.4-.92-.59-1.43-.59-.52 0-1.04.2-1.43.59L10.3 9.45l-7.72 7.72c-.78.78-.78 2.05 0 2.83L4 21.41c.39.39.9.59 1.41.59.51 0 1.02-.2 1.41-.59l7.78-7.78 2.81-2.81c.8-.78.8-2.07 0-2.86zM5.41 20L4 18.59l7.72-7.72 1.47 1.35L5.41 20z\"/>\n",
              "  </svg>\n",
              "      </button>\n",
              "      \n",
              "  <style>\n",
              "    .colab-df-container {\n",
              "      display:flex;\n",
              "      flex-wrap:wrap;\n",
              "      gap: 12px;\n",
              "    }\n",
              "\n",
              "    .colab-df-convert {\n",
              "      background-color: #E8F0FE;\n",
              "      border: none;\n",
              "      border-radius: 50%;\n",
              "      cursor: pointer;\n",
              "      display: none;\n",
              "      fill: #1967D2;\n",
              "      height: 32px;\n",
              "      padding: 0 0 0 0;\n",
              "      width: 32px;\n",
              "    }\n",
              "\n",
              "    .colab-df-convert:hover {\n",
              "      background-color: #E2EBFA;\n",
              "      box-shadow: 0px 1px 2px rgba(60, 64, 67, 0.3), 0px 1px 3px 1px rgba(60, 64, 67, 0.15);\n",
              "      fill: #174EA6;\n",
              "    }\n",
              "\n",
              "    [theme=dark] .colab-df-convert {\n",
              "      background-color: #3B4455;\n",
              "      fill: #D2E3FC;\n",
              "    }\n",
              "\n",
              "    [theme=dark] .colab-df-convert:hover {\n",
              "      background-color: #434B5C;\n",
              "      box-shadow: 0px 1px 3px 1px rgba(0, 0, 0, 0.15);\n",
              "      filter: drop-shadow(0px 1px 2px rgba(0, 0, 0, 0.3));\n",
              "      fill: #FFFFFF;\n",
              "    }\n",
              "  </style>\n",
              "\n",
              "      <script>\n",
              "        const buttonEl =\n",
              "          document.querySelector('#df-631a3e41-7eee-427e-aeb3-8dc896e32395 button.colab-df-convert');\n",
              "        buttonEl.style.display =\n",
              "          google.colab.kernel.accessAllowed ? 'block' : 'none';\n",
              "\n",
              "        async function convertToInteractive(key) {\n",
              "          const element = document.querySelector('#df-631a3e41-7eee-427e-aeb3-8dc896e32395');\n",
              "          const dataTable =\n",
              "            await google.colab.kernel.invokeFunction('convertToInteractive',\n",
              "                                                     [key], {});\n",
              "          if (!dataTable) return;\n",
              "\n",
              "          const docLinkHtml = 'Like what you see? Visit the ' +\n",
              "            '<a target=\"_blank\" href=https://colab.research.google.com/notebooks/data_table.ipynb>data table notebook</a>'\n",
              "            + ' to learn more about interactive tables.';\n",
              "          element.innerHTML = '';\n",
              "          dataTable['output_type'] = 'display_data';\n",
              "          await google.colab.output.renderOutput(dataTable, element);\n",
              "          const docLink = document.createElement('div');\n",
              "          docLink.innerHTML = docLinkHtml;\n",
              "          element.appendChild(docLink);\n",
              "        }\n",
              "      </script>\n",
              "    </div>\n",
              "  </div>\n",
              "  "
            ]
          },
          "metadata": {},
          "execution_count": 3
        }
      ]
    },
    {
      "cell_type": "markdown",
      "source": [
        "### 2.2 Dateninterpretation & Entscheidung für ein Modell\n",
        "Wir haben hier eine überschaubare Menge an Daten vorliegen. Da unsere Zielgröße 'erfolg_schnitt' in Kategorien eingeteilt ist, können wir einen Klassifikationsalgorithmus verwenden. Da der Datensatz nicht allzu viele Variablen hat, entscheiden wir uns für den Entscheidungsbaum-Algorithmus. Wenn man ein:e fortgeschrittener Datenanalyst:in ist, würde man verschiedene Algorithmen ausprobieren und deren Genauigkeit bewerten. Dann würde man meistens denjenigen Algorithmus wählen, der am genauesten ist. Andere Beispiele für Algorithmen wären zum Beispiel \"Random Forests\" oder \"SVMs\". Der Grund, warum wir uns in diesem Machine-Learning-Einführungstutorial für Entscheidungsbäume entschieden haben, ist, dass sie leicht zu verstehen und interpretieren sind."
      ],
      "metadata": {
        "id": "YjDCrdRtDx3A"
      }
    },
    {
      "cell_type": "markdown",
      "source": [
        "Übrigens: Da unser Datensatz nicht sehr groß ist, haben wir ihn nicht visualisiert. Aber man könnte es trotzdem tun, um die Daten besser zu verstehen. Zum Beispiel kann ein *Histogramm* verwendet werden, um die Verteilung der Variable 'schnittlaenge' zu visualisieren. Ein *Balkendiagramm* kann verwendet werden, um die Häufigkeit der Variablen 'neue_klinge' und 'haerte_material' darzustellen. Ein *Streudiagramm* kann verwendet werden, um die Beziehung zwischen 'schnittlaenge' und 'erfolg_schnitt' zu visualisieren. Ein *Kreisdiagramm* kann verwendet werden, um den Anteil erfolgreicher Schnitte ('erfolg_schnitt') im Datensatz darzustellen. Eine *Heatmap* kann verwendet werden, um die Korrelation zwischen den verschiedenen Variablen im Datensatz zu visualisieren. Ein paar dieser Visualisierungsmethoden werdet ihr im freiwilligem Tutorial zur Datenvisualisierung kennenlernen."
      ],
      "metadata": {
        "id": "Imd9pHQx8IoJ"
      }
    },
    {
      "cell_type": "markdown",
      "metadata": {
        "id": "CShd7ZBg0Tsw"
      },
      "source": [
        "## 3. Daten vorbereiten\n",
        "Das Vorbereiten von Daten für Machine Learning Projekte ist wichtig, da es dazu beiträgt, dass das ML-Modell genau und zuverlässig ist. Wenn Ihr mit Daten arbeitet, sind diese oft chaotisch. Beispielsweise können Daten fehlende Werte aufweisen oder im falschen Format vorliegen. Die Datenvorbereitung umfasst die Bereinigung und Organisation der Daten, damit das ML-Modell effektiv mit ihnen arbeiten kann.\n",
        "\n",
        "In unserem Schneidemaschine-Beispiel müssen die Daten nicht mehr bereinigt oder organisiert werden. da sie bereits in einem gut verarbeitbaren Format vorliegen. Ein wichtiger Schritt der Datenvorbereitung steht dennoch noch aus.\n",
        "\n",
        "Es ist nämlich wichtig bei der Vorbereitung von Daten für ML-Projekte die Daten in Merkmale und Zielmerkmale einzuteilen. Die Merkmale sind die Variablen, die zur Vorhersage des Zielmerkmals verwendet werden. Was Zielmerkmale sind wurde bereits oben im Abschnit *1. Daten einlesen erklärt*. Dies machen wir nun:"
      ]
    },
    {
      "cell_type": "markdown",
      "source": [
        "### 3.1 Trainingsdaten und Trainingszielgröße festlegen - Übung"
      ],
      "metadata": {
        "id": "JW3HqoUJyxu0"
      }
    },
    {
      "cell_type": "code",
      "source": [
        "# Trainingsdaten und Trainingszielgröße (X_train und y_train) festlegen\n",
        "X_train = df[['schnittlaenge', 'neue_klinge_encoded', 'haerte_material_encoded']] #wir lassen die nicht Spalten, die nicht encoded sind weg\n",
        "y_train = df['erfolg_schnitt_encoded'] # gib die Spalte des Dataframes df an, in der Steht ob ein Schnitt erfolg reich ist, oder nicht (unsere Zielvariable)"
      ],
      "metadata": {
        "id": "T0ydxkvgy3Vr"
      },
      "execution_count": null,
      "outputs": []
    },
    {
      "cell_type": "markdown",
      "source": [
        "*Hinweis*: Die Trainingszielgröße gibt an, ob der Schnitt erfolgreich war oder nicht. Außerdem ist die Information in der Spalte enkodiert (0/1)."
      ],
      "metadata": {
        "id": "AR_e1YJszAGy"
      }
    },
    {
      "cell_type": "markdown",
      "metadata": {
        "id": "wOR251jC0Ts0"
      },
      "source": [
        "## 4. Modelle bilden\n",
        "In diesem Schritt \"bauen\" wir nun das Machine Learning Modell - unseren Entscheidungsbaum. Wir benutzen hierfür den vorprogrammierten Entscheidungsbaum von [SciKit](https://scikit-learn.org/stable/modules/generated/sklearn.tree.DecisionTreeClassifier.html).\n",
        "\n",
        "\n",
        "Mit dem gebauten Entscheidungsbaum können wir vorhersagen, ob ein Schnitt erolgreich sein wird oder die Schneidemaschine kaputt geht.\n"
      ]
    },
    {
      "cell_type": "markdown",
      "source": [
        "### 4.1 Modell \"bauen\" - Übung"
      ],
      "metadata": {
        "id": "sHjiCGG30oKj"
      }
    },
    {
      "cell_type": "markdown",
      "source": [
        "1. Um das Modell zu erstellen, müssen wir zunächst eine Bibliothek namens \"scikit-learn\" importieren, die ein vorgefertigtes Entscheidungsbaummodell enthält, das wir verwenden können. Dies geschieht durch Eingabe von `from sklearn.tree import DecisionTreeClassifier`.\n",
        "\n",
        "2. Als Nächstes erstellen wir das Modell durch Eingabe von `model = DecisionTreeClassifier(random_state=42)`. Dadurch wird der Entscheidungsbaum mit einem Zufallszustand von 42 eingerichtet, was sicherstellt, dass unsere Ergebnisse bei jeder Ausführung des Codes konsistent sind.\n",
        "\n",
        "3. Schließlich trainieren wir das Modell durch Eingabe von `model = model.fit(X_train, y_train)`. Dadurch wird das Modell angewiesen, unsere Trainingsdaten (X_train und y_train) zu verwenden, um zu lernen, wie man Vorhersagen macht.\n",
        "\n",
        "Setze dies nun in der folgenden Code-Zelle um:\n"
      ],
      "metadata": {
        "id": "Vz9O2yRR1ebS"
      }
    },
    {
      "cell_type": "code",
      "source": [
        "# 1. Importiere Modell\n",
        "# DEIN CODE HIER\n",
        "\n",
        "# 2. Erstelle Modell\n",
        "# DEIN CODE HIER\n",
        "\n",
        "# 3. Trainiere Modell\n",
        "# DEIN CODE HIER"
      ],
      "metadata": {
        "id": "JDjO8gDV0ynW"
      },
      "execution_count": null,
      "outputs": []
    },
    {
      "cell_type": "markdown",
      "source": [
        "1. Importiert den `DecisionTreeClassifier` aus dem Modul `sklearn.tree`\n",
        "\n",
        "2. Erzeugt einen Entscheidungsbaum und legt einen zufälligen Zustand fest\n",
        "  * Die Festlegung eines Zufallszustands in Algorithmen für maschinelles Lernen bedeutet, dass der im Algorithmus verwendete Zufallszahlengenerator jedes Mal, wenn der Algorithmus mit demselben Zufallszustand ausgeführt wird, dieselbe Folge von Zufallszahlen erzeugt. Dadurch wird sichergestellt, dass die Ergebnisse des Algorithmus reproduzierbar und über verschiedene Durchläufe hinweg konsistent sind.\n",
        "\n",
        "  * Im obigen Codeausschnitt wird der Parameter` random_state` bei der Erstellung des` DecisionTreeClassifier`-Objekts auf `42` gesetzt. Dies bedeutet, dass jedes Mal, wenn später die `fit`-Funktion für das Modellobjekt aufgerufen wird, dieselbe Folge von Zufallszahlen verwendet wird. Die Einstellung des `random_state`-Parameters auf einen festen Wert ist eine gute Praxis bei der Erstellung von Modellen für maschinelles Lernen, da Ihr so die Ergebnisse reproduzieren und den Code bei Bedarf debuggen könnt.\n",
        "\n",
        "3. Passt das Modell an die Trainingsdaten an, wobei` X_train` für die Merkmale und `y_train` für die Zielvariable steht"
      ],
      "metadata": {
        "id": "yIXPd5Igq2Bw"
      }
    },
    {
      "cell_type": "markdown",
      "source": [
        "### 4.1 Modell bauen - Erklärung\n",
        "\n",
        "Unser Modell (der Entscheidungsbaum) ist nun trainiert und kann für das Vorhersagen neuer, noch nicht gesehener Daten verwendet werden. Also unser Modell kann jetzt für noch nie zuvor gesehene Schnitte entscheiden, ob der Schnitt erfolgreich sein wird oder nicht."
      ],
      "metadata": {
        "id": "wYAYAw7Y6Pa0"
      }
    },
    {
      "cell_type": "markdown",
      "metadata": {
        "id": "wyuE_As20Ts1"
      },
      "source": [
        "## 5. Modelle validieren"
      ]
    },
    {
      "cell_type": "markdown",
      "source": [
        "### 5.1 Modell visualisieren - Übung"
      ],
      "metadata": {
        "id": "v10EoeiL2Ij3"
      }
    },
    {
      "cell_type": "markdown",
      "source": [
        "\n",
        "Im folgenden erstellen wir eine Visualisierung unseres Entscheidungsbaumes.\n",
        "Die Visualisierung hilft uns zu verstehen, wie das Modell seine Entscheidungen trifft und welche Merkmale der Daten für die Vorhersage der Zielvariable am wichtigsten sind. Insgesamt ist die Visualisierung des Modells ein wichtiger Schritt bei der Modellvalidierung, weil sie uns hilft, die Funktionsweise des Modells zu verstehen und mögliche Probleme zu erkennen, die behoben werden müssen."
      ],
      "metadata": {
        "id": "DDDAR73JX1--"
      }
    },
    {
      "cell_type": "markdown",
      "source": [
        "Nun wollen wir den Entscheidungsbaum visualisieren. Das sind die umzusetzenden Schritte:\n",
        "\n",
        "1. Zunächst wird die Funktion `plot_tree` aus dem Modul `sklearn.tree `importiert. *Hinweis*: wir haben beriets in vorigen Schnitten gesehen, wie ein Modul importiert wird.\n",
        "\n",
        "2. Anschließend wird mit der Funktion `plt.figure` aus der Bibliothek `matplotlib` eine Abbildung mit einer Größe von `10 x 8 Zoll` erstellt.\n",
        "3. Die Funktion `plot_tree` wird mit mehreren Parametern aufgerufen:\n",
        "Der erste Parameter ist das Entscheidungsbaummodell ('`model`'), das zuvor trainiert wurde.\n",
        "  * Der Parameter `filled` wird auf `True` gesetzt, was bedeutet, dass die Knoten des Entscheidungsbaums entsprechend der Mehrheitsklasse in jeder Region eingefärbt werden.\n",
        "  * Der Parameter `feature_names` wird auf` X_train.columns` gesetzt, was eine Liste der Spaltennamen der Trainingsdaten ist. Dies gibt die Namen der Merkmale an, die zum Trainieren des Entscheidungsbaums verwendet wurden.\n",
        "  * Der Parameter `class_names` wird auf eine Liste der Klassenlabels (`['nein', 'ja']`) für die Zielvariable (y_train) gesetzt. Damit werden die Namen der Klassen angegeben, die der Entscheidungsbaum vorherzusagen versucht.\n",
        "4. Schließlich wird die Funktion `plt.show` aufgerufen, um die Visualisierung des Entscheidungsbaums anzuzeigen."
      ],
      "metadata": {
        "id": "NImW5Hsb2OHa"
      }
    },
    {
      "cell_type": "code",
      "source": [
        "# Grafische Ausgabe des Modells\n",
        "\n",
        "#1. Funktion importieren\n",
        "# DEIN CODE HIER\n",
        "\n",
        "# Plot des Entscheidungsbaumes\n",
        "# 2. Abbildung erstellen\n",
        "plt.figure(figsize=(10, 8))\n",
        "\n",
        "# 3. plot_tree für die Visualiserung aufrufen\n",
        "plot_tree(model, filled= True,\n",
        "          feature_names= #DEIN CODE HIER (Komma am Zeilenende nicht vergessen)\n",
        "          class_names = #DEIN CODE HIER\n",
        "\n",
        "# 4. Visualisierung anzeigen\n",
        "# DEIN CODE HIER"
      ],
      "metadata": {
        "id": "9jp4k7qu2N6-"
      },
      "execution_count": null,
      "outputs": []
    },
    {
      "cell_type": "markdown",
      "source": [
        "### 5.1 Modell visualisieren - Erklärung"
      ],
      "metadata": {
        "id": "BaLOff3n4tjM"
      }
    },
    {
      "cell_type": "markdown",
      "source": [
        "Das ist die **Bedeutung der Einträge in den Knoten des Baumes**:\n",
        "\n",
        "* Merkmal, das für die Entscheidungsregel in diesem Knoten verwendet wird (z.B Schnittlänge >= 6.5)\n",
        "* \"gini\" bezieht sich auf die \"Unreinheit\" des Knotens, die ein Maß dafür ist, wie gut der Knoten die verschiedenen Klassen in den Daten trennt. Ein niedriger Gini-Wert weist auf einen reineren Knoten hin, der mehr von derselben Klasse enthält, während ein höherer Gini-Wert auf einen gemischteren Knoten mit mehr als einer Klasse hinweist.\n",
        "  * gini = 0.0 <- homogener Knoten (alle Elemente sind gleich)\n",
        "  * gini = 0.5 <- maximal gemixter/unreiner Knoten (bei 2 Klassen)\n",
        "  * wir wollen möglichts reine, homogene Knoten erreichen, also gini = 0.0\n",
        "* \"samples\" bezieht sich auf die Anzahl der Trainingsbeispiele, die diesen bestimmten Knoten im Entscheidungsbaum erreichen.\n",
        "* \"value\" bezieht sich auf die Anzahl der Trainingsbeispiele, die zu jeder Klasse an diesem bestimmten Knoten gehören. Beispielsweise würde \"Wert=[4, 6]\" bedeuten, dass es 4 Beispiele der Klasse 'nein' und 6 Beispiele der Klasse 'ja' gibt, die diesen Knoten im Entscheidungsbaum erreichen.\n",
        "* \"class\" eines Knotens gibt die vorhergesagte Klassenbezeichnung für die Datenpunkte an, die diesen Knoten erreichen.\n",
        "  * Wenn ein Knoten mit \"class=ja\" beschriftet ist, bedeutet dies, dass die Mehrheit der Trainingsbeispiele, die diesen Knoten erreichen, zur Klasse \"ja\" gehören. Mit anderen Worten: Die durch diesen Knoten repräsentierte Entscheidungsregel wird wahrscheinlich ein positives Ergebnis für neue, ungesehene Beispiele vorhersagen, die diese Regel erfüllen."
      ],
      "metadata": {
        "id": "qlDaUcg_RMQO"
      }
    },
    {
      "cell_type": "markdown",
      "source": [
        "**Optionale, fortgeschrittene Bonus-Information**:\n",
        "Der maximal mögliche Gini-Wert hängt von der Anzahl der Klassen im Datensatz ab.\n",
        "\n",
        "Bei einem binären Klassifizierungsproblem (d. h. zwei Klassen) liegt der maximale Gini-Wert bei 0,5. Dies ist der Fall, wenn die positiven und negativen Klassen gleichmäßig auf die Trainingsbeispiele verteilt sind.\n",
        "\n",
        "Bei einem Klassifikationsproblem mit mehr als zwei Klassen hängt der maximale Gini-Wert von der Anzahl der Klassen und ihrer Verteilung im Datensatz ab. Im ungünstigsten Fall sind alle Klassen gleich verteilt. In diesem Fall beträgt der maximale Gini-Wert 1 - (1/n), wobei n die Anzahl der Klassen ist. Bei einem Drei-Klassen-Problem wäre der maximale Gini-Wert zum Beispiel 1 - (1/3) = 0,67."
      ],
      "metadata": {
        "id": "B1QOK9P2UbVv"
      }
    },
    {
      "cell_type": "markdown",
      "source": [
        "### 5.2 Kreuzvalidierung des Modells"
      ],
      "metadata": {
        "id": "-geccTrWW2Lj"
      }
    },
    {
      "cell_type": "markdown",
      "source": [
        "Unser Entscheidungsbaum scheint gut zu funktionieren, da alle Blätter am unteren Ende des Baums nur eine Klasse von Daten enthalten. Doch da die Ergebnisse selten so eindeutig sind, experimentiert man meist mit den sogenannten Hyperparametern. Hyperparameter sind Einstellungen im Modell, die beeinflussen, wie der Baum aufgebaut wird und wie viele Datenpunkte erforderlich sind, um eine Entscheidung zu treffen. Zum Beispiel kann man die maximale Tiefe des Baums oder die Anzahl der erforderlichen Datenpunkte einstellen.\n",
        "\n",
        "Um zu sehen, wie sich Änderungen der Hyperparameter auf das Modell auswirken, nutzen man dann die sogenannte Kreuzvalidierung. Dabei wird das Modell mit verschiedenen Kombinationen von Hyperparametern trainiert und auf einem separaten Datensatz bewertet. Normalerweise sollte man einen eigenen Datensatz für die Kreuzvalidierung verwenden, um das Modell besser zu bewerten und die besten Hyperparameter-Einstellungen zu finden.\n",
        "\n",
        "In dieser Lektion werden wir die gleichen Daten wie für das Training verwenden, was im Allgemeinen nicht empfohlen wird. Wir tun dies dennoch, um Euch kurz zu zeigen, wie eine Kreuzvalidierung normalerweise auf einen Datensatz angewendet wird. Wir werden auch keine Hyperparameter-Optimierung durchführen, da unsere Ergebnisse bereits sehr gut sind und Hyperparameter-Tuning ein fortgeschrittenes Konzept im Bereich Machine Learning ist."
      ],
      "metadata": {
        "id": "EdduInHb-gX8"
      }
    },
    {
      "cell_type": "markdown",
      "source": [
        "### 5.2 Kreuzvalidierung des Modells - Übung"
      ],
      "metadata": {
        "id": "OEBXVrct59J_"
      }
    },
    {
      "cell_type": "markdown",
      "source": [
        "1. Importiere die Funktion `cross_val_score` aus dem Modul `model_selection `der Bibliothek *scikit-learn* mit der Anweisung import: `from sklearn.model_selection import cross_val_score`.\n",
        "\n",
        "2. Erstelle eine Variable namens `scores` und weise ihr das Ergebnis des Aufrufs der Funktion `cross_val_score` mit den folgenden Argumenten zu:\n",
        "  * model (unser Entscheidungsbaum-Modell, das wir evaluieren wollen)\n",
        "  * X_train: die Eingabe-Features des Trainingssatzes.\n",
        "  * y_train: die Zielwerte des Trainingssatzes.\n",
        "  * cv: die Anzahl der *Faltungen* für die Kreuzvalidierung, setze sie auf `5`\n",
        "3. Gib die Ergebnisse der Kreuzvalidierung mithilfe der Funktion `print()` und der Variablen `scores` aus.\n",
        "4. Berechne und gib das durchschnittle Ergebniss der Kreuzvalidierung mit der Methode` mean() `der Variablen `scores`."
      ],
      "metadata": {
        "id": "LFG8csdY6w3v"
      }
    },
    {
      "cell_type": "code",
      "source": [
        "#1. Importiere benötigte Funktion\n",
        "# DEIN CODE HIER\n",
        "\n",
        "# 2. Durchführung einer 5-fachen Kreuzvalidierung des Modells mit X_train und y_train\n",
        "scores = # DEIN CODE HIER\n",
        "\n",
        "# 3. die Ergebnisse der Kreuzvalidierung ausgeben\n",
        "# DEIN CODE HIER\n",
        "\n",
        "# 4. das durchschnittliche Ergebnis der Kreuzvalidierung ausgeben\n",
        "print(\"Durchschnittliches Kreuzvalidierungsergebnis:\", scores.mean())"
      ],
      "metadata": {
        "id": "h2hOTP8o58zU"
      },
      "execution_count": null,
      "outputs": []
    },
    {
      "cell_type": "markdown",
      "source": [
        "### 5.2 Kreuzvalidierung des Modells - Diskussion"
      ],
      "metadata": {
        "id": "ifob5V1J6HwS"
      }
    },
    {
      "cell_type": "markdown",
      "source": [
        "Das Modell hat eine Genauigkeit von 100% für die ersten drei Faltungen, 50% für die vierte Faltung und 100% für die fünfte Faltung. Der durchschnittliche Kreuzvalidierungswert beträgt 0,9, was bedeutet, dass das Modell eine durchschnittliche Genauigkeit von 90% während der Kreuzvalidierung erreicht hat und sich für bisher ungesehene Daten gut eignen sollte.\n",
        "\n",
        "Wenn man mit den Hyperparametern experimentiert, wählt man normalerweise die Einstellungen mit dem besten Ergebnis aus. In diesem Fall sind wir mit einem Ergebnis von 90% zufrieden und müssen daher nicht weiter experimentieren."
      ],
      "metadata": {
        "id": "m9jyb3BXX3je"
      }
    },
    {
      "cell_type": "markdown",
      "source": [
        "## 6. Modell testen\n",
        "Wenn wir ein Modell für maschinelles Lernen erstellen, ist es wichtig, es abschließend zu testen, um sicherzustellen, dass es auch bei neuen Daten genau arbeitet. Das Testen des Modells ist wie eine Abschlussprüfung, bei der wir es mit einem separaten Datensatz testen, den es noch nie zuvor gesehen hat. Wenn das Modell bei diesem Test gute Ergebnisse liefert, dann können wir davon ausgehen, dass es auch in der realen Welt gute Vorhersagen machen kann. Falls es nicht gut abschneidet, müssen wir möglicherweise das Modell ändern oder mehr Daten sammeln, um es zu verbessern."
      ],
      "metadata": {
        "id": "ayioKjhsCJbW"
      }
    },
    {
      "cell_type": "markdown",
      "source": [
        "### 6.1 Vorhersagen für die Testdaten - Übung\n",
        "\n",
        "Mit dem folgendem Code wollen wir uns anschauen, welche Vorhersagen unser Modell macht bei drei bisher ungesehenen Daten. Der Code gibt die Vorhersage des Entscheidungsbaumes aus - wird die Schneidemaschine erfolgreich schneiden (=1) oder die Klinge kaputt gehen (=0)."
      ],
      "metadata": {
        "id": "TGOr27Aw63eM"
      }
    },
    {
      "cell_type": "code",
      "source": [
        "#Ergänze die fehlenden Code-Stellen\n",
        "\n",
        "# Vorhersage 1\n",
        "# schnittlaenge 2, Neues Werkzeug 'Nein' und Härte Material 'weich'\n",
        "vorhersage1 = model.predict(X_test1)\n",
        "print('Vorhersage für Schnittlänge = 2, Neues Werkzeug = Nein, und Materialhärte = weich: \\t' + str(vorhersage1[0]))\n",
        "print('Tatsächliche Klasse (erfolg_schnitt_encoded): ', y_test1['erfolg_schnitt_encoded'].iloc[0])\n",
        "\n",
        "# Vorhersage 2\n",
        "# schnittlaenge 4, Neues Werkzeug 'Ja' und Härte Material 'mittel'\n",
        "vorhersage2 = model.predict(X_test2)\n",
        "print('Vorhersage für Schnittlänge = 4, Neues Werkzeug = Ja, und Materialhärte = hart: \\t\\t' + str(vorhersage2[0]))\n",
        "print('Tatsächliche Klasse (erfolg_schnitt_encoded): ', y_test2['erfolg_schnitt_encoded'].iloc[0])\n",
        "\n",
        "# Vorhersage 3\n",
        "# schnittlaenge 6, Neues Werkzeug 'Nein' und Härte Material 'hart'\n",
        "vorhersage3 = # DEIN CODE HIER\n",
        "print('Vorhersage für Schnittlänge = 5, Neues Werkzeug = Nein, und Materialhärte = mittel: \\t' + # DEIN CODE HIER\n",
        "print('Tatsächliche Klasse (erfolg_schnitt_encoded): ', # DEIN CODE HIER"
      ],
      "metadata": {
        "id": "s69YAhCv9X9z"
      },
      "execution_count": null,
      "outputs": []
    },
    {
      "cell_type": "markdown",
      "source": [
        "*Hinweis:* Der Codeausschnitt` y_test1['erfolg_schnitt_encoded'].iloc[0] `greift auf die Tabelle` y_test1` zu, nämlich auf die Spalte namens `erfolg_schnitt_encoded` hat. Die Methode` iloc[0]` wird verwendet, um den ersten Wert der Spalte zu erhalten, und dieser Wert wird zurückgegeben."
      ],
      "metadata": {
        "id": "i2_Oo5sG904e"
      }
    },
    {
      "cell_type": "markdown",
      "source": [
        "### 6.2 Genauigkeit des Modells bestimmmen\n",
        "\n",
        "Statt einzeln zu vergleichen, ob das Modell korrekt vorhersagen macht, können wir die Genauigkeit auch mit dem `accuracy_score` bestimmen lassen.\n",
        "\n",
        "Wenn die bestimmte Genauigkeit hoch ist, bedeutet dies, dass das Modell bei den Testdaten gut abschneidet, was darauf schließen lässt, dass es auch bei neuen, ungesehenen Daten gut abschneidet. Ist die Genauigkeit hingegen niedrig, bedeutet dies, dass das Modell bei den Testdaten nicht gut abschneidet, was darauf hindeutet, dass es möglicherweise nicht gut auf neue Daten verallgemeinert werden kann."
      ],
      "metadata": {
        "id": "H52ipqqari8h"
      }
    },
    {
      "cell_type": "code",
      "source": [
        "X_test = pd.concat([X_test1, X_test2, X_test3], ignore_index=True)\n",
        "y_test = pd.concat([y_test1, y_test2, y_test3], ignore_index=True)"
      ],
      "metadata": {
        "id": "lIHeIMUF_Eyv"
      },
      "execution_count": null,
      "outputs": []
    },
    {
      "cell_type": "markdown",
      "source": [
        "In dem Code oben sind` X_test1`,` X_test2` und `X_test3` DataFrames, die wir zuvor zum Test erstellt hatten. pd.concat() wird verwendet, um diese DataFrames zu einem DataFrame X_test zu kombinieren. Der Parameter ignore_index wird auf True gesetzt, um die ursprünglichen Indexwerte der DataFrames zu ignorieren und einen neuen sequenziellen Index für den kombinierten DataFrame zu erstellen.\n",
        "\n",
        "Die DataFrames der Testdaten werden kombiniert um sie gleich mit der Funktion `accuracy_score()` verwenden zu können. Diese Funktion benötigt zwei Listen als Eingabe: die wahren Bezeichnungen und die vorhergesagten Bezeichnungen. Durch das Kombinieren der Test-DataFrames zu einem DataFrame und die Verwendung dieses kombinierten DataFrames mit der Funktion` accuracy_score()` kann die Genauigkeit der Modellvorhersagen für alle Testdaten berechnet werden, anstatt die Genauigkeit für jeden aufgeteilten DataFrame einzeln zu berechnen."
      ],
      "metadata": {
        "id": "XX34xzF1utsx"
      }
    },
    {
      "cell_type": "markdown",
      "source": [
        "### 6.2 Genauigkeit des Modells bestimmen - Übung"
      ],
      "metadata": {
        "id": "e2f1KAtv_jdX"
      }
    },
    {
      "cell_type": "markdown",
      "source": [
        "1. Zunächst verwende das trainierte Modell, um die Zielvariable y für die Testmenge X_test vorherzusagen. Die vorhergesagten Werte werden in y_pred gespeichert.` y_pred = model.predict(X_test)`  \n",
        "\n",
        "2. Berechne die Genauigkeit der vorhergesagten Werte, indem sie mit den wahren Werten in y_test verglichen werden. Die berechnete Genauigkeit wird in der Variablen `accuracy` gespeichert. `accuracy = accuracy_score(y_test, y_pred)`\n",
        "3. Zeige die berechnete Genauigkeit auf dem Bildschirm an.  `print(\"Genauigkeit:\", accuracy)`"
      ],
      "metadata": {
        "id": "zZusuS0e_wUM"
      }
    },
    {
      "cell_type": "code",
      "source": [
        "# benötigte Funktion importieren\n",
        "from sklearn.metrics import accuracy_score\n",
        "\n",
        "#1. Vorhersagen treffen für das Test-Datensatz mittels unseres Entscheidungsbaumes\n",
        "# DEIN CODE HIER\n",
        "\n",
        "# 2.Genauigkeit unseres Baumes ermitteln\n",
        "# DEIN CODE HIER\n",
        "\n",
        "#3. Genauigkeit ausgeben\n",
        "# DEIN CODE HIER"
      ],
      "metadata": {
        "id": "XJMX1HaV_reJ"
      },
      "execution_count": null,
      "outputs": []
    },
    {
      "cell_type": "markdown",
      "source": [
        "### 6.2 Genauigkeit des Modells bestimmen - Erklärung"
      ],
      "metadata": {
        "id": "iWH8xMDjAtZY"
      }
    },
    {
      "cell_type": "markdown",
      "source": [
        "Eine Genauigkeit von 1.0 bedeutet, dass 100% aller Daten aus dem Testdsatz korrekt vorhergesagt wurden. Das Modell hat den Test bestens bestanden und wird wahrscheinlich auch mit neuen Daten sehr zuverlässliche Vorhersagen machen."
      ],
      "metadata": {
        "id": "vO1KPZ7kvunv"
      }
    },
    {
      "cell_type": "markdown",
      "source": [
        "## 7. Abschluss"
      ],
      "metadata": {
        "id": "CUjjKwyhCqQH"
      }
    },
    {
      "cell_type": "markdown",
      "source": [
        "Herzlichen Glückwunsch! 🎉 Du hast das Tutorial erfolgreich abgeschlossen und alle Schritte durchlaufen, um vorherzusagen, ob eine Schneidemaschine während des Schneidevorgangs wahrscheinlich kaputt geht. Du hast die Daten eingelesen und erkundet, um sicherzustellen, dass sie bereit sind, von dem Entscheidungsbaum verarbeitet zu werden. Anschließend hast du das Entscheidungsbaum-Modell gebildet, validiert und getestet, um die Vorhersagegenauigkeit zu ermitteln. Durch diese Arbeit hast du die Grundlage gelegt, um vorbeugende Wartungsarbeiten an der Maschine durchzuführen und dadurch die Gesamteffizienz der Anlage zu verbessern und Ausfallzeiten zu reduzieren. Gute Arbeit! 😁"
      ],
      "metadata": {
        "id": "TJryZbu1CztZ"
      }
    },
    {
      "cell_type": "markdown",
      "source": [
        "## 8. Ausblick"
      ],
      "metadata": {
        "id": "eGwZKZbBDMKX"
      }
    },
    {
      "cell_type": "markdown",
      "source": [
        "Du hast erfolgreich einen Entscheidungsbaum programmiert! Damit hasgt Du wertvolle Erfahrung gesammelt, die dir in Zukunft bei der Lösung ähnlicher Probleme helfen wird. Es gibt noch viele weitere Anwendungsfälle für Entscheidungsbäume, die du erkunden kannst. Wenn du möchtest, kannst du dich in Zukunft an diesen Herausforderungen versuchen und dein Wissen und Können weiter ausbauen.\n",
        "\n",
        "* **Qualitätskontrolle in der Fertigung**: Ein Entscheidungsbaum könnte trainiert werden, um Produkte auf der Grundlage einer Reihe von Merkmalen wie Abmessungen, Gewicht und Materialzusammensetzung als akzeptabel oder fehlerhaft zu klassifizieren.\n",
        "\n",
        "* **Kundensegmentierung**: Mit Hilfe eines Entscheidungsbaums können Kunden auf der Grundlage ihres Kaufverhaltens, ihrer demografischen Daten und anderer Merkmale segmentiert werden. Diese Informationen können für maßgeschneiderte Marketingkampagnen und zur Verbesserung der Kundenbindung genutzt werden.\n",
        "\n",
        "* **Kreditwürdigkeitsprüfung**: Ein Entscheidungsbaum könnte verwendet werden, um Kreditanträge auf der Grundlage von Faktoren wie Kreditwürdigkeit, Einkommen und Beschäftigungsgeschichte entweder als risikoreich oder als risikoarm einzustufen.\n",
        "\n",
        "* **Erkennung von Betrug**: Ein Entscheidungsbaum könnte verwendet werden, um betrügerische Transaktionen auf der Grundlage von Faktoren wie Transaktionsbetrag, Standort und Tageszeit zu erkennen.\n",
        "\n",
        "* **Condition-based Maintenance:** Ein Entscheidungsbaum könnte verwendet werden, um vorherzusagen, wann eine Maschine oder ein Gerät wahrscheinlich gewartet oder ausgetauscht werden muss, und zwar auf der Grundlage von Daten wie Nutzungsmuster, Alter und historische Wartungsaufzeichnungen."
      ],
      "metadata": {
        "id": "MT6z68q9DPKr"
      }
    },
    {
      "cell_type": "code",
      "source": [],
      "metadata": {
        "id": "6qHV7FJ8KBxb"
      },
      "execution_count": null,
      "outputs": []
    }
  ],
  "metadata": {
    "kernelspec": {
      "display_name": "Python (MLiP)",
      "language": "python",
      "name": "python-mlip"
    },
    "language_info": {
      "codemirror_mode": {
        "name": "ipython",
        "version": 3
      },
      "file_extension": ".py",
      "mimetype": "text/x-python",
      "name": "python",
      "nbconvert_exporter": "python",
      "pygments_lexer": "ipython3",
      "version": "3.7.4"
    },
    "colab": {
      "provenance": [],
      "include_colab_link": true
    }
  },
  "nbformat": 4,
  "nbformat_minor": 0
}