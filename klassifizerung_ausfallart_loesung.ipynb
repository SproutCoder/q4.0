{
  "cells": [
    {
      "cell_type": "markdown",
      "metadata": {
        "id": "view-in-github",
        "colab_type": "text"
      },
      "source": [
        "<a href=\"https://colab.research.google.com/github/SproutCoder/q4.0/blob/main/klassifizerung_ausfallart.ipynb\" target=\"_parent\"><img src=\"https://colab.research.google.com/assets/colab-badge.svg\" alt=\"Open In Colab\"/></a>"
      ]
    },
    {
      "cell_type": "markdown",
      "id": "a4e4314c",
      "metadata": {
        "papermill": {
          "duration": 0.011959,
          "end_time": "2022-09-30T11:57:04.151836",
          "exception": false,
          "start_time": "2022-09-30T11:57:04.139877",
          "status": "completed"
        },
        "tags": [],
        "id": "a4e4314c"
      },
      "source": [
        "# 🌳 Entscheidungsbaum: Ausfallarten klassifizieren für Maschinenwartung\n",
        "\n",
        "In diesem Colab-Notebook geht es darum, ein Entscheidungsbaum-Modell zu trainieren, um herauszufinden, welche Art von Ausfall bei einer Maschine während des Betriebs auftreten kann, indem Daten von Sensoren verwendet werden. Wenn man weiß, welche Art von Ausfall am wahrscheinlichsten ist, kann man präventive Wartungsmaßnahmen ergreifen, um diesen Ausfall zu verhindern oder zu reduzieren. Das Modell kann helfen, die Wartung effizienter zu gestalten und möglicherweise auch die Betriebszeit der Maschine zu verlängern. Das Notebook erklärt Schritt für Schritt, wie man den Datensatz kennenlernt, ihn für das Training des Computerprogramms vorbereitet und wie man das trainierte Programm testet. Schließlich wird mit Beispieldaten klassifiziert, welche Art von Ausfall bei einer Maschine vorliegt."
      ]
    },
    {
      "cell_type": "markdown",
      "source": [
        "zuletzt geprüft: 11.05.2023 CK"
      ],
      "metadata": {
        "id": "E2jfacpaDgnw"
      },
      "id": "E2jfacpaDgnw"
    },
    {
      "cell_type": "markdown",
      "source": [
        "### Prozessschritte Modellentwicklung\n",
        "1. Daten einlesen\n",
        "2. Daten erkunden\n",
        "3. Daten vorbereiten\n",
        "4. Modelle bilden\n",
        "5. Modelle validieren\n",
        "6. Modell testen"
      ],
      "metadata": {
        "id": "eCejkCv95ifV"
      },
      "id": "eCejkCv95ifV"
    },
    {
      "cell_type": "markdown",
      "metadata": {
        "id": "OOJSaNfk0TsE"
      },
      "source": [
        "## 0. Bibliotheken importieren"
      ],
      "id": "OOJSaNfk0TsE"
    },
    {
      "cell_type": "markdown",
      "source": [
        "Bibliotheken stellen vorgefertigten Code bereit, mit dem Ihr bestimmte Aufgaben einfacher und schneller erledigen könnt. Für Maschine Learning Projekte gibt es viele Bibliotheken in Python, wie NumPy, Pandas, Scikit-learn, TensorFlow und Keras. Diese Bibliotheken bieten viele nützliche Funktionen und Werkzeuge für das maschinelle Lernen, wie z. B. die Aufbereitung von Daten, die Visualisierung von Daten, und die Auswertung von Modellen.\n",
        "\n",
        "Das Verwendend dieser Bibliotheken kann Euch viel Zeit und Mühe sparen, da Ihr nicht alles von Grund auf neu schreiben müsst. Ihr könnte die Bibliothek einfach importieren und ihre vorgesfertigten Funktionen verwenden, um das benötigte zu erledigen."
      ],
      "metadata": {
        "id": "OzirVozpgPkH"
      },
      "id": "OzirVozpgPkH"
    },
    {
      "cell_type": "code",
      "execution_count": null,
      "id": "82e02a2f",
      "metadata": {
        "execution": {
          "iopub.execute_input": "2022-09-30T11:57:04.203519Z",
          "iopub.status.busy": "2022-09-30T11:57:04.202884Z",
          "iopub.status.idle": "2022-09-30T11:57:05.348605Z",
          "shell.execute_reply": "2022-09-30T11:57:05.347275Z"
        },
        "papermill": {
          "duration": 1.161951,
          "end_time": "2022-09-30T11:57:05.351505",
          "exception": false,
          "start_time": "2022-09-30T11:57:04.189554",
          "status": "completed"
        },
        "tags": [],
        "id": "82e02a2f"
      },
      "outputs": [],
      "source": [
        "# Importiere benötigte Bibliotheken\n",
        "import numpy as np # https://numpy.org/doc/stable/\n",
        "import pandas as pd # https://pandas.pydata.org/docs/\n",
        "import seaborn as sns # https://seaborn.pydata.org/tutorial.html\n",
        "import matplotlib.pyplot as plt # https://matplotlib.org/3.5.3/api/_as_gen/matplotlib.pyplot.html"
      ]
    },
    {
      "cell_type": "markdown",
      "metadata": {
        "id": "HKSHJtPB0Tsp"
      },
      "source": [
        "## 1. Daten einlesen\n",
        "\n",
        "Wenn wir einem Computer beibringen wollen, wie er ein Problem lösen soll, müssen wir ihm zunächst einige Beispiele geben, anhand derer er lernen kann. Diese Beispiele werden \"Daten\" genannt. Der Computer schaut sich die Daten an und versucht, Muster oder Regeln zu finden, die ihm helfen, ähnliche Probleme in der Zukunft zu lösen.\n",
        "\n",
        "Bevor wir also damit beginnen können, dem Computer etwas beizubringen, müssen wir die richtigen Daten für ihn finden und in das Computer Programm laden, so dass später daraus gelernt werden kann."
      ],
      "id": "HKSHJtPB0Tsp"
    },
    {
      "cell_type": "markdown",
      "source": [
        "### 1.1 CSV-Datei in Colab ablegen"
      ],
      "metadata": {
        "id": "fqzhvlioQfCx"
      },
      "id": "fqzhvlioQfCx"
    },
    {
      "cell_type": "markdown",
      "source": [
        " Wir legen nun die Datei `predictive_maintenance.csv` in unserer Colab-Umgebung ab. Ihr könnt die Datei [hier](https://drive.google.com/file/d/1xkZRQvCpx1sQ6GBs7VkrRclap4R1qZL1/view?usp=share_link) runterladen.\n",
        "Als nächstes klickt auf der rechten Seite auf Ordner-das Symbol:\n",
        "\n",
        "![grafik.png](data:image/png;base64,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)\n",
        "\n",
        "Nach dem Anklicken, finden wir die Möglichkeit unsere eigene Datei dort hochzuladen:\n",
        "\n",
        "![grafik.png](data:image/png;base64,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)\n"
      ],
      "metadata": {
        "id": "rWWcb5eyRPy3"
      },
      "id": "rWWcb5eyRPy3"
    },
    {
      "cell_type": "markdown",
      "source": [
        "### 1.2.a Daten einlesen - Übung"
      ],
      "metadata": {
        "id": "27vL8NxZ76eT"
      },
      "id": "27vL8NxZ76eT"
    },
    {
      "cell_type": "markdown",
      "source": [
        "Mit dem Befehl ```df=pd.read_csv(\"/Ordnername/Dateiname.csv\") ```lesen wir eine durch Komma getrennte csv-Datei ein und speichern sie mit dem Namen 'df' ab. Der Name 'df' ist Konvention und steht für \"DataFrame\". DataFrames sind Tabellen, die auf Pandas zugeschnitten sind.\n",
        "\n",
        "Der Dateipfad zu unserer Datei in Colab lautet `/content/predictive_maintenance.csv`"
      ],
      "metadata": {
        "id": "tpWpEi0j9rYV"
      },
      "id": "tpWpEi0j9rYV"
    },
    {
      "cell_type": "code",
      "source": [
        "#Daten einlesen\n",
        "# DEIN CODE HIER"
      ],
      "metadata": {
        "id": "uLEbbqn0QEQh"
      },
      "id": "uLEbbqn0QEQh",
      "execution_count": null,
      "outputs": []
    },
    {
      "cell_type": "code",
      "execution_count": null,
      "metadata": {
        "execution": {
          "iopub.execute_input": "2022-09-30T11:57:05.449940Z",
          "iopub.status.busy": "2022-09-30T11:57:05.449360Z",
          "iopub.status.idle": "2022-09-30T11:57:05.583089Z",
          "shell.execute_reply": "2022-09-30T11:57:05.581924Z"
        },
        "papermill": {
          "duration": 0.150148,
          "end_time": "2022-09-30T11:57:05.585569",
          "exception": false,
          "start_time": "2022-09-30T11:57:05.435421",
          "status": "completed"
        },
        "tags": [],
        "id": "893aad5f",
        "cellView": "form"
      },
      "outputs": [],
      "source": [
        "#@title  1.2.b Lösung ein/ausklappen\n",
        "#Daten einlesen\n",
        "df=pd.read_csv(\"/content/predictive_maintenance.csv\")"
      ],
      "id": "893aad5f"
    },
    {
      "cell_type": "markdown",
      "metadata": {
        "id": "HOJvODQM0Tss"
      },
      "source": [
        "## 2. Daten erkunden\n",
        "Beim maschinellen Lernen ist es wichtig, die Daten zu erkunden und kennenzulernen, um Muster, Trends und Beziehungen zu verstehen. Das hilft bei der Entscheidung, welcher Algorithmus für das Lernen verwendet werden soll und wie die Daten vorbereitet werden müssen. Ein Beispiel wäre, dass man für die Vorhersage, ob eine Schülerin einen Test besteht oder nicht, herausfindet, dass eine hohe Anwesenheit der Schülerin zu guten Noten führt. Diese Erkenntnis kann helfen, die Genauigkeit des Modells zu verbessern, indem die Anwesenheitsdaten in das Modell einbezogen werden. Im Entscheidungsbaummodell, das in diesem Beispiel erstellt wird, werden alle Merkmale verwendet, da die Anzahl der Merkmale üebrschaubar ist."
      ],
      "id": "HOJvODQM0Tss"
    },
    {
      "cell_type": "markdown",
      "source": [
        "### 2.1.a Stichprobe anzeigen lassen - Übung"
      ],
      "metadata": {
        "id": "D2YksmmeR6t8"
      },
      "id": "D2YksmmeR6t8"
    },
    {
      "cell_type": "markdown",
      "source": [
        "Verschaffen wir uns Mal einen Überblick über die importierte Tabelle! Mit dem Befehl ```df.sample(6) ``` können wir eine zufällige Stichprobe aus unserem Datensatz ausgeben lassen, die sechs Elemente enthält.\n",
        "\n",
        "Weitere Informationen zum Befehl [hier](https://pandas.pydata.org/docs/reference/api/pandas.DataFrame.sample.html)."
      ],
      "metadata": {
        "id": "3bCrgeZN_0JQ"
      },
      "id": "3bCrgeZN_0JQ"
    },
    {
      "cell_type": "code",
      "source": [
        "# gib eine zufällige Stichprobe aus der Tabelle 'df' aus\n",
        "#DEIN CODE HIER"
      ],
      "metadata": {
        "id": "5pkEwAPw_wCM"
      },
      "execution_count": null,
      "outputs": [],
      "id": "5pkEwAPw_wCM"
    },
    {
      "cell_type": "code",
      "source": [
        "#@title  2.1.b Lösung ein/ausklappen\n",
        "# gib eine zufällige Stichprobe mit sechs Elementen aus\n",
        "df.sample(6) #entnimmt sechs zufällige Stichproben"
      ],
      "metadata": {
        "id": "-zSSp5XHR4vu",
        "cellView": "form"
      },
      "execution_count": null,
      "outputs": [],
      "id": "-zSSp5XHR4vu"
    },
    {
      "cell_type": "markdown",
      "source": [
        "### 2.1.c Beschreibung des Datensatzes\n",
        "\n",
        "Der vorliegende Datensatz besteht aus 10 000 Datenpunkten, die als Zeilen mit 14 Merkmalen in Spalten gespeichert sind\n",
        "\n",
        "* UID: eindeutiger Bezeichner im Bereich von 1 bis 10000\n",
        "* productID: bestehend aus den Buchstaben L, M oder H für niedrige/low , mittlere/mediumund hohe/high Produktqualitätsvarianten und einer variantenspezifischen Seriennummer\n",
        "* Lufttemperatur [K]\n",
        "* Prozesstemperatur [K]\n",
        "* Drehzahl [U/min]\n",
        "* Drehmoment [Nm]\n",
        "* Werkzeugverschleiß [min]: Die Qualitätsvarianten H/M/L fügen dem eingesetzten Werkzeug im Prozess 5/3/2 Minuten Werkzeugverschleiß hinzu\n",
        "\n",
        "\n",
        "* Ziel : Versagen oder nicht (1 oder 0)\n",
        "* Fehlertyp : Art des Ausfalls\n",
        "\n",
        "\n",
        "Ursprüngliche Quelle des Datensatzes und weitere Infos dazu [hier](https://www.kaggle.com/datasets/shivamb/machine-predictive-maintenance-classification)."
      ],
      "metadata": {
        "id": "EdZJEsgf4aay"
      },
      "id": "EdZJEsgf4aay"
    },
    {
      "cell_type": "markdown",
      "source": [
        "### 2.2.a Visualisierung der Daten (Streudiagramm) - Übung"
      ],
      "metadata": {
        "id": "0AkxVOfJyf60"
      },
      "id": "0AkxVOfJyf60"
    },
    {
      "cell_type": "markdown",
      "source": [
        "Wir möchten eine Grafik erstellen um ein Gefühl für die Daten zu bekommen. Hierfür werden wir [Seaborn](https://seaborn.pydata.org/tutorial.html) benutzen. Seaborn ist eine Python-Datenvisualisierungsbibliothek, die auf [matplotlib](https://matplotlib.org/stable/users/getting_started/) basiert und die Erstellung anschaulicher Grafiken ermöglicht."
      ],
      "metadata": {
        "id": "7kuiX2lJiLLI"
      },
      "id": "7kuiX2lJiLLI"
    },
    {
      "cell_type": "markdown",
      "source": [
        "Um eine neue Grafik anzulegen, nutzen wir den Befehl ```plt.figure(figsize=15,6)) ```. Mit den Parametern ```figsize=15,6``` geben wir die Weite (15\") und Höhe (6\") der Grafik in Zoll an. Diese Grafik ist zunächst leer, im folgendem Abschnitt füllen wir sie mit einem sogenannte *Swarm Plot*.\n",
        "\n",
        "Mit dem Befehl ```sns.swarmplot(x,y,hue)``` lässt sich ein Streudiagramm erstellen, das so angepasst, dass sich die angegebenen Kategorien nicht überschneiden).\n",
        "\n",
        "- **x** und **y** sind die Merkmale, die dargestellt werden sollen\n",
        "- **hue** legt die Farben basierend auf dem ausgewählten Merkmal fest\n",
        "\n",
        "\n",
        "Genauere Beschreibung des Befehls [hier](https://seaborn.pydata.org/generated/seaborn.swarmplot.html).\n",
        "\n",
        "\n",
        "Unser x-Input ist hier ```df[\"Drehmoment [Nm]\"``` und unser y-Input ist ```df[\"Ausfallart\"]```. Für hue setzen wir ebenfalls die Ausfallart ein.\n",
        "\n",
        "Die Zeile `data=df.query('Ausfallart != \"Kein Ausfall\"')` filtert die Daten des DataFrames df so, dass alle Zeilen, bei denen die Ausfallart \"Kein Ausfall\" ist, ausgeschlossen werden. Das bedeutet, dass in der Visualisierung mit dem Schwarmplot nur noch die Daten angezeigt werden, bei denen es tatsächlich zu einem Ausfall gekommen ist. Dadurch wird die Visualisierung übersichtlicher und es können gezielter Erkenntnisse über die verschiedenen Ausfallarten gewonnen werden."
      ],
      "metadata": {
        "id": "JkoFdszFprCg"
      },
      "id": "JkoFdszFprCg"
    },
    {
      "cell_type": "code",
      "source": [
        "# swarm plot\n",
        "plt.figure(figsize = (15, 6))\n",
        "plt.grid()\n",
        "# DEIN CODE HIER | swarm plot erstellen zu Drehmoment und Ausfallart sns.swarmplot(x=\"...\", y=\"...\", hue=\"...\", data=df.query('Ausfallart != \"Kein Ausfall\"'))"
      ],
      "metadata": {
        "id": "lJVH-WipK8VN"
      },
      "execution_count": null,
      "outputs": [],
      "id": "lJVH-WipK8VN"
    },
    {
      "cell_type": "markdown",
      "source": [
        "### 2.2.b Visualisierung der Daten (Streudiagramm) - Lösung"
      ],
      "metadata": {
        "id": "9ZaKWQ8iVbsZ"
      },
      "id": "9ZaKWQ8iVbsZ"
    },
    {
      "cell_type": "code",
      "execution_count": null,
      "metadata": {
        "execution": {
          "iopub.execute_input": "2022-09-30T11:57:11.078980Z",
          "iopub.status.busy": "2022-09-30T11:57:11.078524Z",
          "iopub.status.idle": "2022-09-30T11:57:11.083437Z",
          "shell.execute_reply": "2022-09-30T11:57:11.082228Z"
        },
        "papermill": {
          "duration": 0.03805,
          "end_time": "2022-09-30T11:57:11.085561",
          "exception": false,
          "start_time": "2022-09-30T11:57:11.047511",
          "status": "completed"
        },
        "tags": [],
        "id": "0726bf7d",
        "cellView": "form"
      },
      "outputs": [],
      "source": [
        "#@title  2.2.b Lösung ein/ausklappen\n",
        "# swarm plot\n",
        "plt.figure(figsize=(15, 6))\n",
        "plt.grid()\n",
        "sns.swarmplot(x=\"Drehmoment [Nm]\", y=\"Ausfallart\", hue=\"Ausfallart\",\n",
        "              data=df.query('Ausfallart != \"Kein Ausfall\"'))"
      ],
      "id": "0726bf7d"
    },
    {
      "cell_type": "markdown",
      "source": [
        "Seht ihr in dieser Grafik bereits Muster? Die visuelle Darstellung gibt uns eine erste Intuition wann welche Art von Ausfall besonders wahrscheinlich ist. Es wäre schön, wenn uns ein Machine Learning Modell automatisiert sagen könnte, welche Art von Ausfall vorliegt, wenn wir dem Modell unsere Messdaten geben. Um ein solches Modell zu trainieren, müssen wir unsere Daten aber erstmal vorbereiten."
      ],
      "metadata": {
        "id": "NPtWzOuY1CUM"
      },
      "id": "NPtWzOuY1CUM"
    },
    {
      "cell_type": "markdown",
      "metadata": {
        "id": "CShd7ZBg0Tsw"
      },
      "source": [
        "## 3. Daten vorbereiten\n",
        "Das Vorbereiten von Daten für Machine Learning Projekte ist wichtig, da es dazu beiträgt, dass das ML-Modell genau und zuverlässig ist. Wenn Ihr mit Daten arbeitet, sind diese oft chaotisch. Beispielsweise können Daten fehlende Werte aufweisen, im falschen Format vorliegen oder Ausreißer enthalten (Werte, die weit von den anderen Datenpunkten entfernt sind). Die Datenvorbereitung umfasst die Bereinigung und Organisation der Daten, damit das ML-Modell effektiv mit ihnen arbeiten kann."
      ],
      "id": "CShd7ZBg0Tsw"
    },
    {
      "cell_type": "markdown",
      "source": [
        "In diesem Abschnitt verarbeiten wir unsere Daten, sodass wir sie später für das Training verwenden können. Wir werden hier\n",
        "\n",
        "1. nicht benötigte Merkmale/Spalten entfernen\n",
        "2. Einträge im Datensatz ändern (nämliche die Temperatur konvertieren von Kelvin zu Grad Celsius)\n",
        "3. ein neues Merkmal berechnen, basierend auf zwei bereits vorhandenen Merkmale im Datensatz (nämlich Berechnung der Temperaturdifferenz)\n",
        "4. Kategorien als Zahlen enkodieren\n",
        "\n",
        "Dazu werden wir *Pandas* verwenden. [Pandas](https://pandas.pydata.org/docs/getting_started/overview.html) ist eine Bibliothek für Python, die die Verarbeitung und die Analyse von Daten vereinfacht."
      ],
      "metadata": {
        "id": "eHegVppd6UI0"
      },
      "id": "eHegVppd6UI0"
    },
    {
      "cell_type": "markdown",
      "source": [
        "### 3.1.a Merkmale entfernen - Übung"
      ],
      "metadata": {
        "id": "IjWv4vm18AWD"
      },
      "id": "IjWv4vm18AWD"
    },
    {
      "cell_type": "markdown",
      "source": [
        "Die Spalten 'UDI' und 'Product ID' enthalten keine Informationen, die dabei helfen zu entscheiden, ob die Maschine ausfällt - sie sind bloß sowas wie Namen.\n",
        "\n",
        "Mit dem Befehl ```df.drop()``` können Zeilen und Spalten entfernt werden. Dazu gibt man den Namen der Spalte an und die entsprechende Achse.\n",
        "\n",
        "Weitere Informationen zum Befehl [hier](https://pandas.pydata.org/docs/reference/api/pandas.DataFrame.drop.html)."
      ],
      "metadata": {
        "id": "B91n00wgBZjY"
      },
      "id": "B91n00wgBZjY"
    },
    {
      "cell_type": "code",
      "source": [
        "# löscht die Spalten \"UDI\" und \"Product ID\"\n",
        "df = # DEIN CODE HIER\n",
        "df.sample(6)"
      ],
      "metadata": {
        "id": "ZkSPxluYTgMP"
      },
      "id": "ZkSPxluYTgMP",
      "execution_count": null,
      "outputs": []
    },
    {
      "cell_type": "code",
      "source": [
        "#@title  3.1.b Lösung ein/ausklappen\n",
        "# löscht die Spalten \"UDI\" und \"Product ID\"\n",
        "df = df.drop([\"UDI\",\"Product ID\"],axis='columns')\n",
        "df.sample(6)"
      ],
      "metadata": {
        "id": "11ri5gY34hwL",
        "cellView": "form"
      },
      "id": "11ri5gY34hwL",
      "execution_count": null,
      "outputs": []
    },
    {
      "cell_type": "markdown",
      "source": [
        "### 3.2.a Einträge ändern (Temperatur konvertieren) - Übung"
      ],
      "metadata": {
        "id": "os8WZQv78Eqm"
      },
      "id": "os8WZQv78Eqm"
    },
    {
      "cell_type": "markdown",
      "source": [
        "Die gemessene Temperatur ist in unserer Tabelle in Kelvin [K] angegeben. Für uns ist die Einheit Grad Celsius [°C] viel intuitiver, daher ändern konvertieren wir die gegeben Temperaturwerte von Kelvin zu Grad Celsius."
      ],
      "metadata": {
        "id": "C3sef1pDE0Dl"
      },
      "id": "C3sef1pDE0Dl"
    },
    {
      "cell_type": "markdown",
      "source": [
        "Um jeweils den entsprechenden Celsius-Wert zu erhalten, muss vom Kelvin-Wert jeweils 273,15 abgezogen werden.\n",
        "Zum Beispiel entsprechen 1 K dann -272,15 °C. Die Rechnung dazu:  \n",
        "\n",
        "1K = (1 - 273,15) °C = 272,15 °C\n",
        "\n",
        "**Achtung:** In Python (und im Englischen) werden Kommazahlen mit einem Punkt angegeben (statt 273,15 ist es in Python 273.15)."
      ],
      "metadata": {
        "id": "M6L9kSorI_7h"
      },
      "id": "M6L9kSorI_7h"
    },
    {
      "cell_type": "markdown",
      "source": [
        "Wir können mit dem Befehl ```df[\"Spaltenname1\"]``` auf die Spalte mit der Berzeichnung 'Spaltenname1' zugreifen und ändern.\n",
        "\n",
        "Wir nehmen die bisherigen Temperaturwerte und ziehen ihnen jeweils 273.15 ab und speichern das Ergebnis (die Temperatur in °C) in der Spalte ab, in der bisher die Tempertaur in Kelvin gespeichert war.\n",
        "\n",
        "Zuletzt müssen wir noch die Spaltenbezeichnung anpassen:"
      ],
      "metadata": {
        "id": "xHsrBbZVJJ8E"
      },
      "id": "xHsrBbZVJJ8E"
    },
    {
      "cell_type": "code",
      "source": [
        "# Temperaturen konvertieren von Kelvin zu Grad Celsius [0 K = -273.15 °C]\n",
        "df[\"Lufttemperatur [K]\"] = df[\"Lufttemperatur [K]\"] - 273.15\n",
        "\n",
        "# Temperatur umbennenn von Kelvin (K) zu Grad Celsius (°C)\n",
        "df.rename(columns={\"Lufttemperatur [K]\" : \"Lufttemperatur [°C]\"},inplace=True)\n",
        "df.sample(3)"
      ],
      "metadata": {
        "id": "zJLUGjycLWbV"
      },
      "id": "zJLUGjycLWbV",
      "execution_count": null,
      "outputs": []
    },
    {
      "cell_type": "markdown",
      "source": [
        "Mit dem Befehl ```df.rename()``` lassen sich Achsen umbennen. Mit dem Parameter ```inplace = True``` wird die bisherige Tabelle df überschrieben - alternativ kann auch eine Kopie erstellt werden. Weitere Infos zum Befehl [hier](https://pandas.pydata.org/docs/reference/api/pandas.DataFrame.rename.html)."
      ],
      "metadata": {
        "id": "k1fsf6dcHdDn"
      },
      "id": "k1fsf6dcHdDn"
    },
    {
      "cell_type": "markdown",
      "source": [
        "Mache nun dasselbe für die Spalte 'Prozesstemperatur':"
      ],
      "metadata": {
        "id": "mYiyM0KYLvfj"
      },
      "id": "mYiyM0KYLvfj"
    },
    {
      "cell_type": "code",
      "source": [
        "# Temperaturen konvertieren von Kelvin zu Grad Celsius [0 K = -273.15 °C] - Prozesstemperatur\n",
        "# DEIN CODE HIER\n",
        "\n",
        "# Temperatur umbennenn von Kelvin (K) zu Grad Celsius (°C) - Prozesstemperatur\n",
        "# DEIN CODE HIER\n",
        "\n",
        "df.sample(3) #damit wir sehen, dass es geklappt hat :)"
      ],
      "metadata": {
        "id": "FqPWayiVHQgT"
      },
      "id": "FqPWayiVHQgT",
      "execution_count": null,
      "outputs": []
    },
    {
      "cell_type": "code",
      "source": [
        "#@title  3.2.b Lösung ein/ausklappen\n",
        "df[\"Prozesstemperatur [K]\"] = df[\"Prozesstemperatur [K]\"] - 273.15\n",
        "df.rename(columns={\"Prozesstemperatur [K]\" : \"Prozesstemperatur [°C]\"},inplace=True)\n",
        "df.sample(3)"
      ],
      "metadata": {
        "id": "mNLWbjQSMgbn",
        "cellView": "form"
      },
      "id": "mNLWbjQSMgbn",
      "execution_count": null,
      "outputs": []
    },
    {
      "cell_type": "markdown",
      "source": [
        "### 3.3 Neue Spalte (neues Merkmal) anlegen"
      ],
      "metadata": {
        "id": "deFFb8NFE5Vq"
      },
      "id": "deFFb8NFE5Vq"
    },
    {
      "cell_type": "markdown",
      "source": [
        "Das DataFrame df wird um eine neue Spalte `\"Temperaturdifferenz [°C]\"` erweitert, indem die Temperatur in der Spalte `\"Prozesstemperatur [°C]\"` um die Temperatur in der Spalte `\"Lufttemperatur [°C]\"` subtrahiert wird. Mit `df.sample(3)` werden drei zufällige Zeilen aus dem DataFrame angezeigt, um zu zeigen, wie die Daten jetzt aussehen."
      ],
      "metadata": {
        "id": "r37brvBjHCST"
      },
      "id": "r37brvBjHCST"
    },
    {
      "cell_type": "code",
      "execution_count": null,
      "id": "a820cdd9",
      "metadata": {
        "execution": {
          "iopub.execute_input": "2022-09-30T11:57:05.650752Z",
          "iopub.status.busy": "2022-09-30T11:57:05.650035Z",
          "iopub.status.idle": "2022-09-30T11:57:05.671416Z",
          "shell.execute_reply": "2022-09-30T11:57:05.670572Z"
        },
        "papermill": {
          "duration": 0.037609,
          "end_time": "2022-09-30T11:57:05.673527",
          "exception": false,
          "start_time": "2022-09-30T11:57:05.635918",
          "status": "completed"
        },
        "tags": [],
        "id": "a820cdd9"
      },
      "outputs": [],
      "source": [
        "df[\"Temperaturdifferenz [°C]\"] = df[\"Prozesstemperatur [°C]\"] - df[\"Lufttemperatur [°C]\"]\n",
        "df.sample(3)"
      ]
    },
    {
      "cell_type": "markdown",
      "source": [
        "### 3.4 Ausfallkategorien als Zahlen enkodieren"
      ],
      "metadata": {
        "id": "L0KQ8ir40_59"
      },
      "id": "L0KQ8ir40_59"
    },
    {
      "cell_type": "markdown",
      "source": [
        "Bevor wir Scikits Entscheidungsbäume benutzen können, müssen wir noch eine kleine Änderung an unseren Daten vornehmen. Denn die einprogrammierten Entscheidungsbäume benötigen Zahlenwerte. Unsere Merkmale \"Ausfallart\" und \"Typ\" sind jedoch Zeichketten (sogenannte *strings*). Daher werden wir jetzt erstmal diese Merkmale in Zahlen umwandeln.\n",
        "\n",
        "Um uns die Arbeit etwas zu erleichtern, nutzen wir dafür ein Paket:"
      ],
      "metadata": {
        "id": "OmHPl2Zi4r4n"
      },
      "id": "OmHPl2Zi4r4n"
    },
    {
      "cell_type": "markdown",
      "source": [
        "Die Bibliothek [Category Encoder](https://contrib.scikit-learn.org/category_encoders/) bietet u.a.\n",
        "-  Mittel um kategorische Variablen (in Textform) umzuwandeln in Zahlen.\n",
        "- Unterstützung für Pandas-Tabellen als Eingabe (und optional als Ausgabe)\n",
        "\n",
        "Also installieren wir sie nun in Colab:"
      ],
      "metadata": {
        "id": "7yusF9axxmVf"
      },
      "id": "7yusF9axxmVf"
    },
    {
      "cell_type": "code",
      "execution_count": null,
      "metadata": {
        "execution": {
          "iopub.execute_input": "2022-09-30T11:57:16.531054Z",
          "iopub.status.busy": "2022-09-30T11:57:16.530591Z",
          "iopub.status.idle": "2022-09-30T11:57:16.907556Z",
          "shell.execute_reply": "2022-09-30T11:57:16.906269Z"
        },
        "papermill": {
          "duration": 0.421773,
          "end_time": "2022-09-30T11:57:16.909774",
          "exception": false,
          "start_time": "2022-09-30T11:57:16.488001",
          "status": "completed"
        },
        "tags": [],
        "id": "02bf7fc9"
      },
      "outputs": [],
      "source": [
        "!pip install category_encoders #das muss vor der Benutzung in Colab installiert werden"
      ],
      "id": "02bf7fc9"
    },
    {
      "cell_type": "code",
      "source": [
        "#schauen wir nochmal, wie unsere Tabelle vor der Transformation aussieht\n",
        "df.head(2) #zeigt die ersten zwei Einträge der Tabelle an"
      ],
      "metadata": {
        "id": "_3S-w66q3Shu"
      },
      "execution_count": null,
      "outputs": [],
      "id": "_3S-w66q3Shu"
    },
    {
      "cell_type": "markdown",
      "source": [
        "Um die frisch installierte Bibliothek nutzen zu können, müssen wir sie importieren"
      ],
      "metadata": {
        "id": "-MAkylCntHAH"
      },
      "id": "-MAkylCntHAH"
    },
    {
      "cell_type": "code",
      "source": [
        "import category_encoders as ce # https://contrib.scikit-learn.org/category_encoders/"
      ],
      "metadata": {
        "id": "lhRKJ8fQ0ioF"
      },
      "execution_count": null,
      "outputs": [],
      "id": "lhRKJ8fQ0ioF"
    },
    {
      "cell_type": "markdown",
      "source": [
        "Der Befehl ```ce.OrdinalEncoder()``` kodiert kategorische Merkmale, die zuvor als String gespeichert waren, als Zahlen.\n",
        "Wenn wir zwischen den Klammern noch angeben ```cols=['Typ','Ausfallart']```, bestimmen wir welche Spalten kodiert werden sollen. Geben wir das nicht an, werden alle String-Spalten kodiert. Wir speichern unseren ENcoder und welche Spalten er kodiert unter einem Variabel-Namen ab ```encoder```."
      ],
      "metadata": {
        "id": "2KkuN4zXtkxL"
      },
      "id": "2KkuN4zXtkxL"
    },
    {
      "cell_type": "markdown",
      "source": [
        "Nun können wir mit ```encoder.fit_transform(df)``` unsere Tabelle ```df``` enkodieren, d.h. die Inhalte der Spalten 'Typ' und 'Ausfallart' werden jetzt in Zahlen umgewandelt."
      ],
      "metadata": {
        "id": "GgupndvmwE6-"
      },
      "id": "GgupndvmwE6-"
    },
    {
      "cell_type": "code",
      "source": [
        "encoder = ce.OrdinalEncoder(cols=['Typ','Ausfallart']) #encoder-Regel vorgeben\n",
        "df = encoder.fit_transform(df) #encoder anwenden\n",
        "df.head(2) #nach der Transformation: die Einträge bei 'Ausfallart' und 'Typ' sind jetzt durch Zahlen beschrieben"
      ],
      "metadata": {
        "id": "G99tdWgItdED"
      },
      "execution_count": null,
      "outputs": [],
      "id": "G99tdWgItdED"
    },
    {
      "cell_type": "markdown",
      "source": [
        "### 3.5.a Trainingsdaten und Trainingszielgröße festlegen - Übung"
      ],
      "metadata": {
        "id": "e96C91fjYXFZ"
      },
      "id": "e96C91fjYXFZ"
    },
    {
      "cell_type": "markdown",
      "source": [
        "Bei einem Machine Learning Projekt haben wir in der Regel eine Reihe von Daten, aus denen der Computer lernen soll. Der Computer muss jedoch wissen, welche Teile der Daten er beachten und welche er vorhersagen soll.\n",
        "Also teilen wir die Daten in zwei Teile auf:\n",
        "* Der Teil, der dem Computer beibringt, worauf er achten soll, wird \"Merkmale\" genannt. Wir sagen dem Computer, dass er sich diese Merkmale ansehen und herausfinden soll, wie sie mit dem Teil zusammenhängen, den er vorhersagen soll.\n",
        "* Der Teil, den der Computer vorhersagen soll, wird als \"Zielvariable\" bezeichnet."
      ],
      "metadata": {
        "id": "ZRDc4ZITb2A1"
      },
      "id": "ZRDc4ZITb2A1"
    },
    {
      "cell_type": "markdown",
      "source": [
        "Wir müssen uns nun daran erinnern, was das ML-Modell machen soll: Es soll basierend auf den gegeben Informationen kategorisieren, um welche Ausfallart es sich handelt. Die Ausfallart ist unsere 'Zielvariable', die wir in einer separaten Tabelle mit Namen ```y```abspeichern. Um auf die richtige Spalte in der Tabelle df zuzugreifen und sie abzuspeichern nutzen wir den Befehl ```y = df[\"Ausfallart\"]```"
      ],
      "metadata": {
        "id": "D0wyz7LGw1H0"
      },
      "id": "D0wyz7LGw1H0"
    },
    {
      "cell_type": "markdown",
      "source": [
        "Die 'Merkmalsvariablen' anhand derer das ML-Modell bestimmen soll, um welche Ausfallart es sich handelt speichern wir unter der Variable ```X```(großes X). Dazu nehmen wir unsere Tabelle und lassen die Spalte 'Ausfallart' wegfallen, da sie ja unsere Zielvariable ist, die wir herausfinden wollen. Außerdem lassen wir auch die Spalte 'Ziel' wegfallen, da sie uns bereits angibt, ob ein Ausfall vorliegt. Durch das Wegfallenlassen der Spalte 'Ziel' wird das Training erschwert, aber vor allem etwas realistischer.\n",
        "\n",
        "Mit dem Befehl ```df.drop(columns=[\"Ausfallart\",\"Ziel\"] , axis=1)``` setzen wir dies um.\n",
        "\n",
        "Mit ```axis=1``` geben wir an, dass wir Spalten löschen möchten. Mit columns=[\"Spaltenname1\", \"Spaltenname2\"] geben wir an welche der Spalten wir wegfallen lassen möchten.\n",
        "\n",
        "\n",
        "Weitere Informationen zum Befehl [hier](https://pandas.pydata.org/docs/reference/api/pandas.DataFrame.drop.html).\n"
      ],
      "metadata": {
        "id": "Frde2UkuyTjw"
      },
      "id": "Frde2UkuyTjw"
    },
    {
      "cell_type": "code",
      "source": [
        "# Zielvariable y festlegen\n",
        "y = # DEIN CODE HIER\n",
        "\n",
        "# Merkmalsvariable X festlegen\n",
        "X = # DEIN CODE HIER\n",
        "X.head(2) # Merkmalsvariable ausgeben um zu überprüfen, ob es geklappt hat wie erwartet"
      ],
      "metadata": {
        "id": "gfQssy-MY_FL"
      },
      "id": "gfQssy-MY_FL",
      "execution_count": null,
      "outputs": []
    },
    {
      "cell_type": "code",
      "source": [
        "#@title  3.5.b Lösung ein/ausklappen\n",
        "# Zielvariable y festlegen\n",
        "y = df[\"Ausfallart\"]\n",
        "\n",
        "# Merkmalvariable X festlegen\n",
        "X = df.drop(columns=[\"Ausfallart\",\"Ziel\"] , axis=1)\n",
        "X.head(2)"
      ],
      "metadata": {
        "id": "Cr6egRWWNrTf",
        "cellView": "form"
      },
      "id": "Cr6egRWWNrTf",
      "execution_count": null,
      "outputs": []
    },
    {
      "cell_type": "markdown",
      "source": [
        "### 3.6.a Aufteilen in Training- und Testdatensatz - Übung"
      ],
      "metadata": {
        "id": "8jcbTb1aZ1qI"
      },
      "id": "8jcbTb1aZ1qI"
    },
    {
      "cell_type": "markdown",
      "source": [
        "\n",
        "\n",
        "Die Daten sind jetzt zum gößten Teil in dem Format, das wir haben möchten. Ein wichtiger Schritt der Datenvorbereitung steht dennoch noch aus.\n",
        "\n",
        "Es ist nämlich wichtig bei der Vorbereitung von Daten für ML-Projekte die Daten in Merkmale und Zielmerkmale einzuteilen. Die Merkmale sind die Variablen, die Sie zur Vorhersage des Zielmerkmals verwenden. Was Zielmerkmale sind wurde bereits oben im Abschnit *1. Daten einlesen erklärt*.\n",
        "\n",
        "Warum müssen wir das nochmal machen? Wenn wir einem Computerprogramm etwas beibringen, müssen wir es auch testen, um zu sehen, wie gut es arbeiten kann. An dieser Stelle ist die Aufteilung des Datensatzes sehr nützlich. Wir verwenden einen Teil des Datensatzes, um das Programm zu trainieren, und einen anderen Teil, um zu testen, wie gut es funktioniert.\n",
        "\n",
        "Auf diese Weise können wir sicherstellen, dass das Programm tatsächlich das gelernt hat, was es lernen sollte, und sich nicht nur die Antworten merkt. Das ist so, als würde man überprüfen, ob man wirklich verstanden hat, was man gelernt hat, oder ob man nur alles auswendig gelernt hat, ohne es wirklich zu verstehen. Indem wir das Programm mit einem anderen Datensatz testen, können wir feststellen, ob es wirklich gelernt hat, die maschinellen Fehler richtig zu klassifizieren, oder ob es mehr Training braucht.\n",
        "\n",
        "Es ist also eine gute Idee, den Datensatz in einen Trainings- und einen Testdatensatz aufzuteilen, denn so können wir sicherstellen, dass das Programm, das wir trainieren, tatsächlich lernt und in verschiedenen Situationen gute Leistungen erbringen kann."
      ],
      "metadata": {
        "id": "O_pw_Tjuav5R"
      },
      "id": "O_pw_Tjuav5R"
    },
    {
      "cell_type": "markdown",
      "source": [
        "Für das Aufteilen in Trainings- und Testdaten können wir das Modul ```train_test_split``` importieren.\n",
        "\n",
        "\n",
        "```train_test_split()``` teilt Tabellen zufällig in Trainings- und Testdatensätze auf. Zwischen den Klammern können wir angeben\n",
        "- welche Tabellen wir aufteilen wollen (in unserem Fall ```X```und ```y```).\n",
        "- mit `test_size=0.2` legen wir fest, dass 20% der Daten für den Testdatensatz benutzt werden können\n",
        "-  `random_state=21` steuert das Mischen, das auf die Daten vor der Aufteilung angewendet wird. Damit lässt sich über mehrere Funktionsaufrufe hinweg eine reproduzierbare Ausgabe erstellen."
      ],
      "metadata": {
        "id": "uUkQvTdr1z_Y"
      },
      "id": "uUkQvTdr1z_Y"
    },
    {
      "cell_type": "code",
      "source": [
        "#aufteilen in Training- und Testdaten\n",
        "from sklearn.model_selection import train_test_split # benötigte Funktion importieren\n",
        "X_train,X_test,y_train,y_test = # DEIN CODE HIER | train_test_split() anwenden mit den oben gennannte Parametern"
      ],
      "metadata": {
        "id": "xBx3V5ZKdBiC"
      },
      "id": "xBx3V5ZKdBiC",
      "execution_count": null,
      "outputs": []
    },
    {
      "cell_type": "code",
      "source": [
        "#@title  3.6.b Lösung ein/ausklappen\n",
        "#aufteilen in Training- und Testdaten\n",
        "from sklearn.model_selection import train_test_split\n",
        "X_train,X_test,y_train,y_test = train_test_split(X,y,test_size=0.2,random_state=21)"
      ],
      "metadata": {
        "id": "GwSYOPWA1yx0"
      },
      "execution_count": null,
      "outputs": [],
      "id": "GwSYOPWA1yx0"
    },
    {
      "cell_type": "markdown",
      "source": [
        "## 4. Modelle bilden\n",
        "In diesem Schritt \"bauen\" wir nun das Machine Learning Modell - unseren Entscheidungsbaum. Mit dem gebauten Entscheidungsbaum können wir klassifizieren, welche Ausfallart vorliegt."
      ],
      "metadata": {
        "id": "DOEfw-NH5aPL"
      },
      "id": "DOEfw-NH5aPL"
    },
    {
      "cell_type": "markdown",
      "source": [
        "**Frage**: Warum verwenden wir für dieses Problem einen Entscheidungsbaum?\n",
        "\n",
        "**Antwort**: Das maschinelle Lernen gibt uns verschiedene Werkzeuge zur Problemlösung an die Hand. Bei diesem speziellen Problem wollen wir wissen, welche Art von Maschinenausfall vorliegt. Von den vier Werkzeugen, die wir kennen, ist dasjenige, das uns bei der Beantwortung dieser Frage helfen kann, die Klassifizierung. Ein Entscheidungsbaum ist eine Art von Klassifizierungswerkzeug, das hier verwendet werden kann.\n",
        "\n",
        "Für die Klassifizierung haben wir auch bereits einen konkreten Algorithmus kennengelernt, nämlich Entscheidungsbäume. Die Grundidee wurde beim Affensortieren erläutert. Entscheidungsbäume sind besonders effektiv bei Datensätze, die in Tabellenform vorliegen. Für die technische Umsetzung werden wir gleich die Bibliothek [sciKit-learn](https://scikit-learn.org/stable/tutorial/index.html) benutzen."
      ],
      "metadata": {
        "id": "SxhLrNXO14Q5"
      },
      "id": "SxhLrNXO14Q5"
    },
    {
      "cell_type": "markdown",
      "source": [
        "### 4.1.a Modell \"bauen\" - Übung"
      ],
      "metadata": {
        "id": "h419HSJadmfb"
      },
      "id": "h419HSJadmfb"
    },
    {
      "cell_type": "markdown",
      "source": [
        "Jetzt können wir uns endlich daran machen, das Entscheidungsbaum-Modell tatsächlich zu trainieren. Zunächst importieren wir das benötige Entscheidungsbaum-Modul. Weitere Infos zu dem Modul [hier](https://scikit-learn.org/stable/modules/generated/sklearn.tree.DecisionTreeClassifier.html):"
      ],
      "metadata": {
        "id": "n6xjoX163YOF"
      },
      "id": "n6xjoX163YOF"
    },
    {
      "cell_type": "markdown",
      "source": [
        "1. Um das Modell zu erstellen, müssen wir zunächst eine Bibliothek namens \"scikit-learn\" importieren, die ein vorgefertigtes Entscheidungsbaummodell enthält, das wir verwenden können. Dies geschieht durch Eingabe von `from sklearn.tree import DecisionTreeClassifier`.\n",
        "\n",
        "2. Als Nächstes erstellen wir das Modell durch Eingabe von `decision = DecisionTreeClassifier(random_state=42)`. Dadurch wird der Entscheidungsbaum mit einem Zufallszustand von 42 eingerichtet, was sicherstellt, dass unsere Ergebnisse bei jeder Ausführung des Codes konsistent sind.\n",
        "\n",
        "3. Schließlich trainieren wir das Modell durch Eingabe von `decision = decision.fit(X_train, y_train)`. Dadurch wird das Modell angewiesen, unsere Trainingsdaten (X_train und y_train) zu verwenden, um zu lernen, wie man Vorhersagen macht.\n",
        "\n",
        "Setze dies nun in der folgenden Code-Zelle um:"
      ],
      "metadata": {
        "id": "0-Le29QTdtm6"
      },
      "id": "0-Le29QTdtm6"
    },
    {
      "cell_type": "code",
      "source": [
        "# 1. Importiere Modell\n",
        "# DEIN CODE HIER\n",
        "\n",
        "# 2. Erstelle Modell\n",
        "# DEIN CODE HIER\n",
        "\n",
        "# 3. Trainiere Modell\n",
        "# DEIN CODE HIER"
      ],
      "metadata": {
        "id": "JDjO8gDV0ynW"
      },
      "execution_count": null,
      "outputs": [],
      "id": "JDjO8gDV0ynW"
    },
    {
      "cell_type": "code",
      "execution_count": null,
      "metadata": {
        "id": "ePaEgFAo0Ts0",
        "cellView": "form"
      },
      "outputs": [],
      "source": [
        "#@title  4.1.b Lösung ein/ausklappen\n",
        "# 1. Importiere Modell\n",
        "from sklearn.tree  import DecisionTreeClassifier\n",
        "\n",
        "# 2. Erstelle Modell\n",
        "decision = DecisionTreeClassifier(random_state=42)\n",
        "\n",
        "# 3. Trainiere Modell\n",
        "decision = decision.fit(X_train, y_train)"
      ],
      "id": "ePaEgFAo0Ts0"
    },
    {
      "cell_type": "markdown",
      "source": [
        "1. Importiert den `DecisionTreeClassifier` aus dem Modul `sklearn.tree`\n",
        "\n",
        "2. Erzeugt einen Entscheidungsbaum und legt einen zufälligen Zustand fest\n",
        "  * Die Festlegung eines Zufallszustands in Algorithmen für maschinelles Lernen bedeutet, dass der im Algorithmus verwendete Zufallszahlengenerator jedes Mal, wenn der Algorithmus mit demselben Zufallszustand ausgeführt wird, dieselbe Folge von Zufallszahlen erzeugt. Dadurch wird sichergestellt, dass die Ergebnisse des Algorithmus reproduzierbar und über verschiedene Durchläufe hinweg konsistent sind.\n",
        "\n",
        "  * Im obigen Codeausschnitt wird der Parameter` random_state` bei der Erstellung des` DecisionTreeClassifier`-Objekts auf `42` gesetzt. Dies bedeutet, dass jedes Mal, wenn später die `fit`-Funktion für das Modellobjekt aufgerufen wird, dieselbe Folge von Zufallszahlen verwendet wird. Die Einstellung des `random_state`-Parameters auf einen festen Wert ist eine gute Praxis bei der Erstellung von Modellen für maschinelles Lernen, da Ihr so die Ergebnisse reproduzieren und den Code bei Bedarf debuggen könnt.\n",
        "\n",
        "3. Passt das Modell an die Trainingsdaten an, wobei` X_train` für die Merkmale und `y_train` für die Zielvariable steht"
      ],
      "metadata": {
        "id": "WYm7cftpeVLW"
      },
      "id": "WYm7cftpeVLW"
    },
    {
      "cell_type": "markdown",
      "source": [
        "### 4.1.c Modell bauen - Erklärung\n",
        "\n",
        "Unser Modell (der Entscheidungsbaum) ist nun trainiert und kann für Vorhersagen für neue, noch nicht gesehene Daten verwendet werden."
      ],
      "metadata": {
        "id": "wYAYAw7Y6Pa0"
      },
      "id": "wYAYAw7Y6Pa0"
    },
    {
      "cell_type": "markdown",
      "metadata": {
        "id": "wyuE_As20Ts1"
      },
      "source": [
        "## 5. Modelle validieren"
      ],
      "id": "wyuE_As20Ts1"
    },
    {
      "cell_type": "markdown",
      "source": [
        "### 5.1 Kreuzvalidierung des Modells"
      ],
      "metadata": {
        "id": "-geccTrWW2Lj"
      },
      "id": "-geccTrWW2Lj"
    },
    {
      "cell_type": "markdown",
      "source": [
        "Unser Entscheidungsbaum scheint gut zu funktionieren, da alle Blätter am unteren Ende des Baums nur eine Klasse von Daten enthalten. Doch da die Ergebnisse selten so eindeutig sind, experimentiert man meist mit den sogenannten Hyperparametern. Hyperparameter sind Einstellungen im Modell, die beeinflussen, wie der Baum aufgebaut wird und wie viele Datenpunkte erforderlich sind, um eine Entscheidung zu treffen. Zum Beispiel kann man die maximale Tiefe des Baums oder die Anzahl der erforderlichen Datenpunkte einstellen.\n",
        "\n",
        "Um zu sehen, wie sich Änderungen der Hyperparameter auf das Modell auswirken, nutzen man dann die sogenannte Kreuzvalidierung. Dabei wird das Modell mit verschiedenen Kombinationen von Hyperparametern trainiert und auf einem separaten Datensatz bewertet. Normalerweise sollte man einen eigenen Datensatz für die Kreuzvalidierung verwenden, um das Modell besser zu bewerten und die besten Hyperparameter-Einstellungen zu finden.\n",
        "\n",
        "In dieser Lektion werden wir die gleichen Daten wie für das Training verwenden, was normalerweise nicht empfohlen wird. Wir tun dies, um Ihnen kurz zu zeigen, wie eine Kreuzvalidierung auf einen Datensatz angewendet wird. Wir werden auch keine Hyperparameter-Optimierung durchführen, da unsere Ergebnisse bereits sehr gut sind und Hyperparameter-Tuning ein fortgeschrittenes Konzept im Bereich Machine Learning ist."
      ],
      "metadata": {
        "id": "p19qT9yXV_-4"
      },
      "id": "p19qT9yXV_-4"
    },
    {
      "cell_type": "markdown",
      "source": [
        "### 5.2.a Kreuzvalidierung des Modells - Übung"
      ],
      "metadata": {
        "id": "OEBXVrct59J_"
      },
      "id": "OEBXVrct59J_"
    },
    {
      "cell_type": "markdown",
      "source": [
        "1. Importiere die Funktion `cross_val_score` aus dem Modul `model_selection `der Bibliothek *scikit-learn* mit der Anweisung import: `from sklearn.model_selection import cross_val_score`.\n",
        "\n",
        "2. Erstelle eine Variable namens `scores` und weise ihr das Ergebnis des Aufrufs der Funktion `cross_val_score` mit den folgenden Argumenten zu:\n",
        "  * decision (unser Entscheidungsbaum-Modell, das wir evaluieren wollen)\n",
        "  * X_train: die Eingabe-Features des Trainingssatzes.\n",
        "  * y_train: die Zielwerte des Trainingssatzes.\n",
        "  * cv: die Anzahl der *Faltungen* für die Kreuzvalidierung, setze sie auf `5`\n",
        "3. Gib die Ergebnisse der Kreuzvalidierung mithilfe der Funktion `print()` und der Variablen `scores` aus.\n",
        "4. Berechne und gib das durchschnittle Ergebniss der Kreuzvalidierung mit der Methode` mean() `der Variablen `scores`."
      ],
      "metadata": {
        "id": "LFG8csdY6w3v"
      },
      "id": "LFG8csdY6w3v"
    },
    {
      "cell_type": "code",
      "source": [
        "#1. Importiere benötigte Funktion\n",
        "# DEIN CODE HIER\n",
        "\n",
        "# 2. Durchführung einer 5-fachen Kreuzvalidierung des Modells mit X_train und y_train\n",
        "scores = # DEIN CODE HIER\n",
        "\n",
        "# 3. die Ergebnisse der Kreuzvalidierung ausgeben\n",
        "# DEIN CODE HIER\n",
        "\n",
        "# 4. das durchschnittliche Ergebnis der Kreuzvalidierung ausgeben\n",
        "print(\"Durchschnittliches Kreuzvalidierungsergebnis:\", scores.mean())"
      ],
      "metadata": {
        "id": "FvSP5ZknfG7X"
      },
      "id": "FvSP5ZknfG7X",
      "execution_count": null,
      "outputs": []
    },
    {
      "cell_type": "markdown",
      "source": [
        "### 5.2.b Kreuzvalidierung des Modells - Lösung"
      ],
      "metadata": {
        "id": "8rmuyC5l6Cry"
      },
      "id": "8rmuyC5l6Cry"
    },
    {
      "cell_type": "code",
      "source": [
        "#@title  5.2.b Lösung ein/ausklappen\n",
        "#1. Importiere benötigte Funktion\n",
        "from sklearn.model_selection import cross_val_score\n",
        "\n",
        "# 2. Durchführung einer 5-fachen Kreuzvalidierung des Modells mit X_train und y_train\n",
        "scores = cross_val_score(decision, X_train, y_train, cv=5)\n",
        "\n",
        "# 3. die Ergebnisse der Kreuzvalidierung ausgeben\n",
        "print(\"Ergebnisse der Kreuzvalidierung:\", scores)\n",
        "# 4. das durchschnittliche Ergebnis der Kreuzvalidierung ausgeben\n",
        "print(\"Durchschnittliches Kreuzvalidierungsergebnis:\", scores.mean())"
      ],
      "metadata": {
        "id": "-cOHsxoVfJem",
        "cellView": "form"
      },
      "id": "-cOHsxoVfJem",
      "execution_count": null,
      "outputs": []
    },
    {
      "cell_type": "markdown",
      "source": [
        "### 5.2.c Kreuzvalidierung des Modells - Diskussion"
      ],
      "metadata": {
        "id": "ifob5V1J6HwS"
      },
      "id": "ifob5V1J6HwS"
    },
    {
      "cell_type": "markdown",
      "source": [
        "Die Kreuzvalidierung gibt uns eine Vorstellung davon, wie gut unser Modell auf neuen Daten funktionieren könnte. Die angegebenen Werte [0.97875 0.98 0.975625 0.976875 0.979375] bedeuten, dass das Modell für jede Faltung (Teilung der Daten in Test- und Trainingsdaten) eine Genauigkeit zwischen 97,5% und 98% erreicht hat. Der durchschnittliche Wert liegt bei 0.978, was bedeutet, dass das Modell im Durchschnitt eine Genauigkeit von 97,8% erreicht hat. Wenn wir das Modell auf neue Daten anwenden, können wir also eine ähnlich hohe Genauigkeit erwarten. Die Zahlenwerte können sich bei jeder Durchführung der Validierung etwas unterscheiden, aber wir können dies durch die Verwendung eines \"zufälligen Seeds\" kontrollieren. Wir lassen das an dieser Stelle, weil es für das weitere Verständnis nicht nötig ist."
      ],
      "metadata": {
        "id": "m9jyb3BXX3je"
      },
      "id": "m9jyb3BXX3je"
    },
    {
      "cell_type": "markdown",
      "metadata": {
        "id": "5tYtb_Zt0Ts5"
      },
      "source": [
        "## 6. Modell testen\n",
        "Wenn wir ein Modell für maschinelles Lernen erstellen, ist es wichtig, es abschließend zu testen, um sicherzustellen, dass es auch bei neuen Daten genau arbeitet. Das Testen des Modells ist wie eine Abschlussprüfung, bei der wir es mit einem separaten Datensatz testen, den es noch nie zuvor gesehen hat. Wenn das Modell bei diesem Test gute Ergebnisse liefert, dann können wir davon ausgehen, dass es auch in der realen Welt gute Vorhersagen machen kann. Falls es nicht gut abschneidet, müssen wir möglicherweise das Modell ändern oder mehr Daten sammeln, um es zu verbessern."
      ],
      "id": "5tYtb_Zt0Ts5"
    },
    {
      "cell_type": "markdown",
      "source": [
        "Zum einen schauen wir uns an, wie gut das Modell den Trainingsdatensatz kategorisieren kann, zum anderen schauen wir uns an, wie gut das Modell mit neuen Daten aus dem Testdatensatz umgeht. Für letzteres importieren wir das Modul ```accuracy_score```, das wir gleich gebrauchen werden. Weitere Infos zu dem Modul [hier](https://scikit-learn.org/stable/modules/generated/sklearn.metrics.accuracy_score.html)."
      ],
      "metadata": {
        "id": "Gp2D-N1k-XPL"
      },
      "id": "Gp2D-N1k-XPL"
    },
    {
      "cell_type": "markdown",
      "source": [
        "### 6.1.a Genauigkeit des Modells bestimmen - Übung\n",
        "\n",
        "Wir können die Genauigkeit des Modells mit dem `accuracy_score` bestimmen lassen.\n",
        "\n",
        "Wenn die bestimmte Genauigkeit hoch ist, bedeutet dies, dass das Modell bei den Testdaten gut abschneidet, was darauf schließen lässt, dass es auch bei neuen, ungesehenen Daten gut abschneidet. Ist die Genauigkeit hingegen niedrig, bedeutet dies, dass das Modell bei den Testdaten nicht gut abschneidet, was darauf hindeutet, dass es möglicherweise nicht gut auf neue Daten verallgemeinert werden kann."
      ],
      "metadata": {
        "id": "TGOr27Aw63eM"
      },
      "id": "TGOr27Aw63eM"
    },
    {
      "cell_type": "markdown",
      "source": [
        "1. Zunächst verwende das trainierte Modell, um die Zielvariable y für die Testmenge X_test vorherzusagen. Die vorhergesagten Werte werden in y_pred gespeichert.` y_pred = decision.predict(X_test)`  \n",
        "\n",
        "2. Berechne die Genauigkeit der vorhergesagten Werte, indem sie mit den wahren Werten in y_test verglichen werden. Die berechnete Genauigkeit wird in der Variablen `accuracy` gespeichert. `accuracy = accuracy_score(y_test, y_pred)`\n",
        "3. Zeige die berechnete Genauigkeit auf dem Bildschirm an.  `print(\"Genauigkeit:\", accuracy)`"
      ],
      "metadata": {
        "id": "zZusuS0e_wUM"
      },
      "id": "zZusuS0e_wUM"
    },
    {
      "cell_type": "code",
      "source": [
        "# benötigte Funktion importieren\n",
        "from sklearn.metrics import accuracy_score\n",
        "\n",
        "#1. Vorhersagen treffen für das Test-Datensatz mittels unseres Entscheidungsbaumes\n",
        "# DEIN CODE HIER\n",
        "\n",
        "# 2.Genauigkeit unseres Baumes ermitteln\n",
        "# DEIN CODE HIER\n",
        "\n",
        "#3. Genauigkeit ausgeben\n",
        "# DEIN CODE HIER"
      ],
      "metadata": {
        "id": "XJMX1HaV_reJ"
      },
      "execution_count": null,
      "outputs": [],
      "id": "XJMX1HaV_reJ"
    },
    {
      "cell_type": "code",
      "source": [
        "#@title  6.2.b Lösung ein/ausklappen\n",
        "from sklearn.metrics import accuracy_score\n",
        "\n",
        "#1. Vorhersagen treffen für das Test-Datensatz mittels unseres Entscheidungsbaumes\n",
        "y_pred = decision.predict(X_test)\n",
        "\n",
        "# 2.Genauigkeit unseres Baumes ermitteln\n",
        "accuracy = accuracy_score(y_test, y_pred)\n",
        "\n",
        "#3. Genauigkeit ausgeben\n",
        "print(\"Genauigkeit:\", accuracy)"
      ],
      "metadata": {
        "id": "JzIkY0DhqbXF",
        "cellView": "form"
      },
      "execution_count": null,
      "outputs": [],
      "id": "JzIkY0DhqbXF"
    },
    {
      "cell_type": "markdown",
      "source": [
        "### 6.2.c Genauigkeit des Modells bestimmen - Erklärung"
      ],
      "metadata": {
        "id": "iWH8xMDjAtZY"
      },
      "id": "iWH8xMDjAtZY"
    },
    {
      "cell_type": "markdown",
      "source": [
        "Eine Genauigkeit von 0.9785 bedeutet, dass 97,85% aller Daten aus dem Testdsatz korrekt vorhergesagt wurden. Das Modell hat den Test bestens bestanden und wird wahrscheinlich auch mit neuen Daten sehr zuverlässliche Vorhersagen machen."
      ],
      "metadata": {
        "id": "vO1KPZ7kvunv"
      },
      "id": "vO1KPZ7kvunv"
    },
    {
      "cell_type": "markdown",
      "source": [
        "## 7. Abschluss"
      ],
      "metadata": {
        "id": "CUjjKwyhCqQH"
      },
      "id": "CUjjKwyhCqQH"
    },
    {
      "cell_type": "markdown",
      "source": [
        "Herzlichen Glückwunsch! 🏆 Du hast das Colab-Notebook erfolgreich abgeschlossen und alle Schritte durchlaufen, um zu klassifizieren, was für eine Art von Maschinenausfall vorliegt. Du hast die Daten eingelesen und erkundet, um sicherzustellen, dass sie bereit sind, von dem Entscheidungsbaum verarbeitet zu werden. Anschließend hast du das Entscheidungsbaum-Modell gebildet, validiert und getestet, um die Klassifikationsgenauigkeit zu ermitteln. Durch deinen Entscheidungsbaum können u.a. gefährliche Ausfälle schnell erkannt und der Betrieb verbessert werden. Deine Arbeit an diesem Notizbuch hat dazu beigetragen, die industrielle Arbeit schneller, besser und sicherer zu machen. Gut gemacht! 😁"
      ],
      "metadata": {
        "id": "TJryZbu1CztZ"
      },
      "id": "TJryZbu1CztZ"
    }
  ],
  "metadata": {
    "kernelspec": {
      "display_name": "Python 3",
      "language": "python",
      "name": "python3"
    },
    "language_info": {
      "codemirror_mode": {
        "name": "ipython",
        "version": 3
      },
      "file_extension": ".py",
      "mimetype": "text/x-python",
      "name": "python",
      "nbconvert_exporter": "python",
      "pygments_lexer": "ipython3",
      "version": "3.7.12"
    },
    "papermill": {
      "default_parameters": {},
      "duration": 30.420522,
      "end_time": "2022-09-30T11:57:25.132602",
      "environment_variables": {},
      "exception": null,
      "input_path": "__notebook__.ipynb",
      "output_path": "__notebook__.ipynb",
      "parameters": {},
      "start_time": "2022-09-30T11:56:54.712080",
      "version": "2.3.4"
    },
    "colab": {
      "provenance": [],
      "collapsed_sections": [
        "deFFb8NFE5Vq"
      ],
      "include_colab_link": true
    }
  },
  "nbformat": 4,
  "nbformat_minor": 5
}
