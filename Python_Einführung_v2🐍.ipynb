{
  "nbformat": 4,
  "nbformat_minor": 0,
  "metadata": {
    "colab": {
      "provenance": [],
      "collapsed_sections": [
        "sK-UQ8_VMMlP",
        "ApPDLxTYakhI",
        "zNkggID6bbMp",
        "OTpc42n9d2V6",
        "PMyNTZSAgOZa",
        "3dKJcihEjUXt",
        "jMCt-Z_hjye2",
        "3n0sf7fsmKUv",
        "-I89ClrIqHgl",
        "PyUrIBaouCvE",
        "xVqYPHxHsKFu"
      ],
      "toc_visible": true
    },
    "kernelspec": {
      "name": "python3",
      "display_name": "Python 3"
    },
    "language_info": {
      "name": "python"
    }
  },
  "cells": [
    {
      "cell_type": "markdown",
      "source": [
        "# 🐍 Python Grundlagen\n",
        "\n",
        "Im folgenden Notebook lernt Ihr die wichtigsten Programmierkonzepte in Python kennen.\n",
        "\n",
        "In den folgenden Kapiteln wird es leichte Überschneidungen geben. Das ist kaum zu vermeiden und liegt daran, dass viele Konzepte in der Programmierung eng miteinander verbunden sind und es oft schwierig ist, ein Thema zu unterrichten, ohne auf ein anderes Bezug zu nehmen. Darüber hinaus sind Wiederholungen oft hilfreich, um Konzepte zu festigen und sie sich zu merken. Selbst wenn ein Konzept in mehreren Kapiteln behandelt wird, kann es auf eine etwas andere Weise oder mit anderen Beispielen erklärt werden, was den helfen kann, den Stoff besser zu verstehen. Somit sind diese zwar kaum vermeidlich, können aber auch von Vorteil sein.\n",
        "\n",
        "\n",
        "\n",
        "\n",
        "***Viel Spaß beim Programmieren!!***"
      ],
      "metadata": {
        "id": "-snMnd-6f1yO"
      }
    },
    {
      "cell_type": "markdown",
      "source": [
        "## 1. Einführung 🚀"
      ],
      "metadata": {
        "id": "1Ud554BCtYJ6"
      }
    },
    {
      "cell_type": "markdown",
      "source": [
        "Python ist eine Programmiersprache, die in den letzten Jahren unglaublich populär geworden ist. Ein Grund für Pythons Beliebtheit ist, dass es leicht zu erlernen und zu verwenden ist - auch für Menschen ohne Programmiererfahrung. Ein weiterer Grund ist, dass es eine große und aktive Community gibt, die viele mächtige Bibliotheken für eine Vielzahl von Aufgaben entwickelt hat.\n",
        "\n",
        "Python eignet sich aufgrund seiner reichen Bibliotheken wie NumPy, Pandas, Scikit-Learn, Keras und TensorFlow besonders gut für Machine Learning Projekte. Diese Bibliotheken bieten effiziente Implementierungen vieler Algorithmen des maschinellen Lernens, die das Entwickeln und Testen von Modellen erleichtern.\n",
        "\n",
        "Ein weiterer Vorteil von Python ist, dass es sich um eine Allzwecksprache handelt, die über das maschinelle Lernen hinaus für eine Vielzahl von Aufgaben verwendet werden kann, darunter Webentwicklung, wissenschaftliche Berechnungen und Automatisierung. Ihre Vielseitigkeit macht sie zu einer wertvollen Fähigkeit für viele Bereiche.\n",
        "\n",
        "Insgesamt ist Python aufgrund seiner Einfachheit, Lesbarkeit, Vielseitigkeit und leistungsstarken Bibliotheken eine gute Wahl für Machine-Learning-Projekte und darüber hinaus."
      ],
      "metadata": {
        "id": "yqm8m46OGzhu"
      }
    },
    {
      "cell_type": "markdown",
      "source": [
        "## 2. Strings handhaben und ausgeben 💬"
      ],
      "metadata": {
        "id": "aNd0NecggFdd"
      }
    },
    {
      "cell_type": "markdown",
      "source": [
        "### 2.1 Was Strings in Python sind und warum sie wichtig sind"
      ],
      "metadata": {
        "id": "ubFT_rVzhf8S"
      }
    },
    {
      "cell_type": "markdown",
      "source": [
        "\n",
        "Ein `string` ist eine Folge von Zeichen, die in Anführungszeichen (entweder einfache (' ')oder doppelte Anführungszeichen (\" \")) eingeschlossen sind. Strings werden auf Deutsch auch *Zeichenketten* genannt. Wir werden in diesem Dokument beide Ausdrücke verwenden.\n",
        "\n",
        "Strings sind ein grundlegender Datentyp in Python, und es ist wichtig zu lernen, wie man mit ihnen umgeht, denn sie ermöglichen die Arbeit mit textbasierten Daten. Beim maschinellen Lernen und der symbolischen KI werden Textdaten häufig zum Trainieren von Modellen oder für Vorhersagen verwendet. Beim Natural Language Processing (NLP) zum Beispiel werden Modelle trainiert, um menschliche Sprache zu verstehen und zu erzeugen.\n",
        "\n",
        "Die Fähigkeit, Strings zu manipulieren, ist auch für die Datenbereinigung und die Datenvorverarbeitung wichtig, die wesentliche Schritte bei der Vorbereitung von Daten für Machine Learning Modelle sind. Durch die Manipulation von Zeichenketten kannst Du unnötige Zeichen entfernen, Text in Klein- oder Großbuchstaben umwandeln und relevante Informationen aus Textdaten extrahieren.\n",
        "\n",
        "Im Folgenden sieht man ein Beipsiel für Strings in Python:\n",
        "\n",
        "\n"
      ],
      "metadata": {
        "id": "uoSIWJ6KhdmP"
      }
    },
    {
      "cell_type": "code",
      "source": [
        "\"Hallo Welt!\"\n",
        "'KI + Python = <3'\n",
        "\"Das ist ein String mit Zahlen: 1234\""
      ],
      "metadata": {
        "colab": {
          "base_uri": "https://localhost:8080/",
          "height": 35
        },
        "id": "Bw9xo_n9iZWp",
        "outputId": "1b8c548a-d225-4748-bc5d-2255967fb51c"
      },
      "execution_count": null,
      "outputs": [
        {
          "output_type": "execute_result",
          "data": {
            "text/plain": [
              "'Das ist ein String mit Zahlen: 1234'"
            ],
            "application/vnd.google.colaboratory.intrinsic+json": {
              "type": "string"
            }
          },
          "metadata": {},
          "execution_count": 3
        }
      ]
    },
    {
      "cell_type": "markdown",
      "source": [
        "### 2.2 Strings bearbeiten"
      ],
      "metadata": {
        "id": "_kgDibC4iAI8"
      }
    },
    {
      "cell_type": "markdown",
      "source": [
        "Strings können bearbeitet werden mit verschiedenen Methoden, die es u.a. ermöglichen alle Buchstaben in Großbuchstaben umzuwandeln, Teile der Zeichenkette zu ersetzen, den String in eine Liste aus Wörtern aufzuteilen. Außerdem können Strings mit dem Operator `+` verkettet oder mit dem Operator `*` wiederholt werden.\n",
        "\n",
        "Hier zunächst ein Beispiel, wie ein String erstellt und ausgegeben werden kann:\n",
        "\n"
      ],
      "metadata": {
        "id": "_Q-2_hrRjAUt"
      }
    },
    {
      "cell_type": "code",
      "execution_count": null,
      "metadata": {
        "colab": {
          "base_uri": "https://localhost:8080/"
        },
        "id": "W86MzFUcfyPd",
        "outputId": "55975db3-1ad7-4985-fa18-acfc3d0eb4a8"
      },
      "outputs": [
        {
          "output_type": "stream",
          "name": "stdout",
          "text": [
            "Hallo Welt\n"
          ]
        }
      ],
      "source": [
        "mein_string = \"Hallo Welt!\"\n",
        "print(mein_string)"
      ]
    },
    {
      "cell_type": "code",
      "source": [
        "# diese Zeile ist ein Kommentar, der nicht von Python verarbeitet wird\n",
        "# jetzt wird der string bearbetiet:\n",
        "\n",
        "print(mein_string.upper()) # gibt aus \"HALLO WELT!\"\n",
        "print(mein_string.lower()) # gibt aus \"hallo welt!\"\n",
        "print(mein_string.replace(\"l\", \"1\")) # gibt aus \"Ha11o We1t!\""
      ],
      "metadata": {
        "colab": {
          "base_uri": "https://localhost:8080/"
        },
        "id": "EgkSV6TPh3uA",
        "outputId": "32407d48-206d-4d52-d066-c14583ef0e91"
      },
      "execution_count": null,
      "outputs": [
        {
          "output_type": "stream",
          "name": "stdout",
          "text": [
            "HALLO WELT\n",
            "hallo welt\n",
            "Ha11o We1t\n"
          ]
        }
      ]
    },
    {
      "cell_type": "code",
      "source": [
        "# string verketten:\n",
        "vorname = \"Ada\"\n",
        "nachname = \"Lovelace\"\n",
        "ganzer_name = vorname + \" \" + nachname\n",
        "print(ganzer_name)"
      ],
      "metadata": {
        "colab": {
          "base_uri": "https://localhost:8080/"
        },
        "id": "NNKbtWDukiw5",
        "outputId": "b9fcbf55-7473-4047-b8dc-1ce648ef97f7"
      },
      "execution_count": null,
      "outputs": [
        {
          "output_type": "stream",
          "name": "stdout",
          "text": [
            "Ada Lovelace\n"
          ]
        }
      ]
    },
    {
      "cell_type": "markdown",
      "source": [
        "Um Strings anzuzeigen verwenden wir die `print()`-Funktion. Wir können `print()` zusammen mit Strings und mit Variablen benutzen:"
      ],
      "metadata": {
        "id": "sPL4ViC2lSbD"
      }
    },
    {
      "cell_type": "code",
      "source": [
        "print(\"Hallo \" + ganzer_name + \"!\" )"
      ],
      "metadata": {
        "colab": {
          "base_uri": "https://localhost:8080/"
        },
        "id": "U9AKGm8ylLS1",
        "outputId": "2ba328b8-c204-4898-9b3a-cc248e2ebd4c"
      },
      "execution_count": null,
      "outputs": [
        {
          "output_type": "stream",
          "name": "stdout",
          "text": [
            "Hallo Ada Lovelace!\n"
          ]
        }
      ]
    },
    {
      "cell_type": "markdown",
      "source": [
        "Wir könnnen außerdem Strings mit dem `*`-Operator wiederholt ausgeben:"
      ],
      "metadata": {
        "id": "rlcUCk4L2F44"
      }
    },
    {
      "cell_type": "code",
      "source": [
        "string = \"Hallo \"\n",
        "string_wdh = string * 5\n",
        "print(string_wdh)"
      ],
      "metadata": {
        "colab": {
          "base_uri": "https://localhost:8080/"
        },
        "id": "xJ__DYHa2Muf",
        "outputId": "1866f907-b7b8-47a0-b479-1d808aa22b41"
      },
      "execution_count": null,
      "outputs": [
        {
          "output_type": "stream",
          "name": "stdout",
          "text": [
            "Hallo Hallo Hallo Hallo Hallo \n"
          ]
        }
      ]
    },
    {
      "cell_type": "markdown",
      "source": [
        "## 3. Variablen 📊"
      ],
      "metadata": {
        "id": "Oxgl44Rnl7Wc"
      }
    },
    {
      "cell_type": "markdown",
      "source": [
        "### 3.1 Was Variablen in Python sind und warum sie wichtig sind"
      ],
      "metadata": {
        "id": "hX7to0vbl-GF"
      }
    },
    {
      "cell_type": "markdown",
      "source": [
        "Eine Variable ist ein Behalter, der einen Namen hat und der einen Wert im Speicher des Computers ablegt. Du kannst dir eine Variable wie ein Ettiket vorstellen, das du einem Wert zuweist und das Du später in Deinem Code verwenden kannst, um auf diesen Wert zu verweisen. In Python können Variablen erstellt werden indem Du einen Name für die Variable aussuchst und das Gleichheitszeichen `=` verwendest, um ihr einen Wert zuzuweisen. Zum Beispiel:"
      ],
      "metadata": {
        "id": "8k-BR_t7mjUo"
      }
    },
    {
      "cell_type": "code",
      "source": [
        "x = 4"
      ],
      "metadata": {
        "id": "j9oeuw3kl9f3"
      },
      "execution_count": null,
      "outputs": []
    },
    {
      "cell_type": "markdown",
      "source": [
        "Dadurch wird eine Variable namens `x` erstellt und ihr der Wert `4` zugewiesen. Die Variable `x` kann danach im weiteren Code verwendet werden um auf diesen Wert zu verweisen. Zum Beispiel:"
      ],
      "metadata": {
        "id": "UMHFiBg0nnq6"
      }
    },
    {
      "cell_type": "code",
      "source": [
        "y = x + 3"
      ],
      "metadata": {
        "id": "1og_jwSun7bh"
      },
      "execution_count": null,
      "outputs": []
    },
    {
      "cell_type": "markdown",
      "source": [
        "Dadurch wird eine neue Variable mit dem Namen `y` erstellt und ihr der Wert` x + 3` zugewiesen, was den Wert `7` ergibt."
      ],
      "metadata": {
        "id": "UG6G8gBEn-5X"
      }
    },
    {
      "cell_type": "markdown",
      "source": [
        "Es ist wichtig etwas über Variablen und deren Handhabung zu lernen, da Variablen zum Speichern von Werten verwendet werden, auf die später im Code zugegriffen werden und dann geändert werden können. Dies ermöglicht es den Programmierenden, effizienteren und flexibleren Code zu schreiben.\n",
        "\n",
        "\n",
        "Beim Machine Learning werden Variablen verwendet, um Daten darzustellen, die zum Trainieren und Erstellen von Modellen verwendet werden. Diese Modelle werden verwendet, um Vorhersagen zu treffen und komplexe Probleme zu lösen. Die Möglichkeit, Variablen zu manipulieren, ist in diesem Bereich von entscheidender Bedeutung, da sie die Erstellung komplexer Algorithmen und Modelle ermöglicht."
      ],
      "metadata": {
        "id": "WvTv6tN-35oM"
      }
    },
    {
      "cell_type": "markdown",
      "source": [
        "### 3.2 Namensgebung Variablen"
      ],
      "metadata": {
        "id": "JBZGsovkoT6N"
      }
    },
    {
      "cell_type": "markdown",
      "source": [
        "Variablennamen in Python können aus Buchstaben, Zahlen und Unterstrichen bestehen, dürfen aber nicht mit einer Zahl beginnen. Es ist auch eine empfehlenswerte Vorgehensweise, Variablennamen zu wählen, die den Wert beschreiben, den sie repräsentieren.Es wird außerdem empfohlen Variablennamen kleinzuschreiben und Wörter mit Unterstrich (`_`)zu verbinden. Anstelle einer Variable namens `a` könntest Du beispielsweise eine Variable wie `anzahl_azubis` verwenden, um die Anzahl der Auszubildenden in einer Klasse darzustellen.\n",
        "\n",
        "\n",
        "Außerdem ist es üblich englische Ausdrücke für Variablennamen zu benutzen, da so der Code für eine größere Menge Menschen lesbar ist, englische Wörter oft kürzer sind und der Code außerdem so konsistenter ist, da bereits viele vorgegebene Funktionen und Methoden auf englisch formuliert sind. So würde es sich anbieten statt `anzahl_azubis` den Variablennamen `num_students` zu vergeben. Wir werden in dieser Einführung bewusst dennoch an manchen Stellen deutsche Ausdrücke verwenden, weil manchen dadurch der Einstieg erleichtert wird."
      ],
      "metadata": {
        "id": "56VYzE4PoYQj"
      }
    },
    {
      "cell_type": "code",
      "source": [
        "anzahl_teilnehmende = 20\n",
        "note_durchschnitt = 83.4\n",
        "name_kurs = \"KI in der Ausbildung\"\n",
        "\n",
        "print(\"Es sind \", anzahl_teilnehmende, \" Kursteilnehmende im Kurs \", name_kurs)\n",
        "print(\"Die Durchschnittsnote ist\", note_durchschnitt)"
      ],
      "metadata": {
        "colab": {
          "base_uri": "https://localhost:8080/"
        },
        "id": "kItvom2xoLgB",
        "outputId": "8abf5bbd-d667-4fb7-8c22-454d6c549c7c"
      },
      "execution_count": null,
      "outputs": [
        {
          "output_type": "stream",
          "name": "stdout",
          "text": [
            "Es sind  20  Kursteilnehmende im Kurs  KI in der Ausbildung\n",
            "Die Durchschnittsnote ist 83.4\n"
          ]
        }
      ]
    },
    {
      "cell_type": "markdown",
      "source": [
        "### 3.3 Variablen bearbeiten"
      ],
      "metadata": {
        "id": "IuWIZnLmqeM8"
      }
    },
    {
      "cell_type": "code",
      "source": [
        "# Variablen definieren\n",
        "zahl1 = 4\n",
        "zahl2 = 20\n",
        "name = \"Astrid\"\n",
        "alter = 21\n",
        "\n",
        "# Variablen in Rechnungen nutzen\n",
        "summe = zahl1 + zahl2\n",
        "produkt = zahl1 * zahl2\n",
        "quotient = zahl2 / zahl1\n",
        "\n",
        "# Variablen in String-Verkettung nutzen\n",
        "gruesse = \"Hallo, \" + name + \"!\"\n",
        "lebenslauf = name + \" ist \" + str(alter) + \" Jahre alt.\"\n",
        "\n",
        "# Ergebnisse ausgeben\n",
        "print(\"Summe:\", summe)\n",
        "print(\"Produk:\", produkt)\n",
        "print(\"Quotient:\", quotient)\n",
        "print(gruesse)\n",
        "print(lebenslauf)"
      ],
      "metadata": {
        "colab": {
          "base_uri": "https://localhost:8080/"
        },
        "id": "lM5AnzkuqHpp",
        "outputId": "4829a47f-5d4b-44d3-f60c-2ad7e92637d8"
      },
      "execution_count": null,
      "outputs": [
        {
          "output_type": "stream",
          "name": "stdout",
          "text": [
            "Summe: 24\n",
            "Produk: 80\n",
            "Quotient: 5.0\n",
            "Hallo, Astrid!\n",
            "Astrid ist 21 Jahre alt.\n"
          ]
        }
      ]
    },
    {
      "cell_type": "markdown",
      "source": [
        "In diesem Beispiel definieren wir vier Variablen: `zahl1`, `zahl2`, `name` und `alter`. Anschließend werden diese Variablen in verschiedenen Berechnungen und String-Verkettungen verwendet.\n",
        "\n",
        "\n",
        "Im Berechnungsabschnitt führen wir einige grundlegende arithmetische Operationen mit den Variablen `zahl1` und `zahl2` durch. Die Ergebnisse werden den neuen Variablen `summe`, `produkt` und `quotient` zugewiesen.\n",
        "\n",
        "Im Abschnitt über die Verkettung von Strings erstellen wir neue Strings, indem wir die Variablen `name` und `alter` mit anderen Strings kombinieren. Wir verwenden die Funktion` str()`, um den Integer-Wert (Ganzzahlwert) von `age` in einen String umzuwandeln, damit er mit den anderen Strings verknüpft werden kann. Was ein `integer` ist, wird im *Abschnitt 8* thematisiert.\n",
        "\n",
        "\n",
        "Zum Schluss geben wir die Ergebnisse unserer Berechnungen und String-Verkettungen mit der Funktion `print() `aus."
      ],
      "metadata": {
        "id": "SD4Mv1f0sXqh"
      }
    },
    {
      "cell_type": "markdown",
      "source": [
        "## 4. Input und Output 📥/📤"
      ],
      "metadata": {
        "id": "GvUOc9D3ty_T"
      }
    },
    {
      "cell_type": "markdown",
      "source": [
        "Es ist für einige Anwendungen nötig zu wissen, wie Du Eingaben (input) vom User erhalten und wie Du Ausgaben (output) für User anzeigen lassen kannst. Dies kannst Du mit den Funktionen `input()` und `print()`:"
      ],
      "metadata": {
        "id": "dwRQC9cFuHEa"
      }
    },
    {
      "cell_type": "code",
      "source": [
        "# Input vom User erhalten\n",
        "name = input(\"Wie heißt Du? \")\n",
        "alter = input(\"Wie alt bist Du? \")\n",
        "\n",
        "# Print output\n",
        "print(\"Hallo \" + name + \"!\")\n",
        "print(\"Du bist \" + alter + \" Jahre alt.\")"
      ],
      "metadata": {
        "colab": {
          "base_uri": "https://localhost:8080/"
        },
        "id": "XpSLDkD2t0Zn",
        "outputId": "b5cf7b0f-971e-4eb4-c688-17442cd3a2a3"
      },
      "execution_count": null,
      "outputs": [
        {
          "output_type": "stream",
          "name": "stdout",
          "text": [
            "Wie heißt Du? chris\n",
            "Wie alt bist Du? 23\n",
            "Hallo chris!\n",
            "Du bist 23 Jahre alt.\n"
          ]
        }
      ]
    },
    {
      "cell_type": "markdown",
      "source": [
        "In diesem Beispiel verwenden wir die Funktion `input()`, um den Benutzer aufzufordern, seinen Namen und sein Alter einzugeben. Wir speichern die Eingaben des Benutzers in den Variablen `name` und `alter`.\n",
        "\n",
        "\n",
        "Anschließend verwenden wir die Funktion` print()`, um die Ausgabe für den Benutzer anzuzeigen. Wir erstellen zwei neue Zeichenketten, indem wir die Variablen `name` und `alter` mit anderen Zeichenketten verketten, und übergeben sie dann als sogenannte Argumente an die Funktion `print()`."
      ],
      "metadata": {
        "id": "8FCUcM2jvT3J"
      }
    },
    {
      "cell_type": "markdown",
      "source": [
        "## 5. Übungen I 🏋️‍♀️"
      ],
      "metadata": {
        "id": "9T0pZIMwLQvT"
      }
    },
    {
      "cell_type": "markdown",
      "source": [
        "### 5.1.a Übung: Großbuchstaben - `upper()`"
      ],
      "metadata": {
        "id": "AI67Ow98LdNa"
      }
    },
    {
      "cell_type": "markdown",
      "source": [
        "Bitte einen User, dessen Namen einzugeben. Gib diesen dann mit Großbuchstaben aus."
      ],
      "metadata": {
        "id": "UZ9bs3_5LqxC"
      }
    },
    {
      "cell_type": "code",
      "source": [
        "# DEIN CODE HIER"
      ],
      "metadata": {
        "id": "GliF8spNL26d"
      },
      "execution_count": null,
      "outputs": []
    },
    {
      "cell_type": "markdown",
      "source": [
        "### 5.1.b Lösung: Großbuchstaben - `upper()`"
      ],
      "metadata": {
        "id": "_hFMefc6L4O7"
      }
    },
    {
      "cell_type": "code",
      "source": [
        "name = input(\"Wie heißt Du? \")\n",
        "print(name.upper())"
      ],
      "metadata": {
        "id": "Qa2-oakEL_8W"
      },
      "execution_count": null,
      "outputs": []
    },
    {
      "cell_type": "markdown",
      "source": [
        "### 5.2.a Übung - `replace()`"
      ],
      "metadata": {
        "id": "sK-UQ8_VMMlP"
      }
    },
    {
      "cell_type": "markdown",
      "source": [
        "Bitte einen User einen Satz einzugeben. Ersetze alle Stellen, an denen das Wort \"Hund\" vorkommt durch \"Katze\"."
      ],
      "metadata": {
        "id": "OQoErJYRVP6q"
      }
    },
    {
      "cell_type": "code",
      "source": [
        "# DEIN CODE HIER"
      ],
      "metadata": {
        "id": "0O_6_RrjVdn1"
      },
      "execution_count": null,
      "outputs": []
    },
    {
      "cell_type": "markdown",
      "source": [
        "### 5.2.b Lösung - `replace()`"
      ],
      "metadata": {
        "id": "XVJhD391VLLK"
      }
    },
    {
      "cell_type": "code",
      "source": [
        "# Lösung\n",
        "satz = input(\"Gib einen Satz ein: \")\n",
        "neuer_satz = satz.replace(\"Hund\", \"Katze\")\n",
        "print(neuer_satz)"
      ],
      "metadata": {
        "id": "R9f-YXBhVd6E"
      },
      "execution_count": null,
      "outputs": []
    },
    {
      "cell_type": "code",
      "source": [
        "# Alternative Lösung - Unempfindlich gegenüber Groß- und Kleinschreibung\n",
        "satz = input(\"Gib einen Satz ein: \")\n",
        "neuer_satz = satz.lower().replace(\"hund\", \"Katze\")\n",
        "print(neuer_satz)"
      ],
      "metadata": {
        "colab": {
          "base_uri": "https://localhost:8080/"
        },
        "id": "aRFCtWd8ZsVu",
        "outputId": "c3a1f630-4ada-405d-d9c4-7563c41a38d4"
      },
      "execution_count": null,
      "outputs": [
        {
          "output_type": "stream",
          "name": "stdout",
          "text": [
            "Gib einen Satz ein: hund\n",
            "Katze\n"
          ]
        }
      ]
    },
    {
      "cell_type": "markdown",
      "source": [
        "### 5.3.a Übung - `lower()`"
      ],
      "metadata": {
        "id": "7uwdZrN5aG8_"
      }
    },
    {
      "cell_type": "markdown",
      "source": [
        "Erstelle eine Variable namens `satz` und weise ihr einen `string`-Wert zu. Verwende dann die Funktion `lower()`, um alle Buchstaben in Kleinbuchstaben umzuwandeln"
      ],
      "metadata": {
        "id": "iMpQR3g2aNBQ"
      }
    },
    {
      "cell_type": "code",
      "source": [
        "# DEIN CODE HIER"
      ],
      "metadata": {
        "id": "5IiX_NjLafrA"
      },
      "execution_count": null,
      "outputs": []
    },
    {
      "cell_type": "markdown",
      "source": [
        "### 5.3.b Lösung - `lower()`"
      ],
      "metadata": {
        "id": "ApPDLxTYakhI"
      }
    },
    {
      "cell_type": "code",
      "source": [
        "# Lösung\n",
        "satz = \"Das ist ein Satz.\"\n",
        "satz_klein = satz.lower()\n",
        "print(satz_klein)"
      ],
      "metadata": {
        "colab": {
          "base_uri": "https://localhost:8080/"
        },
        "id": "wILnsBscao3H",
        "outputId": "93daf9e0-03e8-43d1-b6ce-4d59e55b19a6"
      },
      "execution_count": null,
      "outputs": [
        {
          "output_type": "stream",
          "name": "stdout",
          "text": [
            "das ist ein satz.\n"
          ]
        }
      ]
    },
    {
      "cell_type": "markdown",
      "source": [
        "### 5.4.a Übung - `replace()`"
      ],
      "metadata": {
        "id": "bqCHTv_ga7WK"
      }
    },
    {
      "cell_type": "markdown",
      "source": [
        "Fordere den User auf eine Zeichenkette einzugeben. Ersetze alle Leerzeichen durch Unterstriche (\"_\")."
      ],
      "metadata": {
        "id": "S9y-jkxvbIa1"
      }
    },
    {
      "cell_type": "code",
      "source": [
        "# DEIN CODE HIER"
      ],
      "metadata": {
        "id": "RZqqXVdHbF4q"
      },
      "execution_count": null,
      "outputs": []
    },
    {
      "cell_type": "markdown",
      "source": [
        "### 5.4.b Lösung - `replace()`"
      ],
      "metadata": {
        "id": "zNkggID6bbMp"
      }
    },
    {
      "cell_type": "code",
      "source": [
        "string = input(\"Gib einen Satz ein: \")\n",
        "string_unterstrich = string.replace(\" \", \"_\")\n",
        "print(string_unterstrich)"
      ],
      "metadata": {
        "colab": {
          "base_uri": "https://localhost:8080/"
        },
        "id": "QCW7YHCpbc98",
        "outputId": "6f6dc40e-591a-4484-8f94-9829bab49a8d"
      },
      "execution_count": null,
      "outputs": [
        {
          "output_type": "stream",
          "name": "stdout",
          "text": [
            "Gib einen Satz ein: das ist der wahnsinn!\n",
            "das_ist_der_wahnsinn!\n"
          ]
        }
      ]
    },
    {
      "cell_type": "markdown",
      "source": [
        "### 5.5.a Übung - Verkettungsoperator `+`"
      ],
      "metadata": {
        "id": "lr4OIWXSciJk"
      }
    },
    {
      "cell_type": "markdown",
      "source": [
        "Schreibe ein Programm, das den Benutzer nach seinem Benutzernamen und dem Domänennamen fragt und diese dann miteinander verknüft, um seine E-Mail-Adresse zu erstellen. Gib die resultierende E-Mail-Adresse in der Konsole aus.\n",
        "Beispiel:\n",
        "\n",
        "\n",
        "```\n",
        "Gib deinen Username ein: ada1815\n",
        "Gib den Namen deiner Domain ein: beispiel.com\n",
        "Deine E-Mail-Adresse ist: ada1815@beispiel.com\n",
        "\n",
        "```"
      ],
      "metadata": {
        "id": "VSUiD6O_cuH-"
      }
    },
    {
      "cell_type": "code",
      "source": [
        "# DEIN CODE HIER"
      ],
      "metadata": {
        "id": "TM29UdLNch76"
      },
      "execution_count": null,
      "outputs": []
    },
    {
      "cell_type": "markdown",
      "source": [
        "### 5.5.b Lösung - Verkettungsoperator `+`"
      ],
      "metadata": {
        "id": "OTpc42n9d2V6"
      }
    },
    {
      "cell_type": "code",
      "source": [
        "# Lösung\n",
        "username = input(\"Enter your username: \")\n",
        "domain = input(\"Enter your domain name: \")\n",
        "email = username + \"@\" + domain\n",
        "print(\"Deine E-Mail-Adresse ist: \", email)"
      ],
      "metadata": {
        "colab": {
          "base_uri": "https://localhost:8080/"
        },
        "id": "98scX2zacZEJ",
        "outputId": "772af874-b250-47b1-8461-619cb4116ff4"
      },
      "execution_count": null,
      "outputs": [
        {
          "output_type": "stream",
          "name": "stdout",
          "text": [
            "Enter your username: ada15\n",
            "Enter your domain name: beispiel.de\n",
            "Deine E-Mail-Adresse ist:  ada15@beispiel.de\n"
          ]
        }
      ]
    },
    {
      "cell_type": "markdown",
      "source": [
        "### 5.6.a Übung - Trinkgeldrechner"
      ],
      "metadata": {
        "id": "ednl8_ZJfLAu"
      }
    },
    {
      "cell_type": "markdown",
      "source": [
        "Wir wollen nun einen Trinkgeldrechner basteln\n",
        "* Forde den User auf, die Gesmatkosten für eine Mahlzeit einzugeben\n",
        "* Bitte de User, den Prozentsatz für das Trinkgeld einzugeben, den er geben möchte\n",
        "* Berechne den Trinkgeldbetrag nach der Formel:\n",
        "`(kosten_mahlzeit * prozentsatz_trinkgeld) /100 `\n",
        "\n",
        ""
      ],
      "metadata": {
        "id": "Vu0YLibwfQqj"
      }
    },
    {
      "cell_type": "code",
      "source": [
        "# DEIN CODE HIER"
      ],
      "metadata": {
        "id": "GM19ZEXNfRBG"
      },
      "execution_count": null,
      "outputs": []
    },
    {
      "cell_type": "markdown",
      "source": [
        "### 5.6.b Lösung - Trinkgeldrechner"
      ],
      "metadata": {
        "id": "PMyNTZSAgOZa"
      }
    },
    {
      "cell_type": "code",
      "source": [
        "# Lösung\n",
        "kosten_mahlzeit  = float(input(\"Gib die Gesamtkosten für die Mahlzeit ein: \"))\n",
        "prozentsatz_trinkgeld = float(input(\"Gib den Prozentsatz für das Trinkgeld ein, das Du geben möchtest: \"))\n",
        "trinkgeld = (kosten_mahlzeit * prozentsatz_trinkgeld) / 100\n",
        "print(\"Das Trinkgeld beträgt: \", trinkgeld)"
      ],
      "metadata": {
        "colab": {
          "base_uri": "https://localhost:8080/"
        },
        "id": "O4QjpuIegSAr",
        "outputId": "f82bf37f-71b0-44ea-a7d2-2d068d7c9029"
      },
      "execution_count": null,
      "outputs": [
        {
          "output_type": "stream",
          "name": "stdout",
          "text": [
            "Gib die Gesamtkosten für die Mahlzeit ein: 15.6\n",
            "Gib den Prozentsatz für das Trinkgeld ein, das Du geben möchtest: 20\n",
            "Das Trinkgeld beträgt:  3.12\n"
          ]
        }
      ]
    },
    {
      "cell_type": "markdown",
      "source": [
        "## 6. Schleifen 🔄"
      ],
      "metadata": {
        "id": "hHVrgA7Fwz69"
      }
    },
    {
      "cell_type": "markdown",
      "source": [
        "Schleifen sind ein wichtiges Konzept in der Programmierung, denn sie ermöglichen es uns, sich wiederholende Aufgaben zu automatisieren und große Datenmengen effizient zu verarbeiten. Beim maschinellen Lernen werden Schleifen in großem Umfang für Aufgaben wie das Trainieren von Modellen, die Verarbeitung von Daten und die Optimierung von Algorithmen verwendet. Beim Training eines Modells für maschinelles Lernen können wir beispielsweise eine Schleife verwenden, um die Trainingsdaten mehrmals zu wiederholen und die Parameter des Modells anzupassen, bis es genaue Vorhersagen liefert.\n",
        "\n",
        "In Python werden Schleifen verwendet, um einen Codeblock eine bestimmte Anzahl von Malen zu wiederholen oder bis eine bestimmte Bedingung erfüllt ist. Es gibt zwei Arten von Schleifen in Python: `for`-Schleifen und `while`-Schleifen."
      ],
      "metadata": {
        "id": "o_2rSsE0xQvs"
      }
    },
    {
      "cell_type": "markdown",
      "source": [
        "### 6.1 while-Schleifen"
      ],
      "metadata": {
        "id": "0XpoJJBMyuCc"
      }
    },
    {
      "cell_type": "markdown",
      "source": [
        "Eine `while`-Schleife wird verwendet, um einen Codeblock so lange zu wiederholen, wie eine bestimmte Bedingung erfüllt ist. Hier ist ein Beispiel für eine `while`-Schleife, die von 1 bis 5 zählt:"
      ],
      "metadata": {
        "id": "K6e0bXBOyztU"
      }
    },
    {
      "cell_type": "code",
      "source": [
        "count = 1\n",
        "\n",
        "while count <= 5:\n",
        "    print(count)\n",
        "    count += 1 #hier wird der alte Wert von count um 1 erhöht"
      ],
      "metadata": {
        "id": "nPDTWySxyt3M"
      },
      "execution_count": null,
      "outputs": []
    },
    {
      "cell_type": "markdown",
      "source": [
        "Wichtig zu beachten ist, dass die Befehle innerhalb der Schleife eingerückt sind -ansonten erhalten wir eine Fehlermeldung."
      ],
      "metadata": {
        "id": "F0cbaRNzykWm"
      }
    },
    {
      "cell_type": "markdown",
      "source": [
        "### 6.2 for-Schleifen"
      ],
      "metadata": {
        "id": "97rVK0c8xs88"
      }
    },
    {
      "cell_type": "markdown",
      "source": [
        "Eine `for`-Schleife wird verwendet, um eine Sequenz (z. B. eine Liste oder eine Zeichenkette) zu durchlaufen und einen Codeblock für jedes Element in der Sequenz auszuführen. In der nächsten Zelle folgt ein Beispiel für eine `for`-Schleife, die eine Liste von Zahlen durchläuft und jede Zahl ausgibt. Das Thema *Listen* wird im *Kapitel 8* separat thematisiert."
      ],
      "metadata": {
        "id": "6ybWYUR0xzAO"
      }
    },
    {
      "cell_type": "code",
      "source": [
        "zahlen = [1, 2, 3, 4]\n",
        "\n",
        "for zahl in zahlen:\n",
        "    print(zahl)"
      ],
      "metadata": {
        "colab": {
          "base_uri": "https://localhost:8080/"
        },
        "id": "3luwQVuqw5m4",
        "outputId": "fd1e1557-a281-416b-ab08-79ae061c823e"
      },
      "execution_count": null,
      "outputs": [
        {
          "output_type": "stream",
          "name": "stdout",
          "text": [
            "1\n",
            "2\n",
            "3\n",
            "4\n"
          ]
        }
      ]
    },
    {
      "cell_type": "markdown",
      "source": [
        "## 7. if-Bedingungen 🚦"
      ],
      "metadata": {
        "id": "GWfxgS0xzQ-o"
      }
    },
    {
      "cell_type": "markdown",
      "source": [
        "ff-Bedingungen werden verwendet, um Code abhängig von einer Bedingung auszuführen. Die Syntax für eine `if`-Bedingung in Python lautet wie folgt:\n",
        "```\n",
        "if bedingung:\n",
        "    # code der ausgeführt werden soll, wenn bedingung wahr ist\n",
        "```\n",
        "\n",
        "\n"
      ],
      "metadata": {
        "id": "vpi5sUHD0MzH"
      }
    },
    {
      "cell_type": "markdown",
      "source": [
        "Hier ist die Bedingung namens `bedingung` ein sogenannter *boolescher Ausdruck*, der entweder `True` oder `False` ist. Wenn die Bedingung `True` ist, wird der auf die `if`-Anweisung folgende Codeblock ausgeführt. Ist die Bedingung `False`, wird der Codeblock übersprungen."
      ],
      "metadata": {
        "id": "XH01CslD0k1_"
      }
    },
    {
      "cell_type": "markdown",
      "source": [
        "`if`-Bedingungen sind beim Programmieren wichtig, weil sie es dem Programm ermöglichen, Entscheidungen zu treffen und verschiedene Codepfade auf der Grundlage der Eingabe oder anderer Bedingungen auszuführen. Dies ist ein grundlegendes Konzept in der Programmierung und wird in fast jedem Programm verwendet.\n",
        "\n",
        "\n",
        "Beim maschinellen Lernen und der symbolischen KI werden if-Bedingungen verwendet, um Entscheidungen auf der Grundlage der analysierten Daten zu treffen. Bei einem Klassifizierungsproblem können if-Bedingungen beispielsweise verwendet werden, um zu bestimmen, zu welcher Klasse ein bestimmter Datenpunkt auf der Grundlage seiner Merkmale gehört.\n",
        "\n",
        "In der symbolischen KI werden if-Bedingungen in regelbasierten Systemen verwendet, um Entscheidungen auf der Grundlage einer Reihe von Regeln zu treffen. Diese Regeln können als if-Bedingungen ausgedrückt werden, und das System kann Entscheidungen auf der Grundlage der Eingabedaten und der Regeln treffen.\n",
        "\n",
        "Insgesamt sind if-Bedingungen ein wichtiges Konzept in der Programmierung und besonders wichtig für das maschinelle Lernen und die symbolische KI, da sie es dem System ermöglichen, Entscheidungen auf der Grundlage der Eingabedaten und anderer Bedingungen zu treffen."
      ],
      "metadata": {
        "id": "yeor4HvFz1Xx"
      }
    },
    {
      "cell_type": "markdown",
      "source": [
        "Wir können if-Bedingungen erstellen, indem wir Vergleichsoperatoren verwenden, um Werte oder Variablen zu vergleichen. Hier sind einige Beispiele:"
      ],
      "metadata": {
        "id": "iqdn_O-k05y4"
      }
    },
    {
      "cell_type": "code",
      "source": [
        "x = 10\n",
        "y = 4\n",
        "\n",
        "if x > y:\n",
        "    print(\"x ist größer als y\")\n",
        "\n",
        "if x == 10:\n",
        "    print(\"x ist gleich 10\")\n",
        "\n",
        "if x != y:\n",
        "    print(\"x ist nicht gleich y\")\n"
      ],
      "metadata": {
        "colab": {
          "base_uri": "https://localhost:8080/"
        },
        "id": "2qIeSg8LzSrW",
        "outputId": "0fea462e-c5eb-4949-f6b8-1358abdde9cb"
      },
      "execution_count": null,
      "outputs": [
        {
          "output_type": "stream",
          "name": "stdout",
          "text": [
            "x ist größer als y\n",
            "x ist gleich 10\n",
            "x ist nicht gleich y\n"
          ]
        }
      ]
    },
    {
      "cell_type": "markdown",
      "source": [
        "Im ersten Beispiel verwenden wir den Größer-als-Operator (`>`), um die Werte von `x` und `y` zu vergleichen. Da `x` größer als `y` ist, wird der Codeblock ausgeführt und die Meldung \"`x` ist größer als` y`\" ausgegeben.\n",
        "\n",
        "Im zweiten Beispiel wird der Gleichheitsoperator `(==)` verwendet, um den Wert von `x` mit der ganzen Zahl 10 zu vergleichen. Da `x` gleich 10 ist, wird der Codeblock ausgeführt und die Meldung \"x ist gleich 10\" ausgegeben.\n",
        "\n",
        "\n",
        "Im dritten Beispiel wird der Operator not-equal-to (`!=`) verwendet, um die Werte von `x` und `y` zu vergleichen. Da `x` nicht gleich `y` ist, wird der Codeblock ausgeführt und die Meldung \"x ist nicht gleich y\" ausgegeben."
      ],
      "metadata": {
        "id": "TI_rkteo1Fx4"
      }
    },
    {
      "cell_type": "markdown",
      "source": [
        "Hier ist eine Liste der Vergleichsoperatoren:\n",
        "* `==` bedeutet \"gleich\"\n",
        "* `!=` bedeutet \"ungleich\"\n",
        "* `<` bedeutet \"kleiner\"\n",
        "* `>` bedeutet \"größer\n",
        "* `<=` bedeutet \"kleiner oder gleich\"\n",
        "* `>=` bedeutet \"größer oder gleich\""
      ],
      "metadata": {
        "id": "Wjjw2QFT-RwF"
      }
    },
    {
      "cell_type": "markdown",
      "source": [
        "## 8. Übungen II - 🏋️‍♀️"
      ],
      "metadata": {
        "id": "bgqqX4rpiIuD"
      }
    },
    {
      "cell_type": "markdown",
      "source": [
        "### 8.1.a Übung - `while`-Schleife (Countdown)"
      ],
      "metadata": {
        "id": "v0eoBu7ciR9F"
      }
    },
    {
      "cell_type": "markdown",
      "source": [
        "Countdown: Schriebe ein Programm, das einen User auffordert eine Zahl einzugeben. Dann soll ein Countdown ausgegeben werden von dieser Zahl bis 0 (Null). Nutze eine while-Schleife dafür."
      ],
      "metadata": {
        "id": "clNKKX07iWNN"
      }
    },
    {
      "cell_type": "code",
      "source": [
        "# DEIN CODE HIER"
      ],
      "metadata": {
        "id": "SPineSngiWjw"
      },
      "execution_count": null,
      "outputs": []
    },
    {
      "cell_type": "markdown",
      "source": [
        "### 8.1.b Lösung - `while`-Schleife (Countdown)"
      ],
      "metadata": {
        "id": "3dKJcihEjUXt"
      }
    },
    {
      "cell_type": "code",
      "source": [
        "#Lösung\n",
        "\n",
        "zahl = int(input(\"Gib eine Zahl ein: \"))\n",
        "\n",
        "while zahl >= 0:\n",
        "    print(zahl)\n",
        "    zahl -= 1"
      ],
      "metadata": {
        "colab": {
          "base_uri": "https://localhost:8080/"
        },
        "id": "wM7XZk99jLPM",
        "outputId": "a8a1fba5-e97d-490f-c005-5b5920804e1b"
      },
      "execution_count": null,
      "outputs": [
        {
          "output_type": "stream",
          "name": "stdout",
          "text": [
            "Gib eine Zahl ein: 12\n",
            "12\n",
            "11\n",
            "10\n",
            "9\n",
            "8\n",
            "7\n",
            "6\n",
            "5\n",
            "4\n",
            "3\n",
            "2\n",
            "1\n",
            "0\n"
          ]
        }
      ]
    },
    {
      "cell_type": "markdown",
      "source": [
        "### 8.2.a Übung - `while`-Schleife (Passwortvalidierung)"
      ],
      "metadata": {
        "id": "OxRHuUD-jckB"
      }
    },
    {
      "cell_type": "markdown",
      "source": [
        "Schreibe ein Programm, das einen User auffordert ein Passwort einzugeben und solange nachfragt, bis das richtige Passwort eingegeben wurde - in anderen Worten: *solange* nicht das richige Passwort eingegeben wurde. Verwende dafür eine while-Schleife."
      ],
      "metadata": {
        "id": "og_hwznnjh3h"
      }
    },
    {
      "cell_type": "code",
      "source": [
        "# DEIN CODE HIER"
      ],
      "metadata": {
        "id": "xXHZO9cwjhpu"
      },
      "execution_count": null,
      "outputs": []
    },
    {
      "cell_type": "markdown",
      "source": [
        "### 8.2.b Lösung - `while`-Schleife (Passwortvalidierung)"
      ],
      "metadata": {
        "id": "jMCt-Z_hjye2"
      }
    },
    {
      "cell_type": "code",
      "source": [
        "#Lösung\n",
        "passwort = \"geheim\"\n",
        "user_input = \"\"\n",
        "\n",
        "while user_input != passwort:\n",
        "    user_input = input(\"Gib das Passwort ein: \")\n",
        "\n",
        "print(\"Zugang gewährt!\")"
      ],
      "metadata": {
        "colab": {
          "base_uri": "https://localhost:8080/"
        },
        "id": "SFnljgIPj249",
        "outputId": "87093aec-b960-4279-f9d8-375fdef5239d"
      },
      "execution_count": null,
      "outputs": [
        {
          "output_type": "stream",
          "name": "stdout",
          "text": [
            "Gib das Passwort ein: erdnussbutter\n",
            "Gib das Passwort ein: geheim\n",
            "Zugang gewährt!\n"
          ]
        }
      ]
    },
    {
      "cell_type": "markdown",
      "source": [
        "### 8.3.a Übung - `for`-Schleife & `if`-Bedingung(Wortfilter)"
      ],
      "metadata": {
        "id": "duxJdelRk-dP"
      }
    },
    {
      "cell_type": "markdown",
      "source": [
        "Schreibe ein Programm, das die untenstehende Liste `woerter` als Eingabe annimmt und nur die Strings ausgibt, die aus mehr als 5 Zeichen bestehen.\n",
        "`woerter = ['Apfel', 'Banane', 'Chicoree', 'Dattel', 'Erbse', 'Feige']`.\n",
        "\n",
        "**Hinweis**: Nutze dafür die Funktion `len(wort)`.`len(wort)` gibt die Länge des Strings `wort` zurück. Mit anderen Worten, sie gibt die Anzahl der Zeichen in des Strings zurück. Wenn `wort` zum Beispiel der String \"Hallo\" ist, gibt len(wort) die  Zahl `5` zurück, da \"Hallo\" 5 Zeichen hat."
      ],
      "metadata": {
        "id": "MiWhE5Blna0r"
      }
    },
    {
      "cell_type": "code",
      "source": [
        "# DEIN CODE HIER"
      ],
      "metadata": {
        "id": "xjgamljmmGJj"
      },
      "execution_count": null,
      "outputs": []
    },
    {
      "cell_type": "markdown",
      "source": [
        "### 8.3.b Lösung - `for`-Schleife & `if`-Bedingung (Wortfilter)"
      ],
      "metadata": {
        "id": "3n0sf7fsmKUv"
      }
    },
    {
      "cell_type": "code",
      "source": [
        "# Lösung\n",
        "woerter = ['Apfel', 'Banane', 'Chicoree', 'Dattel', 'Erbse', 'Feige']\n",
        "\n",
        "for wort in woerter:\n",
        "    if len(wort) > 5:\n",
        "        print(wort)"
      ],
      "metadata": {
        "colab": {
          "base_uri": "https://localhost:8080/"
        },
        "id": "nab0ov7NmGD9",
        "outputId": "42476e0b-b64b-4191-b564-7be759423834"
      },
      "execution_count": null,
      "outputs": [
        {
          "output_type": "stream",
          "name": "stdout",
          "text": [
            "Banane\n",
            "Chicoree\n",
            "Dattel\n"
          ]
        }
      ]
    },
    {
      "cell_type": "markdown",
      "source": [
        "### 8.4.a Übung - `if`-Bedingung (Rentnerrabatt)"
      ],
      "metadata": {
        "id": "OQpwYmj9pmEw"
      }
    },
    {
      "cell_type": "markdown",
      "source": [
        "Du erstellst ein Programm für einen Lebensmittelladen, das Rabatt auf Grundlage des Alters der Kunden berechnet. Kunden, die 65 Jahre oder älter sind, erhalten einen Rabatt von 10 %, alle anderen Kunden erhalten 5 %. Schreibe ein Programm, das Benutzer auffordert, ihr Alter einzugeben, dann den Rabatt berechnet und ausgibt."
      ],
      "metadata": {
        "id": "9-VFkH9ppxAI"
      }
    },
    {
      "cell_type": "code",
      "source": [
        "# DEIN CODE HIER"
      ],
      "metadata": {
        "id": "tyfdbvyWpwzV"
      },
      "execution_count": null,
      "outputs": []
    },
    {
      "cell_type": "markdown",
      "source": [
        "### 8.4.b Lösung - `if`-Bedingung (Rentnerrabatt)"
      ],
      "metadata": {
        "id": "-I89ClrIqHgl"
      }
    },
    {
      "cell_type": "code",
      "source": [
        "# Lösung\n",
        "\n",
        "alter = int(input(\"Bitte geben Sie Ihr Alter ein: \"))\n",
        "total_order = float(input(\"Bitte geben Sie den Gesamtbetrag der Rechnung ein: \"))\n",
        "\n",
        "if alter >= 65:\n",
        "    discount = 0.1 * total_order\n",
        "else:\n",
        "    discount = 0.05 * total_order\n",
        "\n",
        "print(\"Sie erhalten so viel Rabatt: \", discount)"
      ],
      "metadata": {
        "colab": {
          "base_uri": "https://localhost:8080/"
        },
        "id": "Ysdf9ORyqPwC",
        "outputId": "d9eb4067-45c1-4e84-a5d3-858d87d6f9d2"
      },
      "execution_count": null,
      "outputs": [
        {
          "output_type": "stream",
          "name": "stdout",
          "text": [
            "Bitte geben Sie Ihr Alter ein: 66\n",
            "Bitte geben Sie den Gesamtbetrag der Rechnung ein: 123\n",
            "Sie erhalten so viel Rabatt:  12.3\n"
          ]
        }
      ]
    },
    {
      "cell_type": "markdown",
      "source": [
        "## 9. Funktionen 📚"
      ],
      "metadata": {
        "id": "WPYx173F1pN8"
      }
    },
    {
      "cell_type": "markdown",
      "source": [
        "Funktionen sind Codeblöcke, die definiert und dann von anderen Teilen eines Programms aus aufgerufen werden können. Sie ermöglichen es Programmierenden, Code zu kapseln und ihn wiederverwendbar zu machen, was ein wichtiges Konzept in der Programmierung ist.\n",
        "\n",
        "\n",
        "In Python werden Funktionen mit dem Schlüsselwort `def` definiert, gefolgt von dem Funktionsnamen und den Argumenten, die die Funktion benötigt. Der Code innerhalb der Funktion wird dann eingerückt, und die Funktion kann von anderen Teilen des Programms aus namentlich aufgerufen werden.\n",
        "\n",
        "\n",
        "```\n",
        "def meine_funktion():\n",
        "  # code innerhalb der Funktion, der ausgeführt wird, wenn\n",
        "  # die Funktion meine_funktion() aufgerufen wird\n",
        "```\n",
        "\n",
        "\n",
        "\n",
        "Funktionen sind ein wichtiges Konzept in der Programmierung, da sie es den Programmierenden ermöglichen, komplexe Probleme in kleinere, besser handhabbare Teile zu zerlegen. Durch die Kapselung von Code in Funktionen wird der Code modularer und leichter zu verstehen, zu testen und zu warten. Funktionen machen den Code auch wiederverwendbar, da dieselbe Funktion von mehreren Teilen des Programms aus aufgerufen werden kann.\n",
        "\n",
        "\n",
        "Im Bereich des maschinellen Lernens und der symbolischen KI werden Funktionen sehr viel zur Definition von Modellen und Algorithmen verwendet. In einem neuronalen Netz kann zum Beispiel jede Schicht als Funktion definiert werden, die die Ausgabe der vorherigen Schicht als Eingabe nimmt und einige mathematische Operationen anwendet, um die Ausgabe der aktuellen Schicht zu erzeugen. Funktionen werden auch zur Definition von Fehlerfunktionen, Aktivierungsfunktionen und anderen Komponenten von Modellen für Machine Learning verwendet.\n",
        "\n",
        "\n",
        "In der symbolischen KI werden Funktionen verwendet, um die Regeln und die Logik des Systems zu definieren. In einem regelbasierten System kann zum Beispiel jede Regel als Funktion definiert werden, die die Eingabedaten als Argumente annimmt und einen booleschen Wert (wahr oder falsch)zurückgibt, der angibt, ob die Regel auf die Eingabe zutrifft.\n",
        "\n",
        "\n",
        "Insgesamt sind Funktionen ein wichtiges Konzept in der Programmierung, und sie sind besonders wichtig für das maschinelle Lernen und die symbolische KI, da sie es ermöglichen, komplexe Modelle und Algorithmen auf modulare und wiederverwendbare Weise zu definieren."
      ],
      "metadata": {
        "id": "q8mpFEiv2IS4"
      }
    },
    {
      "cell_type": "markdown",
      "source": [
        "### 9.1 Funktionen mit Wertrückgabe"
      ],
      "metadata": {
        "id": "6-D70nh63eJe"
      }
    },
    {
      "cell_type": "markdown",
      "source": [
        "\n",
        "**Syntax:**\n",
        "```\n",
        "def funktionsname(argument1, argument2, ...):\n",
        "    # funktionskörper\n",
        "    return ergegnis\n",
        "\n",
        "```\n",
        "\n"
      ],
      "metadata": {
        "id": "T0HDVvT93p1S"
      }
    },
    {
      "cell_type": "code",
      "source": [
        "def quadrat(x):\n",
        "    return x * x\n",
        "\n",
        "print(quadrat(3)) # Output: 9\n",
        "print(quadrat(4)) # Output: 16"
      ],
      "metadata": {
        "colab": {
          "base_uri": "https://localhost:8080/"
        },
        "id": "ydblYIbf1q7g",
        "outputId": "f6730792-37d9-4bc5-ed7b-1f27fb356684"
      },
      "execution_count": null,
      "outputs": [
        {
          "output_type": "stream",
          "name": "stdout",
          "text": [
            "9\n",
            "16\n"
          ]
        }
      ]
    },
    {
      "cell_type": "markdown",
      "source": [
        "In diesem Beispiel definieren wir eine Funktion mit dem Namen `quadrat`, die ein Argument, `x`, annimmt. Die Funktion gibt das Quadrat des Arguments `(x * x`) zurück. Wir rufen die Funktion zweimal mit unterschiedlichen Argumenten (3 und 4) auf und geben die Rückgabewerte aus, um zu zeigen, wie Funktionen mit Rückgabewerten verwendet werden können."
      ],
      "metadata": {
        "id": "L99Oy62L4F8c"
      }
    },
    {
      "cell_type": "markdown",
      "source": [
        "### 9.2 Funktionen ohne Rückgabewert"
      ],
      "metadata": {
        "id": "sHOG8FrH4TwJ"
      }
    },
    {
      "cell_type": "markdown",
      "source": [
        "**Syntax**\n",
        "\n",
        "```\n",
        "def funktionsname(argument1, argument2, ...):\n",
        "    # funktionskörper\n",
        "```"
      ],
      "metadata": {
        "id": "PSq47QbT4ZGX"
      }
    },
    {
      "cell_type": "code",
      "source": [
        "def gruesse(name,alter):\n",
        "    print(f\"Hallo meine Name ist {name} und ich bin {alter} Jahre alt!\")\n",
        "\n",
        "gruesse(\"Astrid\", 22) # => \"Hallo meine Name ist Astrid und ich bin 22 Jahre alt!\"\n",
        "gruesse(\"Bernhard\", 17) # => \"Hallo meine Name ist Bernhard und ich bin 17 Jahre alt!\""
      ],
      "metadata": {
        "colab": {
          "base_uri": "https://localhost:8080/"
        },
        "id": "ve4pZxyd4MkK",
        "outputId": "1c93092b-8a6d-448a-9e8a-2c38143c2515"
      },
      "execution_count": null,
      "outputs": [
        {
          "output_type": "stream",
          "name": "stdout",
          "text": [
            "Hallo meine Name ist Astrid und ich bin 22 Jahre alt!\n",
            "Hallo meine Name ist Bernhard und ich bin 17 Jahre alt!\n"
          ]
        }
      ]
    },
    {
      "cell_type": "markdown",
      "source": [
        "In diesem Beispiel definieren wir die Funktion gruesse(), die eine eine Begrüßungsnachricht ausgibt. Wir rufen die Funktion zweimal mit unterschiedlichen Argumenten ((\"Astrid\",22) und (\"Bernhard\",17)) auf, um zu zeigen, wie Funktionen ohne Rückgabewerte verwendet werden können, um Code zu kapseln, der eine bestimmte Aufgabe ausführt.\n",
        "\n",
        "\n",
        "In der` print()`-Anweisung zeigt das `f` vor der Zeichenkette an, dass es sich um eine formatierte Zeichenkette handelt. Bei einer formatierten Zeichenkette kannst Du Variablen und Ausdrücke direkt in eine Zeichenkette einfügen, indem Du Platzhalter verwendest, die in geschweifte Klammern {} eingeschlossen sind."
      ],
      "metadata": {
        "id": "piYI8fo14vBP"
      }
    },
    {
      "cell_type": "markdown",
      "source": [
        "## 10. Übungen III 🏋️‍♀️\n",
        "In dieser abschließenden Übung wollen wir alles kombinieren, was wir gelernt haben."
      ],
      "metadata": {
        "id": "Vquh_HUdrxqk"
      }
    },
    {
      "cell_type": "markdown",
      "source": [
        "### 10.1.a Übung - Buchladen"
      ],
      "metadata": {
        "id": "Iwmshnitr_GM"
      }
    },
    {
      "cell_type": "markdown",
      "source": [
        "Du arbeitest in einem Buchladen und musst die Gesamtsumme einer Kundenbestellung berechnen. Du sollst eine Funktion erstellen, die die Kosten eines Buches auf der Grundlage seines Preise und der Frage, ob es neu oder gebraucht ist, berechnet. Wenn das Buch gebraucht ist, dann gibt es einen Rabatt von 20 %. Außerdem sollst du den Kunden fragen nach dem Titel des Buches, nach dem Preis des Buches, und ob es 'neu' oder 'gebraucht' ist. Mache dies solange bis der Kunde 'fertig' eingibt.\n",
        "\n",
        "Es ist wichtig für das Programm, dass die Preiseingabe vom Datentyp `float` ist - für weitere Infos zu Datentypen siehe unten. Um das zu bewerkstelligen, nutzen wir folgenden Code: `preis_buch = float(input(\"Gib den Preis des Buches ein: \"))`\n",
        "\n",
        "Es wird ein bisschen kniffelig sein dieses Programm zu schreiben, daher haben wir unten Hinweise bereit gestellt. Versuche dennoch die Aufgabe erstmal ohne Hinweise zu lösen."
      ],
      "metadata": {
        "id": "QhVsos_lr27B"
      }
    },
    {
      "cell_type": "code",
      "source": [
        "# DEIN CODE"
      ],
      "metadata": {
        "id": "UyVFcQTcs4Qt"
      },
      "execution_count": null,
      "outputs": []
    },
    {
      "cell_type": "markdown",
      "source": [
        "### 10.1.b Hinweise - Buchladen"
      ],
      "metadata": {
        "id": "PyUrIBaouCvE"
      }
    },
    {
      "cell_type": "markdown",
      "source": [
        "*  Definiere eine Funktion namens \"berechne_kosten_buch\", die drei Argumente entgegennimmt: `titel_buch` (ein `string`), `preis_buch` (ein `float`), `zustand_buch` (ein `string`, der entweder `'neu'` oder `'gebraucht'` sein darf).\n",
        "\n",
        "  * In der Funktion verwende eine if-Bedingung, um zu prüfen, ob `zustand_buch` `'gebraucht'` ist.\n",
        "  * Wenn ja, berechne den Rabatt, in dem du preis_buch mit` 0.2 ` multiplizierst und von `preis_buch` abziehst.\n",
        "  * Gib den Endrpreis des Buches zurück (`return`)\n",
        "\n",
        "* Leg eine Variable an, um die Gesamtkosten zu berechnen.\n",
        "\n",
        "* Erstelle eine Schleife, die User auffordert, den Titel, den Preis und den Zustand des Buches einzugeben, bis diese `'fertig'` eingegeben haben. Nutze die zuvor erstellte Funktion um den tatsächlichen Preis des Buches zu bestimmen (ggf. abzüglich Rabatt). Füge den Gesamtkosten den tatsächlichen Preis des aktuellen Buches hinzu.\n",
        "\n",
        "* Gib die Gesamtkosten der Bestellung aus."
      ],
      "metadata": {
        "id": "lpt0NphCuEsK"
      }
    },
    {
      "cell_type": "markdown",
      "source": [
        "### 10.1.c Lösung - Buchladen"
      ],
      "metadata": {
        "id": "xVqYPHxHsKFu"
      }
    },
    {
      "cell_type": "code",
      "source": [
        "# Lösung\n",
        "\n",
        "def berechne_kosten_buch(titel_buch, preis_buch, zustand_buch):\n",
        "    if zustand_buch == \"gebraucht\":\n",
        "        preis_buch -= preis_buch * 0.2\n",
        "    return preis_buch\n",
        "\n",
        "kosten_gesamt = 0\n",
        "titel_buch = input(\"Gib den Titel des Buches ein (oder 'fertig' zum Beenden): \")\n",
        "\n",
        "while titel_buch != \"fertig\":\n",
        "    preis_buch = float(input(\"Gib den Preis des Buches ein: \"))\n",
        "    zustand_buch = input(\"Gib den Zustand des Buches ein (neu/gebraucht): \")\n",
        "    preis_buch = berechne_kosten_buch(titel_buch, preis_buch, zustand_buch)\n",
        "    kosten_gesamt += preis_buch\n",
        "    titel_buch = input(\"Gib den Titel des Buches ein (oder 'fertig' zum Beenden): \")\n",
        "\n",
        "print(\"Die Gesamtkosten der Bestellung beträgt: €\", kosten_gesamt)"
      ],
      "metadata": {
        "colab": {
          "base_uri": "https://localhost:8080/"
        },
        "id": "rYO7dsySs9vY",
        "outputId": "e910af2a-261f-4f65-89ba-2d31d2e0e544"
      },
      "execution_count": null,
      "outputs": [
        {
          "output_type": "stream",
          "name": "stdout",
          "text": [
            "Gib den Titel des Buches ein (oder 'fertig' zum Beenden): Harry Potter\n",
            "Gib den Preis des Buches ein: 20\n",
            "Gib den Zustand des Buches ein (neu/gebraucht): gebraucht\n",
            "Gib den Titel des Buches ein (oder 'fertig' zum Beenden): Minerva Luisa\n",
            "Gib den Preis des Buches ein: 6\n",
            "Gib den Zustand des Buches ein (neu/gebraucht): neu\n",
            "Gib den Titel des Buches ein (oder 'fertig' zum Beenden): fertig\n",
            "Die Gesamtkosten der Bestellung beträgt: € 22.0\n"
          ]
        }
      ]
    },
    {
      "cell_type": "markdown",
      "source": [
        "## 11. Weitere Bonus-Themen 🎁\n",
        "\n",
        "Hier folgen ein paar weiterführende Themen für interessierte."
      ],
      "metadata": {
        "id": "7MbFIS3M6OHa"
      }
    },
    {
      "cell_type": "markdown",
      "source": [
        "### 11.1 Datentypen 🗂️"
      ],
      "metadata": {
        "id": "5Z5zh2Me6t5I"
      }
    },
    {
      "cell_type": "markdown",
      "source": [
        "In Python beziehen sich Datentypen auf die Art der Daten, die eine Variable enthalten kann. Die gebräuchlichsten Datentypen in Python sind:\n",
        "\n",
        "\n",
        "*  `integer`: Ganze Zahlen, wie z. B. 1, 2, 3, -4, -5, usw.\n",
        "\n",
        "*  `float`: Zahlen mit Dezimal**punkten** (und nicht Kommas), z. B. 1.0, 2.5, -3.14, usw.\n",
        "\n",
        "*  `string`: Textuelle Daten, wie \"Hallo\", \"Welt\", \"Python\" usw.\n",
        "\n",
        "* `boolean`: Wahr- oder Falsch-Werte.\n",
        "\n",
        "\n",
        "Python verfügt auch über andere integrierte Datentypen wie *Listen, Tupel und Wörterbücher*, die mehrere Werte enthalten können. Auf Listen in Python gehen wir gleich noch ein. Die anderen Datentypen werden wir nicht mehr behandeln, da sie etwas fortgeschrittener sind und wir sie erstmal nicht benötigen werden."
      ],
      "metadata": {
        "id": "OZW8IQNA6w8B"
      }
    },
    {
      "cell_type": "markdown",
      "source": [
        "Datentypen sind ein wichtiges Konzept in der Programmierung, da sie bestimmen, wie Daten in einem Programm gespeichert und bearbeitet werden. Verschiedene Datentypen haben unterschiedliche Eigenschaften und Verhaltensweisen, die die Arbeitsweise eines Programms beeinflussen können. So können beispielsweise arithmetische Operationen mit Ganzzahlen und Fließkommazahlen **zu unterschiedlichen Ergebnissen führe**n, und die Bearbeitung von Zeichenketten erfordert andere Methoden als die Bearbeitung von Zahlen.\n",
        "\n",
        "\n",
        "Datentypen sind beim maschinellen Lernen und der symbolischen KI wichtig, weil sie uns helfen zu verstehen, wie Informationen in einem Programm gespeichert und verwendet werden. Verschiedene Datentypen, wie Zahlen und Wörter, werden unterschiedlich gespeichert und können auf unterschiedliche Weise verwendet werden. Dies ist wichtig, weil die Art und Weise, wie wir Daten verwenden, die Funktionsweise eines Programms beeinflusst. In einem neuronalen Netz müssen wir beispielsweise mathematische Verfahren anwenden, um die Daten anzupassen und sicherzustellen, dass sie alle in der gleichen Größenordnung liegen. Bei symbolischer KI kann die Art und Weise, wie wir Ideen ausdrücken, beeinflussen wie das Programm Entscheidungen trifft."
      ],
      "metadata": {
        "id": "tqtNRQMf7TMS"
      }
    },
    {
      "cell_type": "markdown",
      "source": [
        "Um zwischen Datentypen zu konvertieren, kannst Du Funktionen verwenden. Um beispielsweise eine Zeichenkette in eine Ganzzahl zu konvertieren, kannst Du die Funktion `int()` verwenden, und um eine Ganzzahl oder eine Fließkommazahl in eine Zeichenkette zu konvertieren, kannst Du die Funktion `str()` verwenden.\n"
      ],
      "metadata": {
        "id": "tXkWetBo7QJN"
      }
    },
    {
      "cell_type": "code",
      "source": [
        "# string => integer\n",
        "zahl_str = \"13\"\n",
        "zahl_int = int(zahl_str)\n",
        "print(zahl_int)\n",
        "\n",
        "#flaot => integer\n",
        "zahl_float = 3.14\n",
        "zahl_int = int(zahl_float)\n",
        "print(zahl_int)\n",
        "\n",
        "#integer => string\n",
        "zahl_int = 42\n",
        "zahl_str = str(zahl_int)\n",
        "print(zahl_str)\n",
        "\n",
        "#boolean => string\n",
        "ist_wahr = True\n",
        "bool_str = str(ist_wahr)\n",
        "print(bool_str)"
      ],
      "metadata": {
        "colab": {
          "base_uri": "https://localhost:8080/"
        },
        "id": "iN-o6mCB6SRx",
        "outputId": "7b18bff9-0fa1-412d-b4b4-fb62db9264bb"
      },
      "execution_count": null,
      "outputs": [
        {
          "output_type": "stream",
          "name": "stdout",
          "text": [
            "13\n",
            "3\n",
            "42\n",
            "True\n"
          ]
        }
      ]
    },
    {
      "cell_type": "markdown",
      "source": [
        "### 11.2 Listen und Arrays 📜"
      ],
      "metadata": {
        "id": "UHLC6R-d-K7B"
      }
    },
    {
      "cell_type": "markdown",
      "source": [
        "#### 11.2.1 Listen"
      ],
      "metadata": {
        "id": "4UGwbt5PEvTw"
      }
    },
    {
      "cell_type": "markdown",
      "source": [
        "In Python ist eine *Liste* eine geordnete Sammlung von Elementen, die verschiedene Datentypen haben können, z. B. Integer, Strings oder sogar andere Listen.\n",
        "\n",
        "Im Allgemeinen sind Listen ein wichtiges Konzept in der Programmierung, da sie eine Möglichkeit bieten, große Datenmengen zu speichern und zu bearbeiten. Im Kontext des maschinellen Lernens und der symbolischen KI sind Listen besonders wichtig, da sie häufig zum Speichern und Verarbeiten großer Datensätze verwendet werden, die dann zum Trainieren von Modellen oder für Schlussfolgerungen eingesetzt werden.\n",
        "\n",
        "Hier sind Beispiele wie Listen in Python benutzt werden:"
      ],
      "metadata": {
        "id": "ucOycD4KBwFQ"
      }
    },
    {
      "cell_type": "code",
      "source": [
        "# Listen mit \"einfachem\" Python - ohne Bibliotheken\n",
        "\n",
        "# Liste erstellen\n",
        "meine_liste = [1, 2, 3, 4, 5, 6]\n",
        "\n",
        "# Auf ein Element in der Liste zugreifen\n",
        "print(meine_liste[1])  # Output: 2\n",
        "print(meine_liste[0])  # Output: 1\n",
        "\n",
        "# Ein Element der Liste ändern\n",
        "meine_liste[0] = 0\n",
        "print(meine_liste)  # Output: [0, 2, 3, 4, 5]\n"
      ],
      "metadata": {
        "id": "RhSe4BT4-N82"
      },
      "execution_count": null,
      "outputs": []
    },
    {
      "cell_type": "markdown",
      "source": [
        "**wichtiger Hinweis:** In Python beginnt die Indizierung von Listen bei 0, d. h. das erste Element in einer Liste hat den Index 0, das zweite Element hat den Index 1 und so weiter. Daher bezieht sich `meine_liste[1]` auf das zweite Element in der Liste, und `meine_liste[0]` auf das erste Element."
      ],
      "metadata": {
        "id": "rP6iuDmZChoR"
      }
    },
    {
      "cell_type": "markdown",
      "source": [
        "#### 11.2.2 Arrays"
      ],
      "metadata": {
        "id": "2oWX3neXEzOI"
      }
    },
    {
      "cell_type": "markdown",
      "source": [
        "Schauen wir uns nun an, wie man das Gleiche mit NumPy machen kann. NumPy ist eine Pyhton-Bibliothek, die eine schnelle und effiziente Möglichkeit bietet, mit großen Arrays und Matrizen zu arbeiten."
      ],
      "metadata": {
        "id": "j29ObCryDSgI"
      }
    },
    {
      "cell_type": "code",
      "source": [
        "import numpy as np\n",
        "\n",
        "# NumPy-Array erstellen\n",
        "mein_array = np.array([1, 2, 3, 4, 5])\n",
        "\n",
        "# Auf ein Element im Array zugreifen\n",
        "print(my_array[0])  # Output: 1\n",
        "\n",
        "# Ein Element im Array ändern\n",
        "my_array[0] = 0\n",
        "print(my_array)  # Output: [0, 2, 3, 4, 5]\n"
      ],
      "metadata": {
        "id": "fD5nAt7uEPdC"
      },
      "execution_count": null,
      "outputs": []
    },
    {
      "cell_type": "markdown",
      "source": [
        "**Zwischenfrage:** Was sind eigentlich Arrays und Matrizen? Was unterscheidet sie von Listen?\n",
        "\n",
        "\n",
        "**Antwort:** Arrays und Matrizen ähneln den Listen in Python insofern, als sie mehrere Werte speichern können, aber sie werden für bestimmte Zwecke verwendet.\n",
        "\n",
        "\n",
        "Ein Array ist eine Sammlung von Elementen desselben Datentyps, die zusammen im Speicher abgelegt werden. Es wird für numerische Berechnungen verwendet und ist effizienter als eine Liste, da die Elemente zusammenhängend im Speicher gespeichert werden, wodurch der Zugriff auf sie schneller erfolgt.\n",
        "\n",
        "\n",
        "Eine Matrix ist ein zweidimensionales Feld mit Zeilen und Spalten. Sie wird für Berechnungen in der linearen Algebra verwendet, z. B. zum Lösen von linearen Gleichungssystemen und zum Ermitteln von Eigenwerten und Eigenvektoren.\n",
        "\n",
        "\n",
        "Im Gegensatz dazu ist eine Liste eine Sammlung von Elementen eines beliebigen Datentyps. Sie ist vielseitiger als ein Array oder eine Matrix, da sie Elemente verschiedener Datentypen speichern und ihre Größe dynamisch ändern kann. Da Listen jedoch flexibler sind, sind sie für numerische Berechnungen weniger effizient.\n",
        "\n",
        "\n",
        "Insgesamt werden Arrays und Matrizen für numerische Berechnungen verwendet, während Listen für die Speicherung von Sammlungen von Elementen verschiedener Datentypen verwendet werden. Arrays und Matrizen werden sehr viel in Machine Learning verwendet."
      ],
      "metadata": {
        "id": "cUni02m3D3RN"
      }
    },
    {
      "cell_type": "markdown",
      "source": [
        "Wie Du sehen kannst, ist die Syntax für die Erstellung und den Zugriff auf ein NumPy-Array sehr ähnlich wie die einer normalen Python-Liste. Allerdings bieten NumPy-Arrays bei der Arbeit mit großen Datenmengen mehrere Vorteile gegenüber normalen Python-Listen, insbesondere im Kontext von Künstlicher Intelligenz. Einige dieser Vorteile sind:\n",
        "\n",
        "\n",
        "* NumPy-Arrays sind effizienter und schneller als  \"normale\" Python-Listen, insbesondere bei der Durchführung mathematischer Operationen mit großen Datenmengen.\n",
        "\n",
        "* NumPy bietet eine große Anzahl eingebauter Funktionen zur Durchführung von Operationen auf Arrays, wie z. B. die Berechnung des Mittelwerts oder der Standardabweichung der Daten.\n",
        "\n",
        "* NumPy-Arrays können leicht umgestaltet oder transformiert werden, um an verschiedene Dimensionen oder Formen angepasst zu werden, was sie ideal für maschinelle Lernaufgaben wie die Bildverarbeitung macht."
      ],
      "metadata": {
        "id": "FEwWOnN3E7f0"
      }
    },
    {
      "cell_type": "markdown",
      "source": [
        "## 12. Abschluss"
      ],
      "metadata": {
        "id": "u-gTIPrGHi5k"
      }
    },
    {
      "cell_type": "markdown",
      "source": [
        "Herzlichen Glückwunsch, dass Du diese Lektion abgeschlossen hast! 😊🎉 Im Laufe dieser Lektion hast Du die Grundlagen der Python-Programmierung gelernt, darunter Variablen, Datentypen, In- und Output, if-Bedingungen, Schleifen, Funktionen, Listen und Numpy-Arrays.\n",
        "\n",
        "Durch das Bewältigen dieser Aufgaben hast Du eine solide Grundlage für die Erstellung eigener KI-Projekte in Python geschaffen. Super gemacht ! ✨🤗"
      ],
      "metadata": {
        "id": "wGLJsigCIACM"
      }
    }
  ]
}